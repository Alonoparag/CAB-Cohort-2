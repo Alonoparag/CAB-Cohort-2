{
 "metadata": {
  "language_info": {
   "codemirror_mode": {
    "name": "ipython",
    "version": 3
   },
   "file_extension": ".py",
   "mimetype": "text/x-python",
   "name": "python",
   "nbconvert_exporter": "python",
   "pygments_lexer": "ipython3",
   "version": "3.9.4"
  },
  "orig_nbformat": 2,
  "kernelspec": {
   "name": "python394jvsc74a57bd0767d51c1340bd893661ea55ea3124f6de3c7a262a8b4abca0554b478b1e2ff90",
   "display_name": "Python 3.9.4 64-bit"
  },
  "metadata": {
   "interpreter": {
    "hash": "e7370f93d1d0cde622a1f8e1c04877d8463912d04d973331ad4851f04de6915a"
   }
  }
 },
 "nbformat": 4,
 "nbformat_minor": 2,
 "cells": [
  {
   "cell_type": "code",
   "execution_count": 32,
   "metadata": {},
   "outputs": [],
   "source": [
    "import pandas as pd\n",
    "import numpy as np\n",
    "import matplotlib.pyplot as plt\n",
    "import model_evaluation_utils as meu\n",
    "from sklearn.model_selection import train_test_split\n",
    "from collections import Counter\n",
    "from sklearn.preprocessing import StandardScaler\n",
    "from sklearn.preprocessing import LabelEncoder\n",
    "df_wines = pd.read_csv('wine-quality/wine_quality_combined.csv')\n",
    "df_red=pd.read_csv('wine-quality/wine_quality_red.csv')\n",
    "df_white=pd.read_csv('wine-quality/wine_quality_white.csv')"
   ]
  },
  {
   "cell_type": "code",
   "execution_count": 123,
   "metadata": {},
   "outputs": [],
   "source": [
    "df_shuffled = df_wines.sample(frac=1).reset_index(drop=True)\n",
    "shuffled_wines_features = df_shuffled.iloc[:,:-3]\n",
    "shuffled_wines_features_names = shuffled_wines_features.columns\n",
    "shuffled_wines_class_labels = np.array(df_shuffled['wine type'])\n",
    "shuffled_wines_train_X,shuffled_wines_test_X,shuffled_wines_train_y,shuffled_wines_test_y = train_test_split(shuffled_wines_features,shuffled_wines_class_labels, test_size=0.999, random_state=42)"
   ]
  },
  {
   "cell_type": "code",
   "execution_count": 88,
   "metadata": {},
   "outputs": [
    {
     "output_type": "execute_result",
     "data": {
      "text/plain": [
       "      fixed acidity  volatile acidity  citric acid  residual sugar  chlorides  \\\n",
       "3103            7.0              0.17         0.74            12.8      0.045   \n",
       "1419            7.7              0.64         0.21             2.2      0.077   \n",
       "4761            6.8              0.39         0.34             7.4      0.020   \n",
       "4690            6.3              0.28         0.47            11.2      0.040   \n",
       "4032            7.4              0.35         0.20            13.9      0.054   \n",
       "...             ...               ...          ...             ...        ...   \n",
       "3301            6.5              0.27         0.19             4.2      0.046   \n",
       "3324            6.9              0.17         0.22             4.6      0.064   \n",
       "2539            6.2              0.34         0.28             7.5      0.034   \n",
       "953            10.2              0.34         0.48             2.1      0.052   \n",
       "4846            7.7              0.27         0.49             3.8      0.037   \n",
       "\n",
       "      free sulfur dioxide  total sulfur dioxide  density    pH  sulphates  \\\n",
       "3103                 24.0                 126.0  0.99420  3.26       0.38   \n",
       "1419                 32.0                 133.0  0.99560  3.27       0.45   \n",
       "4761                 38.0                 133.0  0.99212  3.18       0.44   \n",
       "4690                 61.0                 183.0  0.99592  3.12       0.51   \n",
       "4032                 63.0                 229.0  0.99888  3.11       0.50   \n",
       "...                   ...                   ...      ...   ...        ...   \n",
       "3301                  6.0                 114.0  0.99550  3.25       0.35   \n",
       "3324                 55.0                 152.0  0.99520  3.29       0.37   \n",
       "2539                 40.0                 197.0  0.99485  3.14       0.60   \n",
       "953                   5.0                   9.0  0.99458  3.20       0.69   \n",
       "4846                 46.0                 139.0  0.99116  3.04       0.38   \n",
       "\n",
       "      alcohol  \n",
       "3103     12.2  \n",
       "1419      9.9  \n",
       "4761     12.0  \n",
       "4690      9.5  \n",
       "4032      8.9  \n",
       "...       ...  \n",
       "3301      8.6  \n",
       "3324      9.3  \n",
       "2539      9.7  \n",
       "953      12.1  \n",
       "4846     11.6  \n",
       "\n",
       "[5848 rows x 11 columns]"
      ],
      "text/html": "<div>\n<style scoped>\n    .dataframe tbody tr th:only-of-type {\n        vertical-align: middle;\n    }\n\n    .dataframe tbody tr th {\n        vertical-align: top;\n    }\n\n    .dataframe thead th {\n        text-align: right;\n    }\n</style>\n<table border=\"1\" class=\"dataframe\">\n  <thead>\n    <tr style=\"text-align: right;\">\n      <th></th>\n      <th>fixed acidity</th>\n      <th>volatile acidity</th>\n      <th>citric acid</th>\n      <th>residual sugar</th>\n      <th>chlorides</th>\n      <th>free sulfur dioxide</th>\n      <th>total sulfur dioxide</th>\n      <th>density</th>\n      <th>pH</th>\n      <th>sulphates</th>\n      <th>alcohol</th>\n    </tr>\n  </thead>\n  <tbody>\n    <tr>\n      <th>3103</th>\n      <td>7.0</td>\n      <td>0.17</td>\n      <td>0.74</td>\n      <td>12.8</td>\n      <td>0.045</td>\n      <td>24.0</td>\n      <td>126.0</td>\n      <td>0.99420</td>\n      <td>3.26</td>\n      <td>0.38</td>\n      <td>12.2</td>\n    </tr>\n    <tr>\n      <th>1419</th>\n      <td>7.7</td>\n      <td>0.64</td>\n      <td>0.21</td>\n      <td>2.2</td>\n      <td>0.077</td>\n      <td>32.0</td>\n      <td>133.0</td>\n      <td>0.99560</td>\n      <td>3.27</td>\n      <td>0.45</td>\n      <td>9.9</td>\n    </tr>\n    <tr>\n      <th>4761</th>\n      <td>6.8</td>\n      <td>0.39</td>\n      <td>0.34</td>\n      <td>7.4</td>\n      <td>0.020</td>\n      <td>38.0</td>\n      <td>133.0</td>\n      <td>0.99212</td>\n      <td>3.18</td>\n      <td>0.44</td>\n      <td>12.0</td>\n    </tr>\n    <tr>\n      <th>4690</th>\n      <td>6.3</td>\n      <td>0.28</td>\n      <td>0.47</td>\n      <td>11.2</td>\n      <td>0.040</td>\n      <td>61.0</td>\n      <td>183.0</td>\n      <td>0.99592</td>\n      <td>3.12</td>\n      <td>0.51</td>\n      <td>9.5</td>\n    </tr>\n    <tr>\n      <th>4032</th>\n      <td>7.4</td>\n      <td>0.35</td>\n      <td>0.20</td>\n      <td>13.9</td>\n      <td>0.054</td>\n      <td>63.0</td>\n      <td>229.0</td>\n      <td>0.99888</td>\n      <td>3.11</td>\n      <td>0.50</td>\n      <td>8.9</td>\n    </tr>\n    <tr>\n      <th>...</th>\n      <td>...</td>\n      <td>...</td>\n      <td>...</td>\n      <td>...</td>\n      <td>...</td>\n      <td>...</td>\n      <td>...</td>\n      <td>...</td>\n      <td>...</td>\n      <td>...</td>\n      <td>...</td>\n    </tr>\n    <tr>\n      <th>3301</th>\n      <td>6.5</td>\n      <td>0.27</td>\n      <td>0.19</td>\n      <td>4.2</td>\n      <td>0.046</td>\n      <td>6.0</td>\n      <td>114.0</td>\n      <td>0.99550</td>\n      <td>3.25</td>\n      <td>0.35</td>\n      <td>8.6</td>\n    </tr>\n    <tr>\n      <th>3324</th>\n      <td>6.9</td>\n      <td>0.17</td>\n      <td>0.22</td>\n      <td>4.6</td>\n      <td>0.064</td>\n      <td>55.0</td>\n      <td>152.0</td>\n      <td>0.99520</td>\n      <td>3.29</td>\n      <td>0.37</td>\n      <td>9.3</td>\n    </tr>\n    <tr>\n      <th>2539</th>\n      <td>6.2</td>\n      <td>0.34</td>\n      <td>0.28</td>\n      <td>7.5</td>\n      <td>0.034</td>\n      <td>40.0</td>\n      <td>197.0</td>\n      <td>0.99485</td>\n      <td>3.14</td>\n      <td>0.60</td>\n      <td>9.7</td>\n    </tr>\n    <tr>\n      <th>953</th>\n      <td>10.2</td>\n      <td>0.34</td>\n      <td>0.48</td>\n      <td>2.1</td>\n      <td>0.052</td>\n      <td>5.0</td>\n      <td>9.0</td>\n      <td>0.99458</td>\n      <td>3.20</td>\n      <td>0.69</td>\n      <td>12.1</td>\n    </tr>\n    <tr>\n      <th>4846</th>\n      <td>7.7</td>\n      <td>0.27</td>\n      <td>0.49</td>\n      <td>3.8</td>\n      <td>0.037</td>\n      <td>46.0</td>\n      <td>139.0</td>\n      <td>0.99116</td>\n      <td>3.04</td>\n      <td>0.38</td>\n      <td>11.6</td>\n    </tr>\n  </tbody>\n</table>\n<p>5848 rows × 11 columns</p>\n</div>"
     },
     "metadata": {},
     "execution_count": 88
    }
   ],
   "source": [
    "wines_test_X"
   ]
  },
  {
   "cell_type": "code",
   "execution_count": 34,
   "metadata": {},
   "outputs": [],
   "source": [
    "df_balanced=df_wines.iloc[:3198]"
   ]
  },
  {
   "cell_type": "code",
   "execution_count": 35,
   "metadata": {},
   "outputs": [
    {
     "output_type": "execute_result",
     "data": {
      "text/plain": [
       "count     3198\n",
       "unique       2\n",
       "top        red\n",
       "freq      1599\n",
       "Name: wine type, dtype: object"
      ]
     },
     "metadata": {},
     "execution_count": 35
    }
   ],
   "source": [
    "df_balanced['wine type'].describe()"
   ]
  },
  {
   "cell_type": "code",
   "execution_count": 36,
   "metadata": {},
   "outputs": [
    {
     "output_type": "execute_result",
     "data": {
      "text/plain": [
       "red      1599\n",
       "white    1599\n",
       "Name: wine type, dtype: int64"
      ]
     },
     "metadata": {},
     "execution_count": 36
    }
   ],
   "source": [
    "df_balanced['wine type'].value_counts()"
   ]
  },
  {
   "cell_type": "code",
   "execution_count": 37,
   "metadata": {},
   "outputs": [
    {
     "output_type": "execute_result",
     "data": {
      "text/plain": [
       "sklearn.preprocessing._data.StandardScaler"
      ]
     },
     "metadata": {},
     "execution_count": 37
    }
   ],
   "source": [
    "StandardScaler"
   ]
  },
  {
   "cell_type": "code",
   "execution_count": 38,
   "metadata": {},
   "outputs": [
    {
     "output_type": "execute_result",
     "data": {
      "text/plain": [
       "      fixed acidity  volatile acidity  citric acid  residual sugar  chlorides  \\\n",
       "0               6.7             0.300         0.74             5.0      0.038   \n",
       "1               5.7             0.100         0.27             1.3      0.047   \n",
       "2               7.7             0.270         0.49             1.8      0.041   \n",
       "3               8.8             0.550         0.04             2.2      0.119   \n",
       "4               7.4             0.240         0.42            14.0      0.066   \n",
       "...             ...               ...          ...             ...        ...   \n",
       "3193            8.6             0.520         0.38             1.5      0.096   \n",
       "3194            7.9             0.140         0.45             1.8      0.050   \n",
       "3195            5.2             0.440         0.04             1.4      0.036   \n",
       "3196            6.6             0.855         0.02             2.4      0.062   \n",
       "3197            8.6             0.200         0.42             1.5      0.041   \n",
       "\n",
       "      free sulfur dioxide  total sulfur dioxide  density    pH  sulphates  \\\n",
       "0                    35.0                 157.0  0.99450  3.21       0.46   \n",
       "1                    21.0                 100.0  0.99280  3.27       0.46   \n",
       "2                    23.0                  86.0  0.99140  3.16       0.42   \n",
       "3                    14.0                  56.0  0.99620  3.21       0.60   \n",
       "4                    48.0                 198.0  0.99790  2.89       0.42   \n",
       "...                   ...                   ...      ...   ...        ...   \n",
       "3193                  5.0                  18.0  0.99666  3.20       0.52   \n",
       "3194                 17.0                 114.0  0.99480  3.33       0.49   \n",
       "3195                 43.0                 119.0  0.98940  3.36       0.33   \n",
       "3196                 15.0                  23.0  0.99627  3.54       0.60   \n",
       "3197                 35.0                 125.0  0.99250  3.11       0.49   \n",
       "\n",
       "      alcohol  quality wine type quality_label  \n",
       "0         9.9        5     white           low  \n",
       "1         9.5        5     white           low  \n",
       "2        12.5        6     white        medium  \n",
       "3        10.9        6       red        medium  \n",
       "4         8.9        6     white        medium  \n",
       "...       ...      ...       ...           ...  \n",
       "3193      9.4        5       red           low  \n",
       "3194     10.7        7     white        medium  \n",
       "3195     12.1        8     white          high  \n",
       "3196     11.0        6       red        medium  \n",
       "3197     11.4        7     white        medium  \n",
       "\n",
       "[3198 rows x 14 columns]"
      ],
      "text/html": "<div>\n<style scoped>\n    .dataframe tbody tr th:only-of-type {\n        vertical-align: middle;\n    }\n\n    .dataframe tbody tr th {\n        vertical-align: top;\n    }\n\n    .dataframe thead th {\n        text-align: right;\n    }\n</style>\n<table border=\"1\" class=\"dataframe\">\n  <thead>\n    <tr style=\"text-align: right;\">\n      <th></th>\n      <th>fixed acidity</th>\n      <th>volatile acidity</th>\n      <th>citric acid</th>\n      <th>residual sugar</th>\n      <th>chlorides</th>\n      <th>free sulfur dioxide</th>\n      <th>total sulfur dioxide</th>\n      <th>density</th>\n      <th>pH</th>\n      <th>sulphates</th>\n      <th>alcohol</th>\n      <th>quality</th>\n      <th>wine type</th>\n      <th>quality_label</th>\n    </tr>\n  </thead>\n  <tbody>\n    <tr>\n      <th>0</th>\n      <td>6.7</td>\n      <td>0.300</td>\n      <td>0.74</td>\n      <td>5.0</td>\n      <td>0.038</td>\n      <td>35.0</td>\n      <td>157.0</td>\n      <td>0.99450</td>\n      <td>3.21</td>\n      <td>0.46</td>\n      <td>9.9</td>\n      <td>5</td>\n      <td>white</td>\n      <td>low</td>\n    </tr>\n    <tr>\n      <th>1</th>\n      <td>5.7</td>\n      <td>0.100</td>\n      <td>0.27</td>\n      <td>1.3</td>\n      <td>0.047</td>\n      <td>21.0</td>\n      <td>100.0</td>\n      <td>0.99280</td>\n      <td>3.27</td>\n      <td>0.46</td>\n      <td>9.5</td>\n      <td>5</td>\n      <td>white</td>\n      <td>low</td>\n    </tr>\n    <tr>\n      <th>2</th>\n      <td>7.7</td>\n      <td>0.270</td>\n      <td>0.49</td>\n      <td>1.8</td>\n      <td>0.041</td>\n      <td>23.0</td>\n      <td>86.0</td>\n      <td>0.99140</td>\n      <td>3.16</td>\n      <td>0.42</td>\n      <td>12.5</td>\n      <td>6</td>\n      <td>white</td>\n      <td>medium</td>\n    </tr>\n    <tr>\n      <th>3</th>\n      <td>8.8</td>\n      <td>0.550</td>\n      <td>0.04</td>\n      <td>2.2</td>\n      <td>0.119</td>\n      <td>14.0</td>\n      <td>56.0</td>\n      <td>0.99620</td>\n      <td>3.21</td>\n      <td>0.60</td>\n      <td>10.9</td>\n      <td>6</td>\n      <td>red</td>\n      <td>medium</td>\n    </tr>\n    <tr>\n      <th>4</th>\n      <td>7.4</td>\n      <td>0.240</td>\n      <td>0.42</td>\n      <td>14.0</td>\n      <td>0.066</td>\n      <td>48.0</td>\n      <td>198.0</td>\n      <td>0.99790</td>\n      <td>2.89</td>\n      <td>0.42</td>\n      <td>8.9</td>\n      <td>6</td>\n      <td>white</td>\n      <td>medium</td>\n    </tr>\n    <tr>\n      <th>...</th>\n      <td>...</td>\n      <td>...</td>\n      <td>...</td>\n      <td>...</td>\n      <td>...</td>\n      <td>...</td>\n      <td>...</td>\n      <td>...</td>\n      <td>...</td>\n      <td>...</td>\n      <td>...</td>\n      <td>...</td>\n      <td>...</td>\n      <td>...</td>\n    </tr>\n    <tr>\n      <th>3193</th>\n      <td>8.6</td>\n      <td>0.520</td>\n      <td>0.38</td>\n      <td>1.5</td>\n      <td>0.096</td>\n      <td>5.0</td>\n      <td>18.0</td>\n      <td>0.99666</td>\n      <td>3.20</td>\n      <td>0.52</td>\n      <td>9.4</td>\n      <td>5</td>\n      <td>red</td>\n      <td>low</td>\n    </tr>\n    <tr>\n      <th>3194</th>\n      <td>7.9</td>\n      <td>0.140</td>\n      <td>0.45</td>\n      <td>1.8</td>\n      <td>0.050</td>\n      <td>17.0</td>\n      <td>114.0</td>\n      <td>0.99480</td>\n      <td>3.33</td>\n      <td>0.49</td>\n      <td>10.7</td>\n      <td>7</td>\n      <td>white</td>\n      <td>medium</td>\n    </tr>\n    <tr>\n      <th>3195</th>\n      <td>5.2</td>\n      <td>0.440</td>\n      <td>0.04</td>\n      <td>1.4</td>\n      <td>0.036</td>\n      <td>43.0</td>\n      <td>119.0</td>\n      <td>0.98940</td>\n      <td>3.36</td>\n      <td>0.33</td>\n      <td>12.1</td>\n      <td>8</td>\n      <td>white</td>\n      <td>high</td>\n    </tr>\n    <tr>\n      <th>3196</th>\n      <td>6.6</td>\n      <td>0.855</td>\n      <td>0.02</td>\n      <td>2.4</td>\n      <td>0.062</td>\n      <td>15.0</td>\n      <td>23.0</td>\n      <td>0.99627</td>\n      <td>3.54</td>\n      <td>0.60</td>\n      <td>11.0</td>\n      <td>6</td>\n      <td>red</td>\n      <td>medium</td>\n    </tr>\n    <tr>\n      <th>3197</th>\n      <td>8.6</td>\n      <td>0.200</td>\n      <td>0.42</td>\n      <td>1.5</td>\n      <td>0.041</td>\n      <td>35.0</td>\n      <td>125.0</td>\n      <td>0.99250</td>\n      <td>3.11</td>\n      <td>0.49</td>\n      <td>11.4</td>\n      <td>7</td>\n      <td>white</td>\n      <td>medium</td>\n    </tr>\n  </tbody>\n</table>\n<p>3198 rows × 14 columns</p>\n</div>"
     },
     "metadata": {},
     "execution_count": 38
    }
   ],
   "source": [
    "df_balanced.sample(frac=1).reset_index(drop = True)"
   ]
  },
  {
   "cell_type": "code",
   "execution_count": 39,
   "metadata": {},
   "outputs": [],
   "source": [
    "wtp_features = df_balanced.iloc[:,:-3]\n",
    "wtp_features_names = wtp_features.columns\n",
    "wtp_class_labels = np.array(df_balanced['wine type'])"
   ]
  },
  {
   "cell_type": "code",
   "execution_count": 40,
   "metadata": {},
   "outputs": [],
   "source": [
    "wtp_train_X,wtp_test_x,wtp_train_y,wtp_test_y=train_test_split(wtp_features,wtp_class_labels, test_size=0.3, random_state=42)"
   ]
  },
  {
   "cell_type": "code",
   "execution_count": 41,
   "metadata": {},
   "outputs": [
    {
     "output_type": "stream",
     "name": "stdout",
     "text": [
      "Counter({'white': 1132, 'red': 1106}) Counter({'red': 493, 'white': 467})\nFeatures: ['fixed acidity', 'volatile acidity', 'citric acid', 'residual sugar', 'chlorides', 'free sulfur dioxide', 'total sulfur dioxide', 'density', 'pH', 'sulphates', 'alcohol']\n"
     ]
    }
   ],
   "source": [
    "print(Counter(wtp_train_y), Counter(wtp_test_y))\n",
    "print('Features:', list(wtp_features_names))"
   ]
  },
  {
   "cell_type": "code",
   "execution_count": null,
   "metadata": {},
   "outputs": [],
   "source": []
  },
  {
   "cell_type": "code",
   "execution_count": 42,
   "metadata": {},
   "outputs": [],
   "source": [
    "wtp_ss = StandardScaler().fit(wtp_train_X)\n",
    "wtp_train_SX = wtp_ss.transform(wtp_train_X)\n",
    "wtp_test_SX=wtp_ss.transform(wtp_test_x)"
   ]
  },
  {
   "cell_type": "code",
   "execution_count": 43,
   "metadata": {},
   "outputs": [
    {
     "output_type": "execute_result",
     "data": {
      "text/plain": [
       "LogisticRegression(multi_class='ovr', n_jobs=1, solver='liblinear')"
      ]
     },
     "metadata": {},
     "execution_count": 43
    }
   ],
   "source": [
    "from sklearn.linear_model import LogisticRegression\n",
    "wtp_lr= LogisticRegression()\n",
    "wtp_lr.fit(wtp_train_SX,wtp_train_y)\n",
    "LogisticRegression(C=1.0, class_weight=None,dual=False,fit_intercept=True,intercept_scaling=1,max_iter=100, multi_class='ovr',n_jobs=1,penalty='l2',random_state=None, solver='liblinear',tol=0.0001,verbose=0,warm_start=False)\n"
   ]
  },
  {
   "cell_type": "code",
   "execution_count": 44,
   "metadata": {},
   "outputs": [],
   "source": [
    "from sklearn.metrics import classification_report\n",
    "wtp_lr_predictions=wtp_lr.predict(wtp_test_SX)\n"
   ]
  },
  {
   "cell_type": "code",
   "execution_count": 77,
   "metadata": {},
   "outputs": [
    {
     "output_type": "stream",
     "name": "stdout",
     "text": [
      "0.4864583333333333\n",
      "              precision    recall  f1-score   support\n",
      "\n",
      "         red       0.00      0.00      0.00       493\n",
      "       white       0.49      1.00      0.65       467\n",
      "\n",
      "    accuracy                           0.49       960\n",
      "   macro avg       0.24      0.50      0.33       960\n",
      "weighted avg       0.24      0.49      0.32       960\n",
      "\n",
      "/usr/lib/python3.9/site-packages/sklearn/metrics/_classification.py:1245: UndefinedMetricWarning: Precision and F-score are ill-defined and being set to 0.0 in labels with no predicted samples. Use `zero_division` parameter to control this behavior.\n",
      "  _warn_prf(average, modifier, msg_start, len(result))\n",
      "/usr/lib/python3.9/site-packages/sklearn/metrics/_classification.py:1245: UndefinedMetricWarning: Precision and F-score are ill-defined and being set to 0.0 in labels with no predicted samples. Use `zero_division` parameter to control this behavior.\n",
      "  _warn_prf(average, modifier, msg_start, len(result))\n",
      "/usr/lib/python3.9/site-packages/sklearn/metrics/_classification.py:1245: UndefinedMetricWarning: Precision and F-score are ill-defined and being set to 0.0 in labels with no predicted samples. Use `zero_division` parameter to control this behavior.\n",
      "  _warn_prf(average, modifier, msg_start, len(result))\n"
     ]
    }
   ],
   "source": [
    "knc = DummyClassifier(strategy='most_frequent', random_state=42)\n",
    "knc.fit(wtp_train_SX, wtp_train_y)\n",
    "wtp_knc_predictions=knc.predict(wtp_test_SX)\n",
    "print(knc.score(wtp_test_SX, wtp_test_y))\n",
    "print(classification_report(wtp_test_y,wtp_knc_predictions,target_names=['red','white']))"
   ]
  },
  {
   "cell_type": "code",
   "execution_count": 45,
   "metadata": {},
   "outputs": [
    {
     "output_type": "stream",
     "name": "stdout",
     "text": [
      "              precision    recall  f1-score   support\n\n         red       1.00      0.99      0.99       493\n       white       0.99      1.00      0.99       467\n\n    accuracy                           0.99       960\n   macro avg       0.99      0.99      0.99       960\nweighted avg       0.99      0.99      0.99       960\n\n"
     ]
    }
   ],
   "source": [
    "print(classification_report(wtp_test_y,wtp_lr_predictions,target_names=['red','white']))"
   ]
  },
  {
   "cell_type": "code",
   "execution_count": 125,
   "metadata": {},
   "outputs": [
    {
     "output_type": "stream",
     "name": "stdout",
     "text": [
      "              precision    recall  f1-score   support\n\n         red       0.82      0.01      0.01      1598\n       white       0.75      1.00      0.86      4893\n\n    accuracy                           0.75      6491\n   macro avg       0.79      0.50      0.44      6491\nweighted avg       0.77      0.75      0.65      6491\n\n"
     ]
    }
   ],
   "source": [
    "shuffled_wines_lr_predictions=wtp_lr.predict(shuffled_wines_test_X)\n",
    "print(classification_report(shuffled_wines_test_y,shuffled_wines_lr_predictions,target_names=['red','white']))"
   ]
  },
  {
   "source": [
    "# Task 3"
   ],
   "cell_type": "markdown",
   "metadata": {}
  },
  {
   "source": [
    "## K nearest neighbours"
   ],
   "cell_type": "markdown",
   "metadata": {}
  },
  {
   "cell_type": "code",
   "execution_count": 66,
   "metadata": {},
   "outputs": [],
   "source": [
    "from sklearn.dummy import DummyClassifier\n"
   ]
  },
  {
   "cell_type": "code",
   "execution_count": 78,
   "metadata": {},
   "outputs": [
    {
     "output_type": "stream",
     "name": "stdout",
     "text": [
      "0.9927083333333333\n              precision    recall  f1-score   support\n\n         red       1.00      0.99      0.99       493\n       white       0.99      1.00      0.99       467\n\n    accuracy                           0.99       960\n   macro avg       0.99      0.99      0.99       960\nweighted avg       0.99      0.99      0.99       960\n\n"
     ]
    }
   ],
   "source": [
    "from sklearn.neighbors import KNeighborsClassifier\n",
    "knc = KNeighborsClassifier()\n",
    "knc.fit(wtp_train_SX, wtp_train_y)\n",
    "wtp_knc_predictions=knc.predict(wtp_test_SX)\n",
    "print(knc.score(wtp_test_SX, wtp_test_y))\n",
    "print(classification_report(wtp_test_y,wtp_knc_predictions,target_names=['red','white']))"
   ]
  },
  {
   "cell_type": "code",
   "execution_count": 126,
   "metadata": {},
   "outputs": [
    {
     "output_type": "stream",
     "name": "stdout",
     "text": [
      "              precision    recall  f1-score   support\n\n         red       0.99      0.21      0.34      1598\n       white       0.79      1.00      0.88      4893\n\n    accuracy                           0.80      6491\n   macro avg       0.89      0.60      0.61      6491\nweighted avg       0.84      0.80      0.75      6491\n\n"
     ]
    }
   ],
   "source": [
    "shuffled_wines_knc_predictions=knc.predict(shuffled_wines_test_X)\n",
    "print(classification_report(shuffled_wines_test_y,shuffled_wines_knc_predictions,target_names=['red','white']))"
   ]
  },
  {
   "source": [
    "## Random Forest"
   ],
   "cell_type": "markdown",
   "metadata": {}
  },
  {
   "cell_type": "code",
   "execution_count": 64,
   "metadata": {},
   "outputs": [],
   "source": [
    "from sklearn.ensemble import RandomForestClassifier\n",
    "rfc = RandomForestClassifier().fit(wtp_train_SX,wtp_train_y)"
   ]
  },
  {
   "cell_type": "code",
   "execution_count": 65,
   "metadata": {},
   "outputs": [
    {
     "output_type": "stream",
     "name": "stdout",
     "text": [
      "              precision    recall  f1-score   support\n\n         red       0.99      0.99      0.99       493\n       white       0.99      0.99      0.99       467\n\n    accuracy                           0.99       960\n   macro avg       0.99      0.99      0.99       960\nweighted avg       0.99      0.99      0.99       960\n\n"
     ]
    }
   ],
   "source": [
    "wtp_rfc_predictions=rfc.predict(wtp_test_SX)\n",
    "print(classification_report(wtp_test_y,wtp_rfc_predictions,target_names=['red','white']))"
   ]
  },
  {
   "cell_type": "code",
   "execution_count": 127,
   "metadata": {},
   "outputs": [
    {
     "output_type": "stream",
     "name": "stdout",
     "text": [
      "              precision    recall  f1-score   support\n",
      "\n",
      "         red       0.00      0.00      0.00      1598\n",
      "       white       0.75      1.00      0.86      4893\n",
      "\n",
      "    accuracy                           0.75      6491\n",
      "   macro avg       0.38      0.50      0.43      6491\n",
      "weighted avg       0.57      0.75      0.65      6491\n",
      "\n",
      "/usr/lib/python3.9/site-packages/sklearn/metrics/_classification.py:1245: UndefinedMetricWarning: Precision and F-score are ill-defined and being set to 0.0 in labels with no predicted samples. Use `zero_division` parameter to control this behavior.\n",
      "  _warn_prf(average, modifier, msg_start, len(result))\n",
      "/usr/lib/python3.9/site-packages/sklearn/metrics/_classification.py:1245: UndefinedMetricWarning: Precision and F-score are ill-defined and being set to 0.0 in labels with no predicted samples. Use `zero_division` parameter to control this behavior.\n",
      "  _warn_prf(average, modifier, msg_start, len(result))\n",
      "/usr/lib/python3.9/site-packages/sklearn/metrics/_classification.py:1245: UndefinedMetricWarning: Precision and F-score are ill-defined and being set to 0.0 in labels with no predicted samples. Use `zero_division` parameter to control this behavior.\n",
      "  _warn_prf(average, modifier, msg_start, len(result))\n"
     ]
    }
   ],
   "source": [
    "shuffled_wines_rfc_predictions=rfc.predict(shuffled_wines_test_X)\n",
    "print(classification_report(shuffled_wines_test_y,shuffled_wines_rfc_predictions,target_names=['red','white']))"
   ]
  },
  {
   "cell_type": "code",
   "execution_count": 100,
   "metadata": {},
   "outputs": [
    {
     "output_type": "stream",
     "name": "stdout",
     "text": [
      "              precision    recall  f1-score   support\n",
      "\n",
      "         red       0.00      0.00      0.00      1598\n",
      "       white       0.75      1.00      0.86      4893\n",
      "\n",
      "    accuracy                           0.75      6491\n",
      "   macro avg       0.38      0.50      0.43      6491\n",
      "weighted avg       0.57      0.75      0.65      6491\n",
      "\n",
      "/usr/lib/python3.9/site-packages/sklearn/metrics/_classification.py:1245: UndefinedMetricWarning: Precision and F-score are ill-defined and being set to 0.0 in labels with no predicted samples. Use `zero_division` parameter to control this behavior.\n",
      "  _warn_prf(average, modifier, msg_start, len(result))\n",
      "/usr/lib/python3.9/site-packages/sklearn/metrics/_classification.py:1245: UndefinedMetricWarning: Precision and F-score are ill-defined and being set to 0.0 in labels with no predicted samples. Use `zero_division` parameter to control this behavior.\n",
      "  _warn_prf(average, modifier, msg_start, len(result))\n",
      "/usr/lib/python3.9/site-packages/sklearn/metrics/_classification.py:1245: UndefinedMetricWarning: Precision and F-score are ill-defined and being set to 0.0 in labels with no predicted samples. Use `zero_division` parameter to control this behavior.\n",
      "  _warn_prf(average, modifier, msg_start, len(result))\n"
     ]
    }
   ],
   "source": [
    "wines_rfc_predictions=rfc.predict(wines_test_X)\n",
    "print(classification_report(wines_test_y,wines_rfc_predictions,target_names=['red','white']))"
   ]
  },
  {
   "cell_type": "code",
   "execution_count": 101,
   "metadata": {},
   "outputs": [],
   "source": [
    "from sklearn.svm import SVC\n",
    "from sklearn.svm import LinearSVC\n",
    "from sklearn.svm import NuSVC"
   ]
  },
  {
   "source": [
    "### LinearSVC"
   ],
   "cell_type": "markdown",
   "metadata": {}
  },
  {
   "cell_type": "code",
   "execution_count": 102,
   "metadata": {},
   "outputs": [],
   "source": [
    "lsvc = LinearSVC().fit(wtp_train_SX,wtp_train_y)"
   ]
  },
  {
   "cell_type": "code",
   "execution_count": 112,
   "metadata": {},
   "outputs": [
    {
     "output_type": "stream",
     "name": "stdout",
     "text": [
      "0.9916666666666667\n              precision    recall  f1-score   support\n\n         red       0.99      0.99      0.99       493\n       white       0.99      0.99      0.99       467\n\n    accuracy                           0.99       960\n   macro avg       0.99      0.99      0.99       960\nweighted avg       0.99      0.99      0.99       960\n\n"
     ]
    }
   ],
   "source": [
    "wtp_lsvc_predictions=lsvc.predict(wtp_test_SX)\n",
    "print(lsvc.score(wtp_test_SX,wtp_test_y))\n",
    "print(classification_report(wtp_test_y,wtp_lsvc_predictions,target_names=['red','white']))"
   ]
  },
  {
   "cell_type": "code",
   "execution_count": 128,
   "metadata": {},
   "outputs": [
    {
     "output_type": "stream",
     "name": "stdout",
     "text": [
      "0.7564319827453397\n              precision    recall  f1-score   support\n\n         red       0.90      0.01      0.02      1598\n       white       0.76      1.00      0.86      4893\n\n    accuracy                           0.76      6491\n   macro avg       0.83      0.51      0.44      6491\nweighted avg       0.79      0.76      0.65      6491\n\n"
     ]
    }
   ],
   "source": [
    "shuffled_wines_lsvc_predictions=lsvc.predict(shuffled_wines_test_X)\n",
    "print(lsvc.score(shuffled_wines_test_X,shuffled_wines_test_y))\n",
    "print(classification_report(shuffled_wines_test_y,shuffled_wines_lsvc_predictions,target_names=['red','white']))"
   ]
  },
  {
   "source": [
    "### NuSVC"
   ],
   "cell_type": "markdown",
   "metadata": {}
  },
  {
   "cell_type": "code",
   "execution_count": 105,
   "metadata": {},
   "outputs": [],
   "source": [
    "nusvc = NuSVC().fit(wtp_train_SX,wtp_train_y)"
   ]
  },
  {
   "cell_type": "code",
   "execution_count": 115,
   "metadata": {},
   "outputs": [
    {
     "output_type": "stream",
     "name": "stdout",
     "text": [
      "0.990625\n              precision    recall  f1-score   support\n\n         red       0.99      0.99      0.99       493\n       white       0.99      0.99      0.99       467\n\n    accuracy                           0.99       960\n   macro avg       0.99      0.99      0.99       960\nweighted avg       0.99      0.99      0.99       960\n\n"
     ]
    }
   ],
   "source": [
    "wtp_nusvc_predictions=nusvc.predict(wtp_test_SX)\n",
    "print(nusvc.score(wtp_test_SX,wtp_test_y))\n",
    "print(classification_report(wtp_test_y,wtp_nusvc_predictions,target_names=['red','white']))"
   ]
  },
  {
   "cell_type": "code",
   "execution_count": 129,
   "metadata": {},
   "outputs": [
    {
     "output_type": "stream",
     "name": "stdout",
     "text": [
      "0.7538129718071176\n",
      "              precision    recall  f1-score   support\n",
      "\n",
      "         red       0.00      0.00      0.00      1598\n",
      "       white       0.75      1.00      0.86      4893\n",
      "\n",
      "    accuracy                           0.75      6491\n",
      "   macro avg       0.38      0.50      0.43      6491\n",
      "weighted avg       0.57      0.75      0.65      6491\n",
      "\n",
      "/usr/lib/python3.9/site-packages/sklearn/metrics/_classification.py:1245: UndefinedMetricWarning: Precision and F-score are ill-defined and being set to 0.0 in labels with no predicted samples. Use `zero_division` parameter to control this behavior.\n",
      "  _warn_prf(average, modifier, msg_start, len(result))\n",
      "/usr/lib/python3.9/site-packages/sklearn/metrics/_classification.py:1245: UndefinedMetricWarning: Precision and F-score are ill-defined and being set to 0.0 in labels with no predicted samples. Use `zero_division` parameter to control this behavior.\n",
      "  _warn_prf(average, modifier, msg_start, len(result))\n",
      "/usr/lib/python3.9/site-packages/sklearn/metrics/_classification.py:1245: UndefinedMetricWarning: Precision and F-score are ill-defined and being set to 0.0 in labels with no predicted samples. Use `zero_division` parameter to control this behavior.\n",
      "  _warn_prf(average, modifier, msg_start, len(result))\n"
     ]
    }
   ],
   "source": [
    "shuffled_wines_nusvc_predictions=nusvc.predict(shuffled_wines_test_X)\n",
    "print(nusvc.score(shuffled_wines_test_X,shuffled_wines_test_y))\n",
    "print(classification_report(shuffled_wines_test_y,shuffled_wines_nusvc_predictions,target_names=['red','white']))"
   ]
  },
  {
   "source": [
    "### SVC"
   ],
   "cell_type": "markdown",
   "metadata": {}
  },
  {
   "cell_type": "code",
   "execution_count": 108,
   "metadata": {},
   "outputs": [],
   "source": [
    "svc = SVC().fit(wtp_train_SX,wtp_train_y)"
   ]
  },
  {
   "cell_type": "code",
   "execution_count": 121,
   "metadata": {},
   "outputs": [
    {
     "output_type": "stream",
     "name": "stdout",
     "text": [
      "0.2461135908881022\n              precision    recall  f1-score   support\n\n         red       0.99      0.99      0.99       493\n       white       0.99      0.99      0.99       467\n\n    accuracy                           0.99       960\n   macro avg       0.99      0.99      0.99       960\nweighted avg       0.99      0.99      0.99       960\n\n"
     ]
    }
   ],
   "source": [
    "wtp_svc_predictions=svc.predict(wtp_test_SX)\n",
    "print(svc.score(df_wines.iloc[:,:-3],df_wines['wine type']))\n",
    "print(classification_report(wtp_test_y,wtp_svc_predictions,target_names=['red','white']))"
   ]
  },
  {
   "cell_type": "code",
   "execution_count": 122,
   "metadata": {},
   "outputs": [
    {
     "output_type": "execute_result",
     "data": {
      "text/plain": [
       "      fixed acidity  volatile acidity  citric acid  residual sugar  chlorides  \\\n",
       "0               7.4              0.70         0.00             1.9      0.076   \n",
       "1               7.8              0.88         0.00             2.6      0.098   \n",
       "2               7.8              0.76         0.04             2.3      0.092   \n",
       "3              11.2              0.28         0.56             1.9      0.075   \n",
       "4               7.4              0.70         0.00             1.9      0.076   \n",
       "...             ...               ...          ...             ...        ...   \n",
       "6492            6.2              0.21         0.29             1.6      0.039   \n",
       "6493            6.6              0.32         0.36             8.0      0.047   \n",
       "6494            6.5              0.24         0.19             1.2      0.041   \n",
       "6495            5.5              0.29         0.30             1.1      0.022   \n",
       "6496            6.0              0.21         0.38             0.8      0.020   \n",
       "\n",
       "      free sulfur dioxide  total sulfur dioxide  density    pH  sulphates  \\\n",
       "0                    11.0                  34.0  0.99780  3.51       0.56   \n",
       "1                    25.0                  67.0  0.99680  3.20       0.68   \n",
       "2                    15.0                  54.0  0.99700  3.26       0.65   \n",
       "3                    17.0                  60.0  0.99800  3.16       0.58   \n",
       "4                    11.0                  34.0  0.99780  3.51       0.56   \n",
       "...                   ...                   ...      ...   ...        ...   \n",
       "6492                 24.0                  92.0  0.99114  3.27       0.50   \n",
       "6493                 57.0                 168.0  0.99490  3.15       0.46   \n",
       "6494                 30.0                 111.0  0.99254  2.99       0.46   \n",
       "6495                 20.0                 110.0  0.98869  3.34       0.38   \n",
       "6496                 22.0                  98.0  0.98941  3.26       0.32   \n",
       "\n",
       "      alcohol  quality wine type quality_label  \n",
       "0         9.4        5       red           low  \n",
       "1         9.8        5       red           low  \n",
       "2         9.8        5       red           low  \n",
       "3         9.8        6       red        medium  \n",
       "4         9.4        5       red           low  \n",
       "...       ...      ...       ...           ...  \n",
       "6492     11.2        6     white        medium  \n",
       "6493      9.6        5     white           low  \n",
       "6494      9.4        6     white        medium  \n",
       "6495     12.8        7     white        medium  \n",
       "6496     11.8        6     white        medium  \n",
       "\n",
       "[6497 rows x 14 columns]"
      ],
      "text/html": "<div>\n<style scoped>\n    .dataframe tbody tr th:only-of-type {\n        vertical-align: middle;\n    }\n\n    .dataframe tbody tr th {\n        vertical-align: top;\n    }\n\n    .dataframe thead th {\n        text-align: right;\n    }\n</style>\n<table border=\"1\" class=\"dataframe\">\n  <thead>\n    <tr style=\"text-align: right;\">\n      <th></th>\n      <th>fixed acidity</th>\n      <th>volatile acidity</th>\n      <th>citric acid</th>\n      <th>residual sugar</th>\n      <th>chlorides</th>\n      <th>free sulfur dioxide</th>\n      <th>total sulfur dioxide</th>\n      <th>density</th>\n      <th>pH</th>\n      <th>sulphates</th>\n      <th>alcohol</th>\n      <th>quality</th>\n      <th>wine type</th>\n      <th>quality_label</th>\n    </tr>\n  </thead>\n  <tbody>\n    <tr>\n      <th>0</th>\n      <td>7.4</td>\n      <td>0.70</td>\n      <td>0.00</td>\n      <td>1.9</td>\n      <td>0.076</td>\n      <td>11.0</td>\n      <td>34.0</td>\n      <td>0.99780</td>\n      <td>3.51</td>\n      <td>0.56</td>\n      <td>9.4</td>\n      <td>5</td>\n      <td>red</td>\n      <td>low</td>\n    </tr>\n    <tr>\n      <th>1</th>\n      <td>7.8</td>\n      <td>0.88</td>\n      <td>0.00</td>\n      <td>2.6</td>\n      <td>0.098</td>\n      <td>25.0</td>\n      <td>67.0</td>\n      <td>0.99680</td>\n      <td>3.20</td>\n      <td>0.68</td>\n      <td>9.8</td>\n      <td>5</td>\n      <td>red</td>\n      <td>low</td>\n    </tr>\n    <tr>\n      <th>2</th>\n      <td>7.8</td>\n      <td>0.76</td>\n      <td>0.04</td>\n      <td>2.3</td>\n      <td>0.092</td>\n      <td>15.0</td>\n      <td>54.0</td>\n      <td>0.99700</td>\n      <td>3.26</td>\n      <td>0.65</td>\n      <td>9.8</td>\n      <td>5</td>\n      <td>red</td>\n      <td>low</td>\n    </tr>\n    <tr>\n      <th>3</th>\n      <td>11.2</td>\n      <td>0.28</td>\n      <td>0.56</td>\n      <td>1.9</td>\n      <td>0.075</td>\n      <td>17.0</td>\n      <td>60.0</td>\n      <td>0.99800</td>\n      <td>3.16</td>\n      <td>0.58</td>\n      <td>9.8</td>\n      <td>6</td>\n      <td>red</td>\n      <td>medium</td>\n    </tr>\n    <tr>\n      <th>4</th>\n      <td>7.4</td>\n      <td>0.70</td>\n      <td>0.00</td>\n      <td>1.9</td>\n      <td>0.076</td>\n      <td>11.0</td>\n      <td>34.0</td>\n      <td>0.99780</td>\n      <td>3.51</td>\n      <td>0.56</td>\n      <td>9.4</td>\n      <td>5</td>\n      <td>red</td>\n      <td>low</td>\n    </tr>\n    <tr>\n      <th>...</th>\n      <td>...</td>\n      <td>...</td>\n      <td>...</td>\n      <td>...</td>\n      <td>...</td>\n      <td>...</td>\n      <td>...</td>\n      <td>...</td>\n      <td>...</td>\n      <td>...</td>\n      <td>...</td>\n      <td>...</td>\n      <td>...</td>\n      <td>...</td>\n    </tr>\n    <tr>\n      <th>6492</th>\n      <td>6.2</td>\n      <td>0.21</td>\n      <td>0.29</td>\n      <td>1.6</td>\n      <td>0.039</td>\n      <td>24.0</td>\n      <td>92.0</td>\n      <td>0.99114</td>\n      <td>3.27</td>\n      <td>0.50</td>\n      <td>11.2</td>\n      <td>6</td>\n      <td>white</td>\n      <td>medium</td>\n    </tr>\n    <tr>\n      <th>6493</th>\n      <td>6.6</td>\n      <td>0.32</td>\n      <td>0.36</td>\n      <td>8.0</td>\n      <td>0.047</td>\n      <td>57.0</td>\n      <td>168.0</td>\n      <td>0.99490</td>\n      <td>3.15</td>\n      <td>0.46</td>\n      <td>9.6</td>\n      <td>5</td>\n      <td>white</td>\n      <td>low</td>\n    </tr>\n    <tr>\n      <th>6494</th>\n      <td>6.5</td>\n      <td>0.24</td>\n      <td>0.19</td>\n      <td>1.2</td>\n      <td>0.041</td>\n      <td>30.0</td>\n      <td>111.0</td>\n      <td>0.99254</td>\n      <td>2.99</td>\n      <td>0.46</td>\n      <td>9.4</td>\n      <td>6</td>\n      <td>white</td>\n      <td>medium</td>\n    </tr>\n    <tr>\n      <th>6495</th>\n      <td>5.5</td>\n      <td>0.29</td>\n      <td>0.30</td>\n      <td>1.1</td>\n      <td>0.022</td>\n      <td>20.0</td>\n      <td>110.0</td>\n      <td>0.98869</td>\n      <td>3.34</td>\n      <td>0.38</td>\n      <td>12.8</td>\n      <td>7</td>\n      <td>white</td>\n      <td>medium</td>\n    </tr>\n    <tr>\n      <th>6496</th>\n      <td>6.0</td>\n      <td>0.21</td>\n      <td>0.38</td>\n      <td>0.8</td>\n      <td>0.020</td>\n      <td>22.0</td>\n      <td>98.0</td>\n      <td>0.98941</td>\n      <td>3.26</td>\n      <td>0.32</td>\n      <td>11.8</td>\n      <td>6</td>\n      <td>white</td>\n      <td>medium</td>\n    </tr>\n  </tbody>\n</table>\n<p>6497 rows × 14 columns</p>\n</div>"
     },
     "metadata": {},
     "execution_count": 122
    }
   ],
   "source": [
    "df_wines"
   ]
  },
  {
   "cell_type": "code",
   "execution_count": 130,
   "metadata": {},
   "outputs": [
    {
     "output_type": "stream",
     "name": "stdout",
     "text": [
      "              precision    recall  f1-score   support\n",
      "\n",
      "         red       0.25      1.00      0.40      1598\n",
      "       white       0.00      0.00      0.00      4893\n",
      "\n",
      "    accuracy                           0.25      6491\n",
      "   macro avg       0.12      0.50      0.20      6491\n",
      "weighted avg       0.06      0.25      0.10      6491\n",
      "\n",
      "/usr/lib/python3.9/site-packages/sklearn/metrics/_classification.py:1245: UndefinedMetricWarning: Precision and F-score are ill-defined and being set to 0.0 in labels with no predicted samples. Use `zero_division` parameter to control this behavior.\n",
      "  _warn_prf(average, modifier, msg_start, len(result))\n",
      "/usr/lib/python3.9/site-packages/sklearn/metrics/_classification.py:1245: UndefinedMetricWarning: Precision and F-score are ill-defined and being set to 0.0 in labels with no predicted samples. Use `zero_division` parameter to control this behavior.\n",
      "  _warn_prf(average, modifier, msg_start, len(result))\n",
      "/usr/lib/python3.9/site-packages/sklearn/metrics/_classification.py:1245: UndefinedMetricWarning: Precision and F-score are ill-defined and being set to 0.0 in labels with no predicted samples. Use `zero_division` parameter to control this behavior.\n",
      "  _warn_prf(average, modifier, msg_start, len(result))\n"
     ]
    }
   ],
   "source": [
    "shuffled_wines_svc_predictions=svc.predict(shuffled_wines_test_X)\n",
    "print(classification_report(shuffled_wines_test_y,shuffled_wines_svc_predictions,target_names=['red','white']))"
   ]
  },
  {
   "cell_type": "code",
   "execution_count": null,
   "metadata": {},
   "outputs": [],
   "source": []
  }
 ]
}