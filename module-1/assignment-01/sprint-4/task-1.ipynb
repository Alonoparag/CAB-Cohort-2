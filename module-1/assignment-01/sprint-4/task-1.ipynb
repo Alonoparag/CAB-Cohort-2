{
 "metadata": {
  "language_info": {
   "codemirror_mode": {
    "name": "ipython",
    "version": 3
   },
   "file_extension": ".py",
   "mimetype": "text/x-python",
   "name": "python",
   "nbconvert_exporter": "python",
   "pygments_lexer": "ipython3",
   "version": "3.9.4"
  },
  "orig_nbformat": 2,
  "kernelspec": {
   "name": "python394jvsc74a57bd0767d51c1340bd893661ea55ea3124f6de3c7a262a8b4abca0554b478b1e2ff90",
   "display_name": "Python 3.9.4 64-bit"
  },
  "metadata": {
   "interpreter": {
    "hash": "e7370f93d1d0cde622a1f8e1c04877d8463912d04d973331ad4851f04de6915a"
   }
  }
 },
 "nbformat": 4,
 "nbformat_minor": 2,
 "cells": [
  {
   "cell_type": "code",
   "execution_count": 1,
   "metadata": {},
   "outputs": [],
   "source": [
    "import pandas as pd\n",
    "import numpy as np\n",
    "import matplotlib.pyplot as plt\n",
    "import model_evaluation_utils as meu\n",
    "from sklearn.model_selection import train_test_split\n",
    "from collections import Counter\n",
    "from sklearn.preprocessing import StandardScaler\n",
    "from sklearn.preprocessing import LabelEncoder\n",
    "df_wines = pd.read_csv('wine-quality/wine_quality_combined.csv')\n",
    "df_red=pd.read_csv('wine-quality/wine_quality_red.csv')\n",
    "df_white=pd.read_csv('wine-quality/wine_quality_white.csv')"
   ]
  },
  {
   "cell_type": "code",
   "execution_count": 2,
   "metadata": {},
   "outputs": [
    {
     "output_type": "execute_result",
     "data": {
      "text/plain": [
       "sklearn.preprocessing._data.StandardScaler"
      ]
     },
     "metadata": {},
     "execution_count": 2
    }
   ],
   "source": [
    "StandardScaler"
   ]
  },
  {
   "cell_type": "code",
   "execution_count": 3,
   "metadata": {},
   "outputs": [
    {
     "output_type": "execute_result",
     "data": {
      "text/plain": [
       "      fixed acidity  volatile acidity  citric acid  residual sugar  chlorides  \\\n",
       "0              10.1             0.270         0.54             2.3      0.065   \n",
       "1               6.5             0.460         0.14             2.4      0.114   \n",
       "2               7.2             0.220         0.28             7.2      0.060   \n",
       "3               7.8             0.735         0.08             2.4      0.092   \n",
       "4               4.7             0.600         0.17             2.3      0.058   \n",
       "...             ...               ...          ...             ...        ...   \n",
       "6492            7.5             0.520         0.40             2.2      0.060   \n",
       "6493            7.0             0.510         0.09             2.1      0.062   \n",
       "6494            7.8             0.550         0.35             2.2      0.074   \n",
       "6495            5.0             0.330         0.16             1.5      0.049   \n",
       "6496            7.7             0.260         0.32             1.2      0.040   \n",
       "\n",
       "      free sulfur dioxide  total sulfur dioxide  density    pH  sulphates  \\\n",
       "0                     7.0                  26.0  0.99531  3.17       0.53   \n",
       "1                     9.0                  37.0  0.99732  3.66       0.65   \n",
       "2                    41.0                 132.0  0.99350  3.08       0.59   \n",
       "3                    10.0                  41.0  0.99740  3.24       0.71   \n",
       "4                    17.0                 106.0  0.99320  3.85       0.60   \n",
       "...                   ...                   ...      ...   ...        ...   \n",
       "6492                 12.0                  20.0  0.99474  3.26       0.64   \n",
       "6493                  4.0                   9.0  0.99584  3.35       0.54   \n",
       "6494                 21.0                  66.0  0.99740  3.25       0.56   \n",
       "6495                 10.0                  97.0  0.99170  3.48       0.44   \n",
       "6496                 26.0                 117.0  0.99300  3.21       0.56   \n",
       "\n",
       "      alcohol  quality wine type quality_label  \n",
       "0        12.5        6       red        medium  \n",
       "1         9.8        5       red           low  \n",
       "2        11.3        6     white        medium  \n",
       "3         9.8        6       red        medium  \n",
       "4        12.9        6       red        medium  \n",
       "...       ...      ...       ...           ...  \n",
       "6492     11.8        6       red        medium  \n",
       "6493     10.5        5       red           low  \n",
       "6494      9.2        5       red           low  \n",
       "6495     10.7        6     white        medium  \n",
       "6496     10.8        5     white           low  \n",
       "\n",
       "[6497 rows x 14 columns]"
      ],
      "text/html": "<div>\n<style scoped>\n    .dataframe tbody tr th:only-of-type {\n        vertical-align: middle;\n    }\n\n    .dataframe tbody tr th {\n        vertical-align: top;\n    }\n\n    .dataframe thead th {\n        text-align: right;\n    }\n</style>\n<table border=\"1\" class=\"dataframe\">\n  <thead>\n    <tr style=\"text-align: right;\">\n      <th></th>\n      <th>fixed acidity</th>\n      <th>volatile acidity</th>\n      <th>citric acid</th>\n      <th>residual sugar</th>\n      <th>chlorides</th>\n      <th>free sulfur dioxide</th>\n      <th>total sulfur dioxide</th>\n      <th>density</th>\n      <th>pH</th>\n      <th>sulphates</th>\n      <th>alcohol</th>\n      <th>quality</th>\n      <th>wine type</th>\n      <th>quality_label</th>\n    </tr>\n  </thead>\n  <tbody>\n    <tr>\n      <th>0</th>\n      <td>10.1</td>\n      <td>0.270</td>\n      <td>0.54</td>\n      <td>2.3</td>\n      <td>0.065</td>\n      <td>7.0</td>\n      <td>26.0</td>\n      <td>0.99531</td>\n      <td>3.17</td>\n      <td>0.53</td>\n      <td>12.5</td>\n      <td>6</td>\n      <td>red</td>\n      <td>medium</td>\n    </tr>\n    <tr>\n      <th>1</th>\n      <td>6.5</td>\n      <td>0.460</td>\n      <td>0.14</td>\n      <td>2.4</td>\n      <td>0.114</td>\n      <td>9.0</td>\n      <td>37.0</td>\n      <td>0.99732</td>\n      <td>3.66</td>\n      <td>0.65</td>\n      <td>9.8</td>\n      <td>5</td>\n      <td>red</td>\n      <td>low</td>\n    </tr>\n    <tr>\n      <th>2</th>\n      <td>7.2</td>\n      <td>0.220</td>\n      <td>0.28</td>\n      <td>7.2</td>\n      <td>0.060</td>\n      <td>41.0</td>\n      <td>132.0</td>\n      <td>0.99350</td>\n      <td>3.08</td>\n      <td>0.59</td>\n      <td>11.3</td>\n      <td>6</td>\n      <td>white</td>\n      <td>medium</td>\n    </tr>\n    <tr>\n      <th>3</th>\n      <td>7.8</td>\n      <td>0.735</td>\n      <td>0.08</td>\n      <td>2.4</td>\n      <td>0.092</td>\n      <td>10.0</td>\n      <td>41.0</td>\n      <td>0.99740</td>\n      <td>3.24</td>\n      <td>0.71</td>\n      <td>9.8</td>\n      <td>6</td>\n      <td>red</td>\n      <td>medium</td>\n    </tr>\n    <tr>\n      <th>4</th>\n      <td>4.7</td>\n      <td>0.600</td>\n      <td>0.17</td>\n      <td>2.3</td>\n      <td>0.058</td>\n      <td>17.0</td>\n      <td>106.0</td>\n      <td>0.99320</td>\n      <td>3.85</td>\n      <td>0.60</td>\n      <td>12.9</td>\n      <td>6</td>\n      <td>red</td>\n      <td>medium</td>\n    </tr>\n    <tr>\n      <th>...</th>\n      <td>...</td>\n      <td>...</td>\n      <td>...</td>\n      <td>...</td>\n      <td>...</td>\n      <td>...</td>\n      <td>...</td>\n      <td>...</td>\n      <td>...</td>\n      <td>...</td>\n      <td>...</td>\n      <td>...</td>\n      <td>...</td>\n      <td>...</td>\n    </tr>\n    <tr>\n      <th>6492</th>\n      <td>7.5</td>\n      <td>0.520</td>\n      <td>0.40</td>\n      <td>2.2</td>\n      <td>0.060</td>\n      <td>12.0</td>\n      <td>20.0</td>\n      <td>0.99474</td>\n      <td>3.26</td>\n      <td>0.64</td>\n      <td>11.8</td>\n      <td>6</td>\n      <td>red</td>\n      <td>medium</td>\n    </tr>\n    <tr>\n      <th>6493</th>\n      <td>7.0</td>\n      <td>0.510</td>\n      <td>0.09</td>\n      <td>2.1</td>\n      <td>0.062</td>\n      <td>4.0</td>\n      <td>9.0</td>\n      <td>0.99584</td>\n      <td>3.35</td>\n      <td>0.54</td>\n      <td>10.5</td>\n      <td>5</td>\n      <td>red</td>\n      <td>low</td>\n    </tr>\n    <tr>\n      <th>6494</th>\n      <td>7.8</td>\n      <td>0.550</td>\n      <td>0.35</td>\n      <td>2.2</td>\n      <td>0.074</td>\n      <td>21.0</td>\n      <td>66.0</td>\n      <td>0.99740</td>\n      <td>3.25</td>\n      <td>0.56</td>\n      <td>9.2</td>\n      <td>5</td>\n      <td>red</td>\n      <td>low</td>\n    </tr>\n    <tr>\n      <th>6495</th>\n      <td>5.0</td>\n      <td>0.330</td>\n      <td>0.16</td>\n      <td>1.5</td>\n      <td>0.049</td>\n      <td>10.0</td>\n      <td>97.0</td>\n      <td>0.99170</td>\n      <td>3.48</td>\n      <td>0.44</td>\n      <td>10.7</td>\n      <td>6</td>\n      <td>white</td>\n      <td>medium</td>\n    </tr>\n    <tr>\n      <th>6496</th>\n      <td>7.7</td>\n      <td>0.260</td>\n      <td>0.32</td>\n      <td>1.2</td>\n      <td>0.040</td>\n      <td>26.0</td>\n      <td>117.0</td>\n      <td>0.99300</td>\n      <td>3.21</td>\n      <td>0.56</td>\n      <td>10.8</td>\n      <td>5</td>\n      <td>white</td>\n      <td>low</td>\n    </tr>\n  </tbody>\n</table>\n<p>6497 rows × 14 columns</p>\n</div>"
     },
     "metadata": {},
     "execution_count": 3
    }
   ],
   "source": [
    "df_wines.sample(frac=1).reset_index(drop = True)"
   ]
  },
  {
   "cell_type": "code",
   "execution_count": 4,
   "metadata": {},
   "outputs": [],
   "source": [
    "wtp_features = df_wines.iloc[:,:-3]\n",
    "wtp_features_names = wtp_features.columns\n",
    "wtp_class_labels = np.array(df_wines['wine type'])"
   ]
  },
  {
   "cell_type": "code",
   "execution_count": 5,
   "metadata": {},
   "outputs": [],
   "source": [
    "wtp_train_X,wtp_test_x,wtp_train_y,wtp_test_y=train_test_split(wtp_features,wtp_class_labels, test_size=0.3, random_state=42)"
   ]
  },
  {
   "cell_type": "code",
   "execution_count": 6,
   "metadata": {},
   "outputs": [
    {
     "output_type": "stream",
     "name": "stdout",
     "text": [
      "Counter({'white': 3450, 'red': 1097}) Counter({'white': 1448, 'red': 502})\nFeatures: ['fixed acidity', 'volatile acidity', 'citric acid', 'residual sugar', 'chlorides', 'free sulfur dioxide', 'total sulfur dioxide', 'density', 'pH', 'sulphates', 'alcohol']\n"
     ]
    }
   ],
   "source": [
    "print(Counter(wtp_train_y), Counter(wtp_test_y))\n",
    "print('Features:', list(wtp_features_names))"
   ]
  },
  {
   "cell_type": "code",
   "execution_count": null,
   "metadata": {},
   "outputs": [],
   "source": []
  },
  {
   "cell_type": "code",
   "execution_count": 7,
   "metadata": {},
   "outputs": [],
   "source": [
    "wtp_ss = StandardScaler().fit(wtp_train_X)\n",
    "wtp_train_SX = wtp_ss.transform(wtp_train_X)\n",
    "wtp_test_SX=wtp_ss.transform(wtp_test_x)"
   ]
  },
  {
   "cell_type": "code",
   "execution_count": 8,
   "metadata": {},
   "outputs": [
    {
     "output_type": "execute_result",
     "data": {
      "text/plain": [
       "LogisticRegression(multi_class='ovr', n_jobs=1, solver='liblinear')"
      ]
     },
     "metadata": {},
     "execution_count": 8
    }
   ],
   "source": [
    "from sklearn.linear_model import LogisticRegression\n",
    "wtp_lr= LogisticRegression()\n",
    "wtp_lr.fit(wtp_train_SX,wtp_train_y)\n",
    "LogisticRegression(C=1.0, class_weight=None,dual=False,fit_intercept=True,intercept_scaling=1,max_iter=100, multi_class='ovr',n_jobs=1,penalty='l2',random_state=None, solver='liblinear',tol=0.0001,verbose=0,warm_start=False)\n"
   ]
  },
  {
   "cell_type": "code",
   "execution_count": 9,
   "metadata": {},
   "outputs": [],
   "source": [
    "from sklearn.metrics import classification_report\n",
    "wtp_lr_predictions=wtp_lr.predict(wtp_test_SX)\n"
   ]
  },
  {
   "cell_type": "code",
   "execution_count": 10,
   "metadata": {},
   "outputs": [
    {
     "output_type": "stream",
     "name": "stdout",
     "text": [
      "              precision    recall  f1-score   support\n\n         red       0.98      0.98      0.98       502\n       white       0.99      0.99      0.99      1448\n\n    accuracy                           0.99      1950\n   macro avg       0.98      0.98      0.98      1950\nweighted avg       0.99      0.99      0.99      1950\n\n"
     ]
    }
   ],
   "source": [
    "print(classification_report(wtp_test_y,wtp_lr_predictions,target_names=['red','white']))"
   ]
  },
  {
   "cell_type": "code",
   "execution_count": null,
   "metadata": {},
   "outputs": [],
   "source": []
  }
 ]
}