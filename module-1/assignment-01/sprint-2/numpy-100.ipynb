{
 "metadata": {
  "language_info": {
   "codemirror_mode": {
    "name": "ipython",
    "version": 3
   },
   "file_extension": ".py",
   "mimetype": "text/x-python",
   "name": "python",
   "nbconvert_exporter": "python",
   "pygments_lexer": "ipython3",
   "version": "3.9.2"
  },
  "orig_nbformat": 2,
  "kernelspec": {
   "name": "python392jvsc74a57bd0e7370f93d1d0cde622a1f8e1c04877d8463912d04d973331ad4851f04de6915a",
   "display_name": "Python 3.9.2 64-bit"
  }
 },
 "nbformat": 4,
 "nbformat_minor": 2,
 "cells": [
  {
   "source": [
    "import numpy as np\n",
    "import math\n",
    "import random\n",
    "import string\n",
    "import sys\n",
    "import os"
   ],
   "cell_type": "code",
   "metadata": {},
   "execution_count": 1,
   "outputs": []
  },
  {
   "cell_type": "code",
   "execution_count": 4,
   "metadata": {},
   "outputs": [
    {
     "output_type": "stream",
     "name": "stdout",
     "text": [
      "1.20.1\nblas_mkl_info:\n  NOT AVAILABLE\nblis_info:\n  NOT AVAILABLE\nopenblas_info:\n  NOT AVAILABLE\natlas_3_10_blas_threads_info:\n  NOT AVAILABLE\natlas_3_10_blas_info:\n  NOT AVAILABLE\natlas_blas_threads_info:\n  NOT AVAILABLE\natlas_blas_info:\n  NOT AVAILABLE\nblas_info:\n    libraries = ['cblas', 'blas', 'blas']\n    library_dirs = ['/usr/lib64']\n    include_dirs = ['/usr/local/include', '/usr/include']\n    language = c\n    define_macros = [('HAVE_CBLAS', None)]\nblas_opt_info:\n    define_macros = [('NO_ATLAS_INFO', 1), ('HAVE_CBLAS', None)]\n    libraries = ['cblas', 'blas', 'blas']\n    library_dirs = ['/usr/lib64']\n    include_dirs = ['/usr/local/include', '/usr/include']\n    language = c\nlapack_mkl_info:\n  NOT AVAILABLE\nopenblas_lapack_info:\n  NOT AVAILABLE\nopenblas_clapack_info:\n  NOT AVAILABLE\nflame_info:\n  NOT AVAILABLE\natlas_3_10_threads_info:\n  NOT AVAILABLE\natlas_3_10_info:\n  NOT AVAILABLE\natlas_threads_info:\n  NOT AVAILABLE\natlas_info:\n  NOT AVAILABLE\nlapack_info:\n    libraries = ['lapack', 'lapack']\n    library_dirs = ['/usr/lib64']\n    language = f77\nlapack_opt_info:\n    libraries = ['lapack', 'lapack', 'cblas', 'blas', 'blas']\n    library_dirs = ['/usr/lib64']\n    language = c\n    define_macros = [('NO_ATLAS_INFO', 1), ('HAVE_CBLAS', None)]\n    include_dirs = ['/usr/local/include', '/usr/include']\nNone\n"
     ]
    }
   ],
   "source": [
    "print(np.__version__)\n",
    "print(np.show_config())"
   ]
  },
  {
   "cell_type": "code",
   "execution_count": 7,
   "metadata": {},
   "outputs": [
    {
     "output_type": "stream",
     "name": "stdout",
     "text": [
      "     *** Found in numpy ***\nadd(x1, x2, /, out=None, *, where=True, casting='same_kind', order='K', dtype=None, subok=True[, signature, extobj])\n\nAdd arguments element-wise.\n\nParameters\n----------\nx1, x2 : array_like\n    The arrays to be added.\n    If ``x1.shape != x2.shape``, they must be broadcastable to a common\n    shape (which becomes the shape of the output).\nout : ndarray, None, or tuple of ndarray and None, optional\n    A location into which the result is stored. If provided, it must have\n    a shape that the inputs broadcast to. If not provided or None,\n    a freshly-allocated array is returned. A tuple (possible only as a\n    keyword argument) must have length equal to the number of outputs.\nwhere : array_like, optional\n    This condition is broadcast over the input. At locations where the\n    condition is True, the `out` array will be set to the ufunc result.\n    Elsewhere, the `out` array will retain its original value.\n    Note that if an uninitialized `out` array is created via the default\n    ``out=None``, locations within it where the condition is False will\n    remain uninitialized.\n**kwargs\n    For other keyword-only arguments, see the\n    :ref:`ufunc docs <ufuncs.kwargs>`.\n\nReturns\n-------\nadd : ndarray or scalar\n    The sum of `x1` and `x2`, element-wise.\n    This is a scalar if both `x1` and `x2` are scalars.\n\nNotes\n-----\nEquivalent to `x1` + `x2` in terms of array broadcasting.\n\nExamples\n--------\n>>> np.add(1.0, 4.0)\n5.0\n>>> x1 = np.arange(9.0).reshape((3, 3))\n>>> x2 = np.arange(3.0)\n>>> np.add(x1, x2)\narray([[  0.,   2.,   4.],\n       [  3.,   5.,   7.],\n       [  6.,   8.,  10.]])\n\nThe ``+`` operator can be used as a shorthand for ``np.add`` on ndarrays.\n\n>>> x1 = np.arange(9.0).reshape((3, 3))\n>>> x2 = np.arange(3.0)\n>>> x1 + x2\narray([[ 0.,  2.,  4.],\n       [ 3.,  5.,  7.],\n       [ 6.,  8., 10.]])\n----------------------------------------------------------------------------\n\n     *** Repeat reference found in numpy.core *** \n     *** Found in numpy.core.defchararray ***\n add(x1, x2)\n\nReturn element-wise string concatenation for two arrays of str or unicode.\n\nArrays `x1` and `x2` must have the same shape.\n\nParameters\n----------\nx1 : array_like of str or unicode\n    Input array.\nx2 : array_like of str or unicode\n    Input array.\n\nReturns\n-------\nadd : ndarray\n    Output array of `string_` or `unicode_`, depending on input types\n    of the same shape as `x1` and `x2`.\n----------------------------------------------------------------------------\n     *** Found in numpy.ma ***\nadd(x1, x2, /, out=None, *, where=True, casting='same_kind', order='K', dtype=None, subok=True[, signature, extobj])\n\nAdd arguments element-wise.\n\nParameters\n----------\nx1, x2 : array_like\n    The arrays to be added.\n    If ``x1.shape != x2.shape``, they must be broadcastable to a common\n    shape (which becomes the shape of the output).\nout : ndarray, None, or tuple of ndarray and None, optional\n    A location into which the result is stored. If provided, it must have\n    a shape that the inputs broadcast to. If not provided or None,\n    a freshly-allocated array is returned. A tuple (possible only as a\n    keyword argument) must have length equal to the number of outputs.\nwhere : array_like, optional\n    This condition is broadcast over the input. At locations where the\n    condition is True, the `out` array will be set to the ufunc result.\n    Elsewhere, the `out` array will retain its original value.\n    Note that if an uninitialized `out` array is created via the default\n    ``out=None``, locations within it where the condition is False will\n    remain uninitialized.\n**kwargs\n    For other keyword-only arguments, see the\n    :ref:`ufunc docs <ufuncs.kwargs>`.\n\nReturns\n-------\nadd : ndarray or scalar\n    The sum of `x1` and `x2`, element-wise.\n    This is a scalar if both `x1` and `x2` are scalars.\n\nNotes\n-----\nEquivalent to `x1` + `x2` in terms of array broadcasting.\n\nExamples\n--------\n>>> np.add(1.0, 4.0)\n5.0\n>>> x1 = np.arange(9.0).reshape((3, 3))\n>>> x2 = np.arange(3.0)\n>>> np.add(x1, x2)\narray([[  0.,   2.,   4.],\n       [  3.,   5.,   7.],\n       [  6.,   8.,  10.]])\n\nThe ``+`` operator can be used as a shorthand for ``np.add`` on ndarrays.\n\n>>> x1 = np.arange(9.0).reshape((3, 3))\n>>> x2 = np.arange(3.0)\n>>> x1 + x2\narray([[ 0.,  2.,  4.],\n       [ 3.,  5.,  7.],\n       [ 6.,  8., 10.]])\n----------------------------------------------------------------------------\n\n     *** Repeat reference found in numpy.core._multiarray_umath *** \n\n     *** Repeat reference found in numpy.core.multiarray *** \n\n     *** Repeat reference found in numpy.core.umath *** \n\n     *** Repeat reference found in numpy.core.numeric *** \n\n     *** Repeat reference found in numpy.linalg.linalg *** \n\n     *** Repeat reference found in numpy.lib.function_base *** \n\n     *** Repeat reference found in numpy.ma.core *** \n\n     *** Repeat reference found in numpy.ma.extras *** \n     *** Found in operator ***\nSame as a + b.\n----------------------------------------------------------------------------\n\n     *** Total of 13 references found. ***\n"
     ]
    }
   ],
   "source": [
    "np.info('add')"
   ]
  },
  {
   "cell_type": "code",
   "execution_count": 15,
   "metadata": {},
   "outputs": [
    {
     "output_type": "execute_result",
     "data": {
      "text/plain": [
       "array([5, 5, 5, 5])"
      ]
     },
     "metadata": {},
     "execution_count": 15
    }
   ],
   "source": [
    "a = np.array(np.random.random_sample((5,4)))\n",
    "sumb(a != 0)"
   ]
  },
  {
   "cell_type": "code",
   "execution_count": 55,
   "metadata": {},
   "outputs": [
    {
     "output_type": "stream",
     "name": "stdout",
     "text": [
      "     *** Found in numpy ***\n isscalar(element)\n\nReturns True if the type of `element` is a scalar type.\n\nParameters\n----------\nelement : any\n    Input argument, can be of any type and shape.\n\nReturns\n-------\nval : bool\n    True if `element` is a scalar type, False if it is not.\n\nSee Also\n--------\nndim : Get the number of dimensions of an array\n\nNotes\n-----\nIf you need a stricter way to identify a *numerical* scalar, use\n``isinstance(x, numbers.Number)``, as that returns ``False`` for most\nnon-numerical elements such as strings.\n\nIn most cases ``np.ndim(x) == 0`` should be used instead of this function,\nas that will also return true for 0d arrays. This is how numpy overloads\nfunctions in the style of the ``dx`` arguments to `gradient` and the ``bins``\nargument to `histogram`. Some key differences:\n\n+--------------------------------------+---------------+-------------------+\n| x                                    |``isscalar(x)``|``np.ndim(x) == 0``|\n+======================================+===============+===================+\n| PEP 3141 numeric objects (including  | ``True``      | ``True``          |\n| builtins)                            |               |                   |\n+--------------------------------------+---------------+-------------------+\n| builtin string and buffer objects    | ``True``      | ``True``          |\n+--------------------------------------+---------------+-------------------+\n| other builtin objects, like          | ``False``     | ``True``          |\n| `pathlib.Path`, `Exception`,         |               |                   |\n| the result of `re.compile`           |               |                   |\n+--------------------------------------+---------------+-------------------+\n| third-party objects like             | ``False``     | ``True``          |\n| `matplotlib.figure.Figure`           |               |                   |\n+--------------------------------------+---------------+-------------------+\n| zero-dimensional numpy arrays        | ``False``     | ``True``          |\n+--------------------------------------+---------------+-------------------+\n| other numpy arrays                   | ``False``     | ``False``         |\n+--------------------------------------+---------------+-------------------+\n| `list`, `tuple`, and other sequence  | ``False``     | ``False``         |\n| objects                              |               |                   |\n+--------------------------------------+---------------+-------------------+\n\nExamples\n--------\n>>> np.isscalar(3.1)\nTrue\n>>> np.isscalar(np.array(3.1))\nFalse\n>>> np.isscalar([3.1])\nFalse\n>>> np.isscalar(False)\nTrue\n>>> np.isscalar('numpy')\nTrue\n\nNumPy supports PEP 3141 numbers:\n\n>>> from fractions import Fraction\n>>> np.isscalar(Fraction(5, 17))\nTrue\n>>> from numbers import Number\n>>> np.isscalar(Number())\nTrue\n----------------------------------------------------------------------------\n\n     *** Repeat reference found in numpy.core *** \n\n     *** Repeat reference found in numpy.core.numeric *** \n\n     *** Repeat reference found in numpy.matrixlib.defmatrix *** \n\n     *** Repeat reference found in numpy.lib.function_base *** \n\n     *** Repeat reference found in numpy.lib.polynomial *** \n\n     *** Total of 6 references found. ***\n"
     ]
    }
   ],
   "source": [
    "np.info('isscalar')"
   ]
  },
  {
   "cell_type": "code",
   "execution_count": 50,
   "metadata": {},
   "outputs": [
    {
     "output_type": "execute_result",
     "data": {
      "text/plain": [
       "array([[False, False, False, False],\n",
       "       [False, False, False, False],\n",
       "       [False, False, False, False],\n",
       "       [False, False, False, False],\n",
       "       [False, False, False, False]])"
      ]
     },
     "metadata": {},
     "execution_count": 50
    }
   ],
   "source": [
    "np.isnan(a)"
   ]
  },
  {
   "cell_type": "code",
   "execution_count": 57,
   "metadata": {},
   "outputs": [
    {
     "output_type": "stream",
     "name": "stdout",
     "text": [
      "[[False False False False]\n [False False False False]\n [False False False False]\n [False False False False]\n [False False False False]]\n[[ True  True  True  True]\n [ True  True  True  True]\n [ True  True  True  True]\n [ True  True  True  True]\n [ True  True  True  True]]\nTrue\n"
     ]
    }
   ],
   "source": [
    "print(np.iscomplex(a))\n",
    "print(np.isreal(a))\n",
    "print(np.isscalar(12))\n",
    "\n"
   ]
  },
  {
   "cell_type": "code",
   "execution_count": 63,
   "metadata": {},
   "outputs": [
    {
     "output_type": "execute_result",
     "data": {
      "text/plain": [
       "array([[False, False, False, False],\n",
       "       [False, False, False, False],\n",
       "       [False, False, False, False],\n",
       "       [False, False, False, False],\n",
       "       [False, False, False, False]])"
      ]
     },
     "metadata": {},
     "execution_count": 63
    }
   ],
   "source": [
    "b = a + np.random.rand()\n",
    "np.equal(a,b)"
   ]
  },
  {
   "cell_type": "code",
   "execution_count": 74,
   "metadata": {},
   "outputs": [
    {
     "output_type": "stream",
     "name": "stdout",
     "text": [
      "None\n"
     ]
    }
   ],
   "source": [
    "a = 'abc'\n",
    "b\n",
    "print(list(a).reverse())"
   ]
  }
 ]
}