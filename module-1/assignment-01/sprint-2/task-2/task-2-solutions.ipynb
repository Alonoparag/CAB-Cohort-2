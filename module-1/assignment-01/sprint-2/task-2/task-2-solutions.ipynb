{
 "metadata": {
  "language_info": {
   "codemirror_mode": {
    "name": "ipython",
    "version": 3
   },
   "file_extension": ".py",
   "mimetype": "text/x-python",
   "name": "python",
   "nbconvert_exporter": "python",
   "pygments_lexer": "ipython3",
   "version": "3.9.2"
  },
  "orig_nbformat": 2,
  "kernelspec": {
   "name": "python392jvsc74a57bd0767d51c1340bd893661ea55ea3124f6de3c7a262a8b4abca0554b478b1e2ff90",
   "display_name": "Python 3.9.2 64-bit"
  }
 },
 "nbformat": 4,
 "nbformat_minor": 2,
 "cells": [
  {
   "source": [
    "Source: https://dsft.code-data-ai.com/stats-1/"
   ],
   "cell_type": "markdown",
   "metadata": {}
  },
  {
   "source": [
    " 1. Given, there are 5 numbers in the data set: (8, 12, 16, 24, 4). \n",
    " What will be the sum of deviations of individual data points from their mean ?\n",
    "\n"
   ],
   "cell_type": "markdown",
   "metadata": {}
  },
  {
   "source": [
    "\n",
    "The sum of the deviations could be described as $\\sum_{n=1}^5\\frac{(x_n-\\mu)}{n-1}$"
   ],
   "cell_type": "markdown",
   "metadata": {}
  },
  {
   "cell_type": "code",
   "execution_count": 11,
   "metadata": {},
   "outputs": [
    {
     "output_type": "execute_result",
     "data": {
      "text/plain": [
       "7.694153624668538"
      ]
     },
     "metadata": {},
     "execution_count": 11
    }
   ],
   "source": [
    "import numpy as np\n",
    "\n",
    "a = [8, 12, 16, 24, 4]\n",
    "mean = np.average(a)\n",
    "def sd(a):\n",
    "    su = 0\n",
    "    for num in a:\n",
    "        su+=(num-mean)**2/(len(a)-1)\n",
    "\n",
    "    return np.sqrt(su)\n",
    "\n",
    "sd(a)"
   ]
  },
  {
   "source": [
    "\n",
    "2. If some outliers are introduced to the dataset, what will happen to the Standard Deviation ? \n",
    " \n",
    "A) Standard Deviation is robust to outliers B) Standard Deviation will increase with the introduction of outliers. C) Standard Deviation will decrease with the introduction of outliers. D) Can not be determined.\n"
   ],
   "cell_type": "markdown",
   "metadata": {}
  },
  {
   "source": [
    "D) The standard deviation will change with the introduction of outliers, though the change is dependent on wether the outliers will increase the mean (and thus decrease the standard deviation) or decrease the mean (and thus increase the standard deviation)"
   ],
   "cell_type": "markdown",
   "metadata": {}
  },
  {
   "cell_type": "code",
   "execution_count": 12,
   "metadata": {},
   "outputs": [
    {
     "output_type": "execute_result",
     "data": {
      "text/plain": [
       "6.902753073955347"
      ]
     },
     "metadata": {},
     "execution_count": 12
    }
   ],
   "source": [
    "b = a[:]\n",
    "b.append(14)\n",
    "sd(b)"
   ]
  },
  {
   "cell_type": "code",
   "execution_count": 17,
   "metadata": {},
   "outputs": [
    {
     "output_type": "execute_result",
     "data": {
      "text/plain": [
       "8.407615595399209"
      ]
     },
     "metadata": {},
     "execution_count": 17
    }
   ],
   "source": [
    "c = a[:]\n",
    "c.append(2)\n",
    "sd(c)"
   ]
  },
  {
   "source": [
    "\n",
    "3. Suppose the below positively skewed distribution has a median of 30, which of the following statement is true?\n",
    "\n",
    "A) Mean is greater than 30\n",
    "B) Mean is less than 30\n",
    "C) Mode is greater than 30\n",
    "D) Mode is less than 30\n",
    "E) Both A and D\n",
    "F) Both B and C"
   ],
   "cell_type": "markdown",
   "metadata": {}
  },
  {
   "source": [
    "the statement (E) is true"
   ],
   "cell_type": "markdown",
   "metadata": {}
  }
 ]
}