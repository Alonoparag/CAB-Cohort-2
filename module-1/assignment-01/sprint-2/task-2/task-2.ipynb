{
 "metadata": {
  "language_info": {
   "codemirror_mode": {
    "name": "ipython",
    "version": 3
   },
   "file_extension": ".py",
   "mimetype": "text/x-python",
   "name": "python",
   "nbconvert_exporter": "python",
   "pygments_lexer": "ipython3",
   "version": 3
  },
  "orig_nbformat": 2
 },
 "nbformat": 4,
 "nbformat_minor": 2,
 "cells": [
  {
   "source": [
    "Source: https://dsft.code-data-ai.com/stats-1/"
   ],
   "cell_type": "markdown",
   "metadata": {}
  },
  {
   "source": [
    " 1. Given, there are 5 numbers in the data set: (8, 12, 16, 24, 4). \n",
    " What will be the sum of deviations of individual data points from their mean ?\n",
    "\n"
   ],
   "cell_type": "markdown",
   "metadata": {}
  },
  {
   "cell_type": "code",
   "execution_count": null,
   "metadata": {},
   "outputs": [],
   "source": []
  },
  {
   "source": [
    "\n",
    "2. If some outliers are introduced to the dataset, what will happen to the Standard Deviation ? \n",
    " \n",
    "A) Standard Deviation is robust to outliers B) Standard Deviation will increase with the introduction of outliers. C) Standard Deviation will decrease with the introduction of outliers. D) Can not be determined.\n"
   ],
   "cell_type": "markdown",
   "metadata": {}
  },
  {
   "cell_type": "code",
   "execution_count": null,
   "metadata": {},
   "outputs": [],
   "source": []
  },
  {
   "source": [
    "\n",
    "3. Suppose the below positively skewed distribution has a median of 30, which of the following statement is true?\n",
    "\n",
    "A) Mean is greater than 30\n",
    "B) Mean is less than 30\n",
    "C) Mode is greater than 30\n",
    "D) Mode is less than 30\n",
    "E) Both A and D\n",
    "F) Both B and C"
   ],
   "cell_type": "markdown",
   "metadata": {}
  },
  {
   "cell_type": "code",
   "execution_count": null,
   "metadata": {},
   "outputs": [],
   "source": []
  }
 ]
}