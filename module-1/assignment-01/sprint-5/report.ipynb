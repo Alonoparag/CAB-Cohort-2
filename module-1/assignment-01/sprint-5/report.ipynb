{
 "metadata": {
  "language_info": {
   "codemirror_mode": {
    "name": "ipython",
    "version": 3
   },
   "file_extension": ".py",
   "mimetype": "text/x-python",
   "name": "python",
   "nbconvert_exporter": "python",
   "pygments_lexer": "ipython3",
   "version": "3.9.4"
  },
  "orig_nbformat": 2,
  "kernelspec": {
   "name": "python3",
   "display_name": "Python 3",
   "language": "python"
  }
 },
 "nbformat": 4,
 "nbformat_minor": 2,
 "cells": [
  {
   "source": [
    "# Goals\n",
    "* determine quality of wine produced based on ingredients and composition\n",
    "* selling the wines at proper price based on its quality\n",
    "* include the estimated price along with the assessment of quality for a sample of wine prior to bottling.\n",
    "* Make business question and suggestion"
   ],
   "cell_type": "markdown",
   "metadata": {}
  },
  {
   "source": [
    "# Questions:\n",
    "* Do wines of different quality have statistically significant difference in physicochemical features?\n",
    "* Could an algorithim have better accuracy in predicting wine quality than a random guess?\n",
    "* is there a correlation between wine price and wine quality, and what is the difference of average wine price for different qualities\n",
    "* if there is a difference, does an investment in analytical system is justified?\n",
    "* !!! wine features that a producer receives do not include quality rating IRWS"
   ],
   "cell_type": "markdown",
   "metadata": {}
  },
  {
   "source": [
    "# Opening Slide\n",
    "* Predicting wine quality\n",
    "* Created by Alon Parag\n",
    "* Date: 17.05.2021\n",
    "* Client: BlueBerry Winery\n",
    "* Data:\n",
    "    * Modeling wine preferences by data mining from physicochemical properties by Cortez et al. (2009)\n",
    "    * Provided wine review data (CODE Analytics)"
   ],
   "cell_type": "markdown",
   "metadata": {}
  },
  {
   "source": [
    "# Background\n",
    "* Discussed matter:\n",
    "    * Do wines of different quality have statistically significant difference in physicochemical features?\n",
    "    * Could an algorithim have better accuracy in predicting wine quality than a random guess?\n",
    "* Methods:\n",
    "    * EDA\n",
    "    * Comparative prediction\n",
    "    * Model optimization\n",
    "    "
   ],
   "cell_type": "markdown",
   "metadata": {}
  },
  {
   "source": [
    "# Description\n",
    "## Price and quality\n",
    "* CODE analytics supplied the team with data containing quality ratings and prices for Vinho Verde wines. [Insert table]\n",
    "## Physicochemical wine analysis data.\n",
    "* Data is sourced from a study carried by Cortez et al. in 2009 called Modeling wine preferences by data mining from physicochemical properties.\n",
    "* the data includes samples of 4898 white wines and 1599 red wines\n",
    "* Numerical variables and their sources\n",
    "* The following properties were taken from the wine analysis:\n",
    "    * fixed acidity\n",
    "    * volatile acidity\n",
    "    * citric acid\n",
    "    * residual sugar\n",
    "    * chlorides\n",
    "    * free sulfur dioxide\n",
    "    * total sulfur dioxide\n",
    "    * density\n",
    "    * pH\n",
    "    * sulphates\n",
    "    * alcohol\n",
    "* in addition, each wine received a quality score obtained by testers, on a scale from 0 (lowest) to 10 (highest).\n",
    "* Since most of the samples (3915 wines out of 6497) has a quality score of 6 or 7, I added another property called \"Quality Label\", rated low(quality under 6), medium(quality of 6 or 7), and high(quality above 7)  due to the abovementiond imbalanced distribution of data, and because predictive models perform better with lower number of categories.\n",
    "* White wines and red wines have slightly different physicochemical features, therefore I analyzed and modeled them seperatly\n"
   ],
   "cell_type": "markdown",
   "metadata": {}
  },
  {
   "source": [
    "* Fixed acidity: acids are major wine properties and contribute greatly to the wine’s taste. Usually, the total acidity is divided into two groups: the volatile acids and the nonvolatile or fixed acids. Among the fixed acids that you can find in wines are the following: tartaric, malic, citric, and succinic. This variable is expressed in $\\frac{g(tartaricacid)}{liter}$ in the data sets.\n",
    "\n",
    "* Volatile acidity: the volatile acidity is basically the process of wine turning into vinegar. In the U.S, the legal limits of Volatile Acidity are 1.2 $\\frac{g}{L}$ for red table wine and 1.1 $\\frac{g}{L}$ for white table wine. In these data sets, the volatile acidity is expressed in $\\frac{g(aceticacid)}/{l}$. Excessive volatile acidity may result in lower wine quality\n",
    "\n",
    "* Citric acid is one of the fixed acids that you’ll find in wines. It’s expressed in $\\frac{g}{l}$ in the two data sets. Residual sugar typically refers to the sugar remaining after fermentation stops, or is stopped. It’s expressed in $\\frac{g}{l}$ in the red and white data.\n",
    "\n",
    "* Chlorides can be a significant contributor to saltiness in wine. Here, you’ll see that it’s expressed in $\\frac{g(sodiumchloride)}{l}$.\n",
    "* SO2 (sulfur dioxide) is added periodically throughout the winemaking process and plays a critical role in quality winemaking. Sulfur serves two main purposes. It prevents the wine from reacting with oxygen which can cause browning and off-odors (oxidation), and it inhibits the growth of bacteria and undesirable wild yeasts in the grape juice and wine.\n",
    "\n",
    "* Free sulfur dioxide: the part of the sulfur dioxide that is added to a wine and that is lost into it is said to be bound, while the active part is said to be free. The winemaker will always try to get the highest proportion of free sulfur to bind. This variable is expressed in $\\frac{mg}{l}$ in the data.\n",
    "\n",
    "* Total sulfur dioxide is the sum of the bound and the free sulfur dioxide (SO2). Here, it’s expressed in $\\frac{mg}{l}$. There are legal limits for sulfur levels in wines: in the EU, red wines can only have 160$\\frac{mg}{L}$, while white and rose wines can have about 210$\\frac{mg}{L}$. Sweet wines are allowed to have 400$\\frac{mg}{L}$. For the US, the legal limits are set at 350$\\frac{mg}{L}$, and for Australia, this is 250$\\frac{mg}{L}$.\n",
    "\n",
    "* Density is generally used as a measure of the conversion of sugar to alcohol. Here, it’s expressed in $\\frac{g}{ml}$.\n",
    "\n",
    "* pH or the potential of hydrogen is a numeric scale to specify the acidity or basicity the wine. As you might know, solutions with a pH less than 7 are acidic, while solutions with a pH greater than 7 are basic. With a pH of 7, pure water is neutral. Most wines have a pH between 2.9 and 3.9 and are therefore acidic.\n",
    "\n",
    "* Sulfates are to wine as gluten is to food. You might already know sulfites from the headaches that they can cause. They are a regular part of winemaking around the world and are considered necessary. In this case, they are expressed in \\frac{g(potassiumsulphate)}{l}$.\n",
    "\n",
    "* Alcohol: wine is an alcoholic beverage, and as you know, the percentage of alcohol can vary from wine to wine. It shouldn’t be surprised that this variable is included in the data sets, where it’s expressed in % vol. Concentration above 15% halts the fermentation process of wine\n",
    "\n",
    "* Quality: wine experts graded the wine quality between 0 (very bad) and 10 (very excellent). The eventual number is the median of at least three evaluations made by those same wine experts. Some analysts might combine these levels to *Low, Medium & High-Quality wines."
   ],
   "cell_type": "markdown",
   "metadata": {}
  },
  {
   "source": [
    "# Insights summary:\n",
    "\n"
   ],
   "cell_type": "markdown",
   "metadata": {}
  },
  {
   "source": [
    "# Insights per charachteristic:"
   ],
   "cell_type": "markdown",
   "metadata": {}
  },
  {
   "source": [
    "# Predictive Model\n",
    "* Classification models were compared, after the best performing model was chosen, it was optimized to accuracy of 86% for red wines and 88% for white wines. special care was taken to ensure that the model has least bias towards a specific quality label.\n",
    "[insert confusion matrices for red estimator and white estimator]"
   ],
   "cell_type": "markdown",
   "metadata": {}
  },
  {
   "source": [
    "# Closing slide"
   ],
   "cell_type": "markdown",
   "metadata": {}
  }
 ]
}