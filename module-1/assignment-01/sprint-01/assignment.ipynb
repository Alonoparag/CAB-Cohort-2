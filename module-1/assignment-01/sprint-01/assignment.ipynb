{
 "metadata": {
  "language_info": {
   "codemirror_mode": {
    "name": "ipython",
    "version": 3
   },
   "file_extension": ".py",
   "mimetype": "text/x-python",
   "name": "python",
   "nbconvert_exporter": "python",
   "pygments_lexer": "ipython3",
   "version": "3.9.2-final"
  },
  "orig_nbformat": 2,
  "kernelspec": {
   "name": "python3",
   "display_name": "Python 3.9.2 64-bit",
   "metadata": {
    "interpreter": {
     "hash": "767d51c1340bd893661ea55ea3124f6de3c7a262a8b4abca0554b478b1e2ff90"
    }
   }
  }
 },
 "nbformat": 4,
 "nbformat_minor": 2,
 "cells": [
  {
   "source": [
    "___Q1.___ Chocolate firm chocoBury wants to do smart advertisement for their newly launched chocolate brand across Germany in 2019 and target right aged customers. They have collected the years of birth of all of the customers and want to calculate their respective age.\n",
    "\n",
    "Given below is a list of 10 customers with year of birth, however, the list can be as large as several thousands of customers.\n",
    "\n",
    "[1999, 1995, 2005, 2010, 2007, 2006, 1994, 1996, 1979, 2008]\n",
    "\n",
    "The task is to write a function that returns the age of customers.\n",
    "\n",
    "Sample input:   [1999, 1995, 2005, 2010, 2007, 2006, 1994, 1996, 1979, 2008]\n",
    "Sample output: [20, 24, 14, 9, 12, 13, 25, 23, 40, 11] "
   ],
   "cell_type": "markdown",
   "metadata": {}
  },
  {
   "source": [
    "___Q2.___ It costs much for the chocolate firm chocoBury to do marketing for wide range of customers.<br>\n",
    "To save money, they want to narrow down the range of ages obtained in previous list.\n",
    "    \n",
    "Also, the oldest person and youngest person do not truly represent the targeted group for marketing campaign and they can be considered as _outliers_. \n",
    "\n",
    "The task is to write a function that removes the outliers (the oldest and youngest person’s age) and return the new list with age of 8 persons (in this case which contains data for 10 customers initially).\n"
   ],
   "cell_type": "markdown",
   "metadata": {}
  },
  {
   "cell_type": "code",
   "execution_count": null,
   "metadata": {},
   "outputs": [],
   "source": [
    "Q3. The chocolate firm chocoBury did the survey of customers in Berlin and Munich separately and came up with the following lists of the age of customers.\n",
    "\n",
    "berlin = [15, 13, 16, 18, 19, 10, 12 ]\n",
    "munich = [7, 13, 15, 20, 19, 18, 10, 16]\n",
    "\n",
    "However, marketing manager Henry thinks that a single list would be better to look at rather than having different lists from these 2 cities. So, Henry wants to have a common list from these 2 cities.\n",
    "\n",
    "The task is to write a function that takes these 2 lists as input and returns the common age values.\n",
    "\n",
    "Sample input: [15, 13, 16, 18, 19, 10, 12 ], [7, 13, 15, 20, 19, 18, 10, 16]\n",
    "\n",
    "Sample output: [15,13,16,18,19,10]"
   ]
  },
  {
   "cell_type": "code",
   "execution_count": null,
   "metadata": {},
   "outputs": [],
   "source": [
    "Q4. After careful investigation of the common age list, Henry, the marketing manager of the chocolate firm chocoBury, found out that many of the customer ages are simply duplicate values.  So, he asked Mark, the only software developer in the Chocolate company chocoBury, to give him the list with no redundant age values.\n",
    "\n",
    "The task is to write a function that takes the list with duplicate values as input and return the list with unique age values. \n",
    "\n",
    "Sample input: [15,13,16,18,19,15,10]\n",
    "Sample output: [15,13,16,18,19,10]"
   ]
  },
  {
   "cell_type": "code",
   "execution_count": null,
   "metadata": {},
   "outputs": [],
   "source": [
    "Q5. Henry generally asks software developer Mark if a certain age value is present in the list of customer ages or not. However, Henry, a busy manager, often forgets what Mark replies and asks the same question sometimes multiple times.\n",
    "\n",
    "Mark, a smart guy, thinks it is too boring for him and hence, he thinks why not he creates a function which will listen to Henry’s query and read through the age list & finally reply back to Henry if that age is present or not in the list.\n",
    "   \n",
    "The task is to write a function that takes an input list and value of age to find as input and return true or false if the age value is present or not.\n",
    "            \n",
    "Sample input: [15,13,16,18,19,15,10], 15\n",
    "Sample output: True\n",
    "\n",
    "Sample input: [15,13,16,18,19,15,10], 28\n",
    "Sample output: False"
   ]
  },
  {
   "source": [
    "# Intermediate"
   ],
   "cell_type": "markdown",
   "metadata": {}
  },
  {
   "cell_type": "code",
   "execution_count": null,
   "metadata": {},
   "outputs": [],
   "source": [
    "1. You are given an array (which will have a length of at least 3, but could be very large) containing integers. The array is either entirely comprised of odd integers or entirely comprised of even integers except for a single integer N.\n",
    "\n",
    "Write a method that takes the array as an argument and returns this “outlier” N.\n",
    "\n",
    "Sample test cases:\n",
    "[2, 4, 0, 100, 4, 11, 2602, 36]\n",
    "Should return: 11 (the only odd number)\n",
    "\n",
    "[160, 3, 1719, 19, 11, 13, -21]\n",
    "Should return: 160 (the only even number)\n",
    "\n",
    "find_outlier([2, 4, 6, 8, 10, 3])\n",
    "Should return: 3"
   ]
  },
  {
   "cell_type": "code",
   "execution_count": null,
   "metadata": {},
   "outputs": [],
   "source": [
    "2.  Your goal in this task is to implement a difference function, which subtracts one list from another and returns the result.\n",
    "\n",
    "It should remove all values from list a, which are present in list b.\n",
    "\n",
    "Lets call the function array_diff ( a , b )\n",
    "\n",
    "Sample test cases:\n",
    "array_diff([1,2],[1]) will return [2]\n",
    "array_diff([1,2,2], [2]) will return [1]"
   ]
  },
  {
   "cell_type": "code",
   "execution_count": null,
   "metadata": {},
   "outputs": [],
   "source": [
    "3. Given: an array containing hashes of names\n",
    "Return: a string formatted as a list of names separated by commas except for the last two names, which should be separated by an ampersand.\n",
    "\n",
    "Example:\n",
    "\n",
    "namelist([ {‘name’: ‘Bart’}, {‘name’: ‘Lisa’}, {‘name’: ‘Maggie’} ])\n",
    "# returns ‘Bart, Lisa & Maggie‘\n",
    "\n",
    "namelist([ {‘name’: ‘Bart’}, {‘name’: ‘Lisa’} ])\n",
    "# returns ‘Bart & Lisa‘\n",
    "\n",
    "namelist([ {‘name’: ‘Bart’} ])\n",
    "# returns ‘Bart‘\n",
    "\n",
    "namelist([])\n",
    "# returns ”"
   ]
  },
  {
   "cell_type": "code",
   "execution_count": null,
   "metadata": {},
   "outputs": [],
   "source": [
    "4. In this task, create a function that takes a list of non-negative integers and strings and returns a new list with the strings filtered out.\n",
    "\n",
    "Example\n",
    "filter_list([1,2,’a’,’b’]) == [1,2]\n",
    "filter_list([1,’a’,’b’,0,15]) == [1,0,15]\n",
    "filter_list([1,2,’aasf’,’1′,’123′,123]) == [1,2,123]"
   ]
  },
  {
   "cell_type": "code",
   "execution_count": null,
   "metadata": {},
   "outputs": [],
   "source": [
    "\n",
    "5. Given an array, find the int that appears an odd number of times.\n",
    "There will always be only one integer that appears an odd number of times.\n",
    "\n",
    "Example\n",
    "find_it([20,1,-1,2,-2,3,3,5,5,1,2,4,20,4,-1,-2,5])\n",
    "\n",
    "# returns 5"
   ]
  },
  {
   "cell_type": "code",
   "execution_count": null,
   "metadata": {},
   "outputs": [],
   "source": [
    "\n",
    "6. Check to see if a string has the same amount of ’x’s and ’o’s. The method must return a boolean and be case insensitive. The string can contain any char.\n",
    "\n",
    "Examples input/output:\n",
    "XO(“ooxx”) => true\n",
    "XO(“xooxx”) => false\n",
    "XO(“ooxXm”) => true\n",
    "XO(“zpzpzpp”) => true // when no ‘x’ and ‘o’ is present should return true\n",
    "XO(“zzoo”) => false"
   ]
  },
  {
   "cell_type": "code",
   "execution_count": null,
   "metadata": {},
   "outputs": [],
   "source": [
    "7. ATM machines allow 4 or 6 digit PIN codes and PIN codes cannot contain anything but exactly 4 digits or exactly 6 digits.\n",
    "\n",
    "If the function is passed a valid PIN string, return true, else return false.\n",
    "\n",
    "eg:\n",
    "\n",
    "validate_pin(“1234”) == True\n",
    "validate_pin(“12345″) == False\n",
    "validate_pin(“a234”) == False"
   ]
  },
  {
   "cell_type": "code",
   "execution_count": null,
   "metadata": {},
   "outputs": [],
   "source": [
    "8. Simple, given a string of words, return the length of the shortest word(s).\n",
    "\n",
    "String will never be empty and you do not need to account for different data types."
   ]
  },
  {
   "cell_type": "code",
   "execution_count": null,
   "metadata": {},
   "outputs": [],
   "source": [
    "9. Find the missing letter\n",
    "\n",
    "Write a method that takes an array of consecutive (increasing) letters as input and that returns the missing letter in the array.\n",
    "\n",
    "You will always get an valid array. And it will be always exactly one letter be missing. The length of the array will always be at least 2.\n",
    "The array will always contain letters in only one case.\n",
    "\n",
    "Example:\n",
    "[‘a’,‘b’,‘c’,‘d’,‘f’] -> ‘e’\n",
    "[‘O’,‘Q’,‘R’,‘S’] -> ‘P’\n",
    "\n",
    "(Use the English alphabet with 26 letters )"
   ]
  },
  {
   "cell_type": "code",
   "execution_count": null,
   "metadata": {},
   "outputs": [],
   "source": [
    "10.  Make a program that filters a list of strings and returns a list with only your friends name in it. If a name has exactly 4 letters in it, you can be sure that it has to be a friend of yours! Otherwise, you can be sure he /she is not.\n",
    "\n",
    "Ex: Input = [“Ryan”, “Kieran”, “Jason”, “Yous”], Output = [“Ryan”, “Yous”]\n",
    "\n",
    "Note: keep the original order of the names in the output."
   ]
  },
  {
   "source": [
    "# Set 2"
   ],
   "cell_type": "markdown",
   "metadata": {}
  },
  {
   "cell_type": "code",
   "execution_count": null,
   "metadata": {},
   "outputs": [],
   "source": [
    "1. Count the number of occurrences of each character and return it as a list of tuples in order of appearance.\n",
    "\n",
    "Example:\n",
    "ordered_count(“abracadabra”) == [(‘a’, 5), (‘b’, 2), (‘r’, 2), (‘c’, 1), (‘d’, 1)"
   ]
  },
  {
   "cell_type": "code",
   "execution_count": null,
   "metadata": {},
   "outputs": [],
   "source": [
    "2. A Narcissistic Number is a number which is the sum of its own digits, each raised to the power of the number of digits in a given base. In this problem, we will restrict ourselves to decimal (base 10).\n",
    "\n",
    "For example, take 153 (3 digits):\n",
    "1^3 + 5^3 + 3^3 = 1 + 125 + 27 = 153\n",
    "\n",
    "and 1634 (4 digits):\n",
    "1^4 + 6^4 + 3^4 + 4^4 = 1 + 1296 + 81 + 256 = 1634\n",
    "\n",
    "The Challenge:\n",
    "Your code must return true or false depending upon whether the given number is a narcissistic number in base 10. Error checking for text strings or other invalid inputs is not required, only valid integers will be passed into the function."
   ]
  },
  {
   "cell_type": "code",
   "execution_count": null,
   "metadata": {},
   "outputs": [],
   "source": [
    "3.  A pangram is a sentence that contains every single letter of the alphabet at least once. For example, the sentence “The quick brown fox jumps over the lazy dog” is a pangram, because it uses the letters A-Z at least once (case is irrelevant).\n",
    "\n",
    "Given a string, detect whether or not it is a pangram. Return True if it is, False if not. Ignore numbers and punctuation."
   ]
  },
  {
   "cell_type": "code",
   "execution_count": null,
   "metadata": {},
   "outputs": [],
   "source": [
    "4.  In the city of Cartesia, all roads are laid out in a perfect grid. You arrived ten minutes earlier to an appointment, so you decided to take the opportunity to go for a short walk. The city provides its citizens with a Walk Generating App on their phones — every time you press the button it sends you an array of one-letter strings representing directions to walk (e.g. [‘n’, ‘s’, ‘w’, ‘e’]). You always walk only a single block in a direction and you know it takes you one minute to traverse one city block, so create a function that will return True if the walk the app tells you that you will take exactly ten minutes (you don’t want to be early or late!) and will, of course, return to your starting point. Return False otherwise.\n",
    "\n",
    "Note: you will always receive a valid array containing a random assortment of direction letters (‘n’, ‘s’, ‘e’, or ‘w’ only). It will never give you an empty array (that’s not a walk, that’s standing still!).\n",
    "\n",
    "[‘n’, ‘e’, ‘e’, ‘n’, ‘e’, ‘w’, ‘n’, ‘n’, ‘s’, ‘e’]                                                        False\n",
    "[‘e’, ‘n’, ‘w’, ‘e’, ‘e’, ‘s’, ‘n’, ‘s’, ‘e’, ‘n’, ‘n’, ‘s’, ‘n’, ‘e’, ‘w’, ‘n’, ‘n’, ‘n’, ‘s’]    False\n",
    "[‘s’, ‘e’, ‘s’, ‘n’, ‘s’, ‘s’, ‘s’, ‘w’, ‘e’, ‘e’, ‘e’, ‘w’, ‘s’]                                         False\n",
    "[‘e’, ‘w’, ‘e’, ‘n’, ‘s’]                                                                                     False\n",
    "[s, e, w, n, n, s, e, w, n, s]                                                                        True"
   ]
  },
  {
   "source": [
    "# Set 3"
   ],
   "cell_type": "markdown",
   "metadata": {}
  },
  {
   "cell_type": "code",
   "execution_count": null,
   "metadata": {},
   "outputs": [],
   "source": [
    "1. You are given an array strarr of strings and an integer k. Your task is to return the first longest string consisting of k consecutive strings taken in the array.\n",
    "\n",
    "Example:\n",
    "longest_consec([“zone”, “abigail”, “theta”, “form”, “libe”, “zas”, “theta”, “abigail”], 2) “abigailtheta”\n",
    "\n",
    "n being the length of the string array, if n = 0 or k > n or k <= 0 return “”.\n",
    "\n",
    "Note\n",
    "consecutive strings : follow one after another without an interruption"
   ]
  },
  {
   "cell_type": "code",
   "execution_count": null,
   "metadata": {},
   "outputs": [],
   "source": [
    "\n",
    "\n",
    "2.  Alice and Bob were on a holiday. Both of them took many pictures of the places they’ve been, and now they want to show Charlie their entire collection. However, Charlie doesn’t like this sessions, since the motive usually repeats. He isn’t fond of seeing the Eiffel tower 40 times. He tells them that he will only sit during the session if they show the same motive at most N times. Luckily, Alice and Bob are able to encode the motive as a number. Can you help them to remove numbers such that their list contains each number only up to N times, without changing the order?\n",
    "\n",
    "Task\n",
    "Given a list lst and a number N, create a new list that contains each number of lst at most N times without reordering. For example if N = 2, and the input is [1,2,3,1,2,1,2,3], you take [1,2,3,1,2], drop the next [1,2] since this would lead to 1 and 2 being in the result 3 times, and then take 3, which leads to [1,2,3,1,2,3].\n",
    "\n",
    "Example\n",
    "  delete_nth ([1,1,1,1],2)          # return [1,1]\n",
    "  delete_nth ([20,37,20,21],1) # return [20,37,21]\n"
   ]
  },
  {
   "cell_type": "code",
   "execution_count": null,
   "metadata": {},
   "outputs": [],
   "source": [
    "3. In this problem, given a string, replace every letter with its position in the alphabet.\n",
    "If anything in the text isn’t a letter, ignore it and don’t return it.\n",
    "\n",
    "“a” = 1, “b” = 2, etc.\n",
    "\n",
    "Example\n",
    "alphabet_position(“The sunset sets at twelve o’ clock.”)\n",
    "Should return “20 8 5 19 21 14 19 5 20 19 5 20 19 1 20 20 23 5 12 22 5 15 3 12 15 3 11” (as a string)\n",
    "\n",
    "\n",
    "4.  Bob is preparing to pass IQ test. The most frequent task in this test is to find out which one of the given numbers differs from the others. Bob observed that one number usually differs from the others in evenness. Help Bob — to check his answers, he needs a program that among the given numbers finds one that is different in evenness, and return a position of this number.!\n",
    "\n",
    "Keep in mind that your task is to help Bob solve a real IQ test, which means indexes of the elements start from 1 (not 0)\n",
    "\n",
    "Also, you can not use for loop to solve this,\n",
    "\n",
    "Examples :\n",
    "iq_test(“2 4 7 8 10”) => 3 // Third number is odd, while the rest of the numbers are even\n",
    "\n",
    "iq_test(“1 2 1 1”) => 2 // Second number is even, while the rest of the numbers are odd"
   ]
  },
  {
   "cell_type": "code",
   "execution_count": null,
   "metadata": {},
   "outputs": [],
   "source": [
    "5. Complete the function scramble(str1, str2) that returns true if a portion of str1 characters can be rearranged to match str2, otherwise returns false.\n",
    "\n",
    "Notes:\n",
    "Only lower case letters will be used (a-z). No punctuation or digits will be included.\n",
    "Performance needs to be considered\n",
    "Input strings s1 and s2 are null terminated.\n",
    "Examples\n",
    "scramble(‘rkqodlw’, ‘world’)                              ==> True\n",
    "scramble(‘cedewaraaossoqqyt’, ‘codewars’) ==> True\n",
    "scramble(‘katas’, ‘steak’)                                    ==> False"
   ]
  },
  {
   "cell_type": "code",
   "execution_count": null,
   "metadata": {},
   "outputs": [],
   "source": [
    "6. The maximum sum subarray problem consists in finding the maximum sum of a contiguous subsequence in an array or list of integers:\n",
    "\n",
    "maxSequence([-2, 1, -3, 4, -1, 2, 1, -5, 4])\n",
    "# It should return 6  that is sum of these 4 numbers [4, -1, 2, 1]\n",
    "Easy case is when the list is made up of only positive numbers and the maximum sum is the sum of the whole array. If the list is made up of only negative numbers, return 0 instead.\n",
    "\n",
    "Empty list is considered to have zero greatest sum. Note that the empty list or array is also a valid sublist/subarray.\n",
    "\n",
    "hints: https://en.wikipedia.org/wiki/Maximum_subarray_problem"
   ]
  },
  {
   "source": [
    "# Set 4"
   ],
   "cell_type": "markdown",
   "metadata": {}
  },
  {
   "cell_type": "code",
   "execution_count": null,
   "metadata": {},
   "outputs": [],
   "source": [
    "\n",
    "\n",
    "1. In a small town in country Dreamland, the initial population is 1000 at the beginning of a year. The population regularly increases by 4 percent per year and recently the town has set up new industries. So,100 new inhabitants come for job or studies every year.\n",
    "\n",
    "The townhead wants an estimate that in how many years, the the town will get certain population based on varying ‘percentage of population growth‘ and ‘number of incoming people‘.\n",
    "\n",
    "A sample question from townhead would be:\n",
    "How many years does the town need to see its target population greater or equal to 1200 inhabitants?\n",
    "\n",
    "At the end of the first year there will be: \n",
    "1000 + 1000 * 0.04 + 100 => 1140 inhabitants\n",
    "\n",
    "At the end of the 2nd year there will be: \n",
    "1140 + 1140 * 0.04 + 100 =>  1286 inhabitants (population can not be fraction)\n",
    "\n",
    "It will need 2 entire years.\n",
    "\n",
    "More generally given parameters:\n",
    "\n",
    "population(initial population), percent, newcomers, target (population to surpass)\n",
    "the function number_of_years should return n number of entire years needed to get a population greater or equal to target.\n",
    "newcomers is an integer, percent a positive or null number, population and target are positive integers (> 0)\n",
    "\n",
    "Examples:\n",
    "number_of_years(1500, 5, 100, 10000) -> 26\n",
    "number_of_years(1500000, 2.5, 10000, 2000000) -> 10\n"
   ]
  },
  {
   "cell_type": "code",
   "execution_count": null,
   "metadata": {},
   "outputs": [],
   "source": [
    "2. Some languages like Chinese, Japanese & Thai do not have spaces between words. However, most natural languages processing tasks like part-of-speech tagging require texts that have segmented words. \n",
    "\n",
    "“MaxMatch” is a simple and reasonably effective algorithm to segment a sentence into its component words.\n",
    "\n",
    "MaxMatch\n",
    "MaxMatch starts at the first character of a sentence and tries to find the longest valid word starting from that character. If no word is found, the first character is deemed the longest “word”, regardless of its validity. In order to find the rest of the words, MaxMatch is then recursively invoked on all of the remaining characters until no characters remain. A list of all of the words that were found is returned.\n",
    "\n",
    "So for the string “happynight“, “happy” is found because “happynight” is not a valid word, nor is “happyni“, nor “happyn“. Then, MaxMatch is called on “night”, and “night” is found. The output is the list [“happy“, “night“] in that order.\n",
    "\n",
    "The Challenge\n",
    "Write max_match, which takes an alphanumeric, spaceless, lowercased String as input and returns a List of Strings of all the words/ alphabets found, in the order they were found. All valid words including alphabets can be obtained with below set of code:\n",
    "\n",
    "import nltk\n",
    "nltk.download(‘words’)\n",
    "english_vocab = set(w.lower() for w in nltk.corpus.words.words())\n",
    "\n",
    "english_vocab will contain all the valid words & alphabets. \n",
    "\n",
    "Example\n",
    "max_match(‘happynightzig‘)\n",
    "Output:\n",
    "[‘happy‘, ‘night‘, ‘zig‘]\n",
    "\n",
    "max_match(‘happynightzi‘)\n",
    "Output:\n",
    "[‘happy‘, ‘night‘, ‘z’, ‘i’]"
   ]
  },
  {
   "cell_type": "code",
   "execution_count": null,
   "metadata": {},
   "outputs": [],
   "source": [
    "3.  An array is circularly sorted if the elements are sorted in ascending order, but displaced, or rotated, by any number of steps.\n",
    "\n",
    "Complete the function/method that determines if the given array of integers is circularly sorted.\n",
    "\n",
    "Examples\n",
    "These arrays are circularly sorted (true):\n",
    "\n",
    "[2, 3, 4, 5, 0, 1]          –>       [0, 1] + [2, 3, 4, 5]\n",
    "[4, 5, 6, 9, 1]              –>       [1] + [4, 5, 6, 9]\n",
    "[10, 11, 6, 7, 9]          –>       [6, 7, 9] + [10, 11]\n",
    "[1, 2, 3, 4, 5]              –>       [1, 2, 3, 4, 5]\n",
    "[5, 7, 43, 987, -9, 0]  –>       [-9, 0] + [5, 7, 43, 987]\n",
    "\n",
    "While these are not (false):\n",
    "[4, 1, 2, 5]\n",
    "[8, 7, 6, 5, 4, 3]\n",
    "[6, 7, 4, 8]\n",
    "[7, 6, 5, 4, 3, 2, 1]"
   ]
  },
  {
   "cell_type": "code",
   "execution_count": null,
   "metadata": {},
   "outputs": [],
   "source": [
    "\n",
    "\n",
    "4. The new movie “SpaceXtreme” has just been released! There are a lot of people at the cinema box office standing in a huge line. Each of them has a single 100, 50 or 25 dollar bill. An “SpaceXtreme” ticket costs 25 dollars.\n",
    "\n",
    "Steve is currently working as a clerk. He wants to sell a ticket to every single person in this line.\n",
    "Can Steve sell a ticket to every person and give change if he initially has no money and sells the tickets strictly in the order people queue?\n",
    "\n",
    "Return YES, if Steve can sell a ticket to every person and give change with the bills he has at hand at that moment. Otherwise return NO.\n",
    "Examples\n",
    "\n",
    "tickets([25, 25, 50]) # => YES \n",
    "tickets([25, 100]) # => NO. Steve will not have enough money to give change to 100 dollars\n",
    "tickets([25, 25, 50, 50, 100]) # => NO. Steve will not have the right bills to give 75 dollars of change (you can’t make two bills of 25 from one of 50.\n",
    "\n",
    "5. Given a String of length N reverse each word in it. Words are separated by comma.\n",
    "\n",
    "Input:\n",
    "The first line contains T denoting the number of testcases. Then follows description of testcases. Each case contains a string containing dots and characters.\n",
    "\n",
    "Output:\n",
    "For each test case, output a String in single line containing the reversed words of the given String.\n",
    "\n",
    "Constraints:\n",
    "1<=T<=10\n",
    "1<=Length of String<=2000\n",
    "\n",
    "Example\n",
    "Input:\n",
    "2\n",
    "i,like,this,program,very,much\n",
    "pqr.mno\n",
    "\n",
    "Output:\n",
    "i,ekil,siht,margorp,yrev,hcum\n",
    "rqp,onm"
   ]
  },
  {
   "cell_type": "code",
   "execution_count": null,
   "metadata": {},
   "outputs": [],
   "source": [
    "6. Write a function, persistence, that takes in a positive parameter num and returns its multiplicative persistence, which is the number of times you must multiply the digits in num until you reach a single digit.\n",
    "\n",
    "For example:\n",
    "persistence(38) => 2  # Because 3*8 = 24, 2*4 = 8 and 8 has only one digit.\n",
    "persistence(999) => 4 # Because 9*9*9 = 729, 7*2*9 = 126, 1*2*6 = 12, and finally 1*2 = 2.\n",
    "persistence(4) => 0   # Because 4 is already a one-digit number."
   ]
  },
  {
   "cell_type": "code",
   "execution_count": null,
   "metadata": {},
   "outputs": [],
   "source": [
    " 7. Maria needs to get on a train that leaves from the station D kilometres away in T minutes. She can get a taxi that drives at S1 km/h for the price of R €/km or she can walk at S2 km/h for free.\n",
    "\n",
    "A correct solution will be a function that returns the minimum price she needs to pay the taxi driver or the string “Won’t make it!“.\n",
    "All the inputs will be positive integers, the output has to be a string containing a number with two decimal places – or “Won’t make it!” if that is the case.\n",
    "\n",
    "It won’t take her any time to get on the taxi or the train.\n",
    "In non-trivial cases, the need is to combine walking and riding the taxi so that she makes it, but pays as little as possible.\n",
    "\n",
    "The input parameters will be in that order:\n",
    "Distance, Time, Taxi speed, Price rate of taxi per km, Walking speed\n",
    "\n",
    "Example\n",
    "calculate_optimal_fare(10, 50, 30, 10, 6)\n",
    "Output: 62.50\n",
    "\n",
    "calculate_optimal_fare(100, 50, 30, 10, 6)\n",
    "Output: “Won’t make it!"
   ]
  },
  {
   "cell_type": "code",
   "execution_count": null,
   "metadata": {},
   "outputs": [],
   "source": []
  }
 ]
}