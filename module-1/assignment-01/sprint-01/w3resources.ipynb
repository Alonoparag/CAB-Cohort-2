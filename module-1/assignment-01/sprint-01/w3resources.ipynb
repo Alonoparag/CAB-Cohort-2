{
 "metadata": {
  "language_info": {
   "codemirror_mode": {
    "name": "ipython",
    "version": 3
   },
   "file_extension": ".py",
   "mimetype": "text/x-python",
   "name": "python",
   "nbconvert_exporter": "python",
   "pygments_lexer": "ipython3",
   "version": "3.9.2-final"
  },
  "orig_nbformat": 2,
  "kernelspec": {
   "name": "python3",
   "display_name": "Python 3.9.2 64-bit",
   "metadata": {
    "interpreter": {
     "hash": "767d51c1340bd893661ea55ea3124f6de3c7a262a8b4abca0554b478b1e2ff90"
    }
   }
  }
 },
 "nbformat": 4,
 "nbformat_minor": 2,
 "cells": [
  {
   "source": [
    "11. Write a Python program to print the documents (syntax, description etc.) of Python built-in function(s).\n",
    "Sample function : abs()\n",
    "Expected Result :\n",
    "abs(number) -> number\n",
    "Return the absolute value of the argument."
   ],
   "cell_type": "markdown",
   "metadata": {}
  },
  {
   "cell_type": "code",
   "execution_count": 12,
   "metadata": {},
   "outputs": [
    {
     "output_type": "execute_result",
     "data": {
      "text/plain": [
       "\"str(object='') -> str\\nstr(bytes_or_buffer[, encoding[, errors]]) -> str\\n\\nCreate a new string object from the given object. If encoding or\\nerrors is specified, then the object must expose a data buffer\\nthat will be decoded using the given encoding and error handler.\\nOtherwise, returns the result of object.__str__() (if defined)\\nor repr(object).\\nencoding defaults to sys.getdefaultencoding().\\nerrors defaults to 'strict'.\""
      ]
     },
     "metadata": {},
     "execution_count": 12
    }
   ],
   "source": [
    "import ast\n",
    "\n",
    "def doc(func):\n",
    "    return func.__doc__\n",
    "\n",
    "doc(str)"
   ]
  },
  {
   "cell_type": "code",
   "execution_count": 20,
   "metadata": {},
   "outputs": [],
   "source": [
    "import calendar\n",
    "def print_cal(year,month):\n",
    "    cal = calendar.Calendar()\n",
    "    return cal.monthdayscalendar(year,month)"
   ]
  },
  {
   "cell_type": "code",
   "execution_count": 21,
   "metadata": {},
   "outputs": [
    {
     "output_type": "execute_result",
     "data": {
      "text/plain": [
       "[[0, 0, 1, 2, 3, 4, 5],\n",
       " [6, 7, 8, 9, 10, 11, 12],\n",
       " [13, 14, 15, 16, 17, 18, 19],\n",
       " [20, 21, 22, 23, 24, 25, 26],\n",
       " [27, 28, 29, 30, 31, 0, 0]]"
      ]
     },
     "metadata": {},
     "execution_count": 21
    }
   ],
   "source": [
    "print_cal(1990,8)"
   ]
  },
  {
   "cell_type": "code",
   "execution_count": 46,
   "metadata": {},
   "outputs": [
    {
     "output_type": "stream",
     "name": "stdout",
     "text": [
      "12 days, 0:00:00\n"
     ]
    }
   ],
   "source": [
    "import datetime\n",
    "\n",
    "def day_diff(date1, date2):\n",
    "    date1 = datetime.date(date1[0],date1[1],date1[2])\n",
    "    date2 = datetime.date(date2[0],date2[1],date2[2])\n",
    "    return date1-date2\n",
    "\n",
    "print(day_diff((1990,8,15), (1990,8,3)))\n",
    "# date=datetime.date(1990,8,15)\n",
    "# print(type(date))"
   ]
  },
  {
   "source": [
    "Write a Python program to get the volume of a sphere with radius 6."
   ],
   "cell_type": "markdown",
   "metadata": {}
  },
  {
   "cell_type": "code",
   "execution_count": 1,
   "metadata": {},
   "outputs": [
    {
     "output_type": "stream",
     "name": "stdout",
     "text": [
      "678.5840131753953\n"
     ]
    }
   ],
   "source": [
    "import math\n",
    "print(6**3*math.pi)"
   ]
  },
  {
   "cell_type": "code",
   "execution_count": null,
   "metadata": {},
   "outputs": [],
   "source": [
    "def diff(num):\n",
    "    if num>17:\n",
    "        return abs(num-17)*2\n",
    "    else:\n",
    "        return num-17\n",
    "        "
   ]
  },
  {
   "cell_type": "code",
   "execution_count": null,
   "metadata": {},
   "outputs": [],
   "source": [
    "def rang(num):\n",
    "    return 1000-num <= 100 or 2000-num <=100"
   ]
  },
  {
   "cell_type": "code",
   "execution_count": 8,
   "metadata": {},
   "outputs": [
    {
     "output_type": "execute_result",
     "data": {
      "text/plain": [
       "18"
      ]
     },
     "metadata": {},
     "execution_count": 8
    }
   ],
   "source": [
    "def su(*args):\n",
    "    if args[0] == args[2] and args[1] == args[2]:\n",
    "        return sum(args)*3\n",
    "    else:\n",
    "        return sum(args)\n",
    "\n",
    "su(2,2,2)"
   ]
  },
  {
   "source": [
    "Write a Python program to get a new string from a given string where \"Is\" has been added to the front. If the given string already begins with \"Is\" then return the string unchanged"
   ],
   "cell_type": "markdown",
   "metadata": {}
  },
  {
   "cell_type": "code",
   "execution_count": null,
   "metadata": {},
   "outputs": [],
   "source": [
    "def new_str(st):\n",
    "    if st[0] = 'I'and st[1] = 's' and st[2] = ' ':\n",
    "        return st\n",
    "    else:\n",
    "        return 'Is '+st"
   ]
  },
  {
   "cell_type": "code",
   "execution_count": 13,
   "metadata": {},
   "outputs": [
    {
     "output_type": "execute_result",
     "data": {
      "text/plain": [
       "12722.792627665736"
      ]
     },
     "metadata": {},
     "execution_count": 13
    }
   ],
   "source": [
    "def comp(prin, inter, years):\n",
    "    compounded = prin\n",
    "    for y in range(years):\n",
    "        compounded +=compounded*(inter/100)\n",
    "    return compounded\n",
    "\n",
    "comp(10**4,3.5,7)"
   ]
  },
  {
   "cell_type": "code",
   "execution_count": null,
   "metadata": {},
   "outputs": [],
   "source": []
  }
 ]
}