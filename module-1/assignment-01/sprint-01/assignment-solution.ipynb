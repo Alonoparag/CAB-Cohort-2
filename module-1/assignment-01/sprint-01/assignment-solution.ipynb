{
 "metadata": {
  "language_info": {
   "codemirror_mode": {
    "name": "ipython",
    "version": 3
   },
   "file_extension": ".py",
   "mimetype": "text/x-python",
   "name": "python",
   "nbconvert_exporter": "python",
   "pygments_lexer": "ipython3",
   "version": "3.9.4"
  },
  "orig_nbformat": 2,
  "kernelspec": {
   "name": "python394jvsc74a57bd07ee1767db006681463b104ee948b779415073a2cb48cc2fc3d7f652b84688def",
   "display_name": "Python 3.9.4 64-bit ('module-1-sprint-1': conda)"
  }
 },
 "nbformat": 4,
 "nbformat_minor": 2,
 "cells": [
  {
   "source": [
    "___Q1.___ Chocolate firm chocoBury wants to do smart advertisement for their newly launched chocolate brand across Germany in 2019 and target right aged customers. They have collected the years of birth of all of the customers and want to calculate their respective age.\n",
    "\n",
    "Given below is a list of 10 customers with year of birth, however, the list can be as large as several thousands of customers.\n",
    "\n",
    "[1999, 1995, 2005, 2010, 2007, 2006, 1994, 1996, 1979, 2008]\n",
    "\n",
    "The task is to write a function that returns the age of customers.\n",
    "\n",
    "Sample input:   [1999, 1995, 2005, 2010, 2007, 2006, 1994, 1996, 1979, 2008]\n",
    "Sample output: [20, 24, 14, 9, 12, 13, 25, 23, 40, 11] "
   ],
   "cell_type": "markdown",
   "metadata": {}
  },
  {
   "cell_type": "code",
   "execution_count": 8,
   "metadata": {},
   "outputs": [
    {
     "output_type": "stream",
     "name": "stdout",
     "text": [
      "[22, 26, 16, 11, 14, 15, 27, 25, 42, 13]\n"
     ]
    }
   ],
   "source": [
    "import datetime\n",
    "\n",
    "import datetime\n",
    "\n",
    "def currentAge(list_birth_year):\n",
    "    current_year = datetime.datetime.now().year\n",
    "    return [current_year - y for y in list_birth_year]\n",
    "\n",
    "sample = [1999, 1995, 2005, 2010, 2007, 2006, 1994, 1996, 1979, 2008]\n",
    "\n",
    "print(currentAge(sample))"
   ]
  },
  {
   "source": [
    "___Q2.___ It costs much for the chocolate firm chocoBury to do marketing for wide range of customers.<br>\n",
    "To save money, they want to narrow down the range of ages obtained in previous list.\n",
    "    \n",
    "Also, the oldest person and youngest person do not truly represent the targeted group for marketing campaign and they can be considered as _outliers_. \n",
    "\n",
    "The task is to write a function that removes the outliers (the oldest and youngest person’s age) and return the new list with age of 8 persons (in this case which contains data for 10 customers initially).\n"
   ],
   "cell_type": "markdown",
   "metadata": {}
  },
  {
   "cell_type": "code",
   "execution_count": 13,
   "metadata": {},
   "outputs": [],
   "source": [
    "sample_input= [20, 24, 14, 9, 12, 13, 25, 23, 40, 11]\n",
    "sample_output= [20, 24, 14, 12, 13, 25, 23, 11]\n",
    "\n",
    "\n",
    "def clean_list(list_ages):\n",
    "    \"\"\"\n",
    "    Assumes:\n",
    "         list_ages list of Integers\n",
    "    Returns:\n",
    "         list of length 8.\n",
    "    \"\"\"\n",
    "    list_ages.sort()\n",
    "    list_out = list_ages\n",
    "    older = False\n",
    "    attempt = 0\n",
    "    while len(list_out) > 8 and attempt < 30:\n",
    "        try:\n",
    "            assert attempt < 300, \"Infinite loop\"\n",
    "            if older:\n",
    "                list_out = list_out[1:]\n",
    "                older = False\n",
    "            else:\n",
    "                list_out = list_out[:-1]\n",
    "                older = True\n",
    "            attempt +=1\n",
    "        except AssertionError as e:\n",
    "            print(e)\n",
    "        except:\n",
    "            print(\"Something went wrong\")\n",
    "    return list_out"
   ]
  },
  {
   "cell_type": "code",
   "execution_count": 14,
   "metadata": {},
   "outputs": [
    {
     "output_type": "stream",
     "name": "stdout",
     "text": [
      "[9, 11, 12, 13, 14, 20, 23, 24, 25, 40]\n[11, 12, 13, 14, 20, 23, 24, 25, 40]\n[9, 11, 12, 13, 14, 20, 23, 24, 25]\n[11, 12, 13, 14, 20, 23, 24, 25]\n"
     ]
    },
    {
     "output_type": "execute_result",
     "data": {
      "text/plain": [
       "[11, 12, 13, 14, 20, 23, 24, 25]"
      ]
     },
     "metadata": {},
     "execution_count": 14
    }
   ],
   "source": [
    "clean_list(sample_input)"
   ]
  },
  {
   "cell_type": "code",
   "execution_count": null,
   "metadata": {},
   "outputs": [],
   "source": [
    "Q3. The chocolate firm chocoBury did the survey of customers in Berlin and Munich separately and came up with the following lists of the age of customers.\n",
    "\n",
    "berlin = [15, 13, 16, 18, 19, 10, 12 ]\n",
    "munich = [7, 13, 15, 20, 19, 18, 10, 16]\n",
    "\n",
    "However, marketing manager Henry thinks that a single list would be better to look at rather than having different lists from these 2 cities. So, Henry wants to have a common list from these 2 cities.\n",
    "\n",
    "The task is to write a function that takes these 2 lists as input and returns the common age values.\n",
    "\n",
    "Sample input: [15, 13, 16, 18, 19, 10, 12 ], [7, 13, 15, 20, 19, 18, 10, 16]\n",
    "\n",
    "Sample output: [15,13,16,18,19,10]"
   ]
  },
  {
   "cell_type": "code",
   "execution_count": 1,
   "metadata": {},
   "outputs": [],
   "source": [
    "in_1,in_2 = ([15, 13, 16, 18, 19, 10, 12 ], [7, 13, 15, 20, 19, 18, 10, 16])\n",
    "\n",
    "def join_common(list_1, list_2):\n",
    "    list_out = []\n",
    "    for age in list_1:\n",
    "        if age in list_2: list_out.append(age) \n",
    "    return list_out"
   ]
  },
  {
   "cell_type": "code",
   "execution_count": 2,
   "metadata": {},
   "outputs": [
    {
     "output_type": "execute_result",
     "data": {
      "text/plain": [
       "[15, 13, 16, 18, 19, 10]"
      ]
     },
     "metadata": {},
     "execution_count": 2
    }
   ],
   "source": [
    "join_common(in_1,in_2)"
   ]
  },
  {
   "cell_type": "code",
   "execution_count": null,
   "metadata": {},
   "outputs": [],
   "source": [
    "Q4. After careful investigation of the common age list, Henry, the marketing manager of the chocolate firm chocoBury, found out that many of the customer ages are simply duplicate values.  So, he asked Mark, the only software developer in the Chocolate company chocoBury, to give him the list with no redundant age values.\n",
    "\n",
    "The task is to write a function that takes the list with duplicate values as input and return the list with unique age values. \n",
    "\n",
    "Sample input: [15,13,16,18,19,15,10]\n",
    "Sample output: [15,13,16,18,19,10]"
   ]
  },
  {
   "cell_type": "code",
   "execution_count": 3,
   "metadata": {},
   "outputs": [],
   "source": [
    "sample_input= [15,13,16,18,19,15,10]\n",
    "sample_output= [15,13,16,18,19,10]\n",
    "def return_unique(in_list):\n",
    "    out_list = []\n",
    "    for item in in_list:\n",
    "        if item not in out_list: out_list.append(item)\n",
    "    return out_list"
   ]
  },
  {
   "cell_type": "code",
   "execution_count": 4,
   "metadata": {},
   "outputs": [
    {
     "output_type": "execute_result",
     "data": {
      "text/plain": [
       "[15, 13, 16, 18, 19, 10]"
      ]
     },
     "metadata": {},
     "execution_count": 4
    }
   ],
   "source": [
    "return_unique(sample_input)"
   ]
  },
  {
   "cell_type": "code",
   "execution_count": null,
   "metadata": {},
   "outputs": [],
   "source": [
    "Q5. Henry generally asks software developer Mark if a certain age value is present in the list of customer ages or not. However, Henry, a busy manager, often forgets what Mark replies and asks the same question sometimes multiple times.\n",
    "\n",
    "Mark, a smart guy, thinks it is too boring for him and hence, he thinks why not he creates a function which will listen to Henry’s query and read through the age list & finally reply back to Henry if that age is present or not in the list.\n",
    "   \n",
    "The task is to write a function that takes an input list and value of age to find as input and return true or false if the age value is present or not.\n",
    "            \n",
    "Sample input: [15,13,16,18,19,15,10], 15\n",
    "Sample output: True\n",
    "\n",
    "Sample input: [15,13,16,18,19,15,10], 28\n",
    "Sample output: False"
   ]
  },
  {
   "cell_type": "code",
   "execution_count": 10,
   "metadata": {},
   "outputs": [],
   "source": [
    "inputs= [([15,13,16,18,19,15,10], 15, True),([15,13,16,18,19,15,10], 28\n",
    ",False)]\n",
    "\n",
    "def is_in_list(list, age):\n",
    "        return age in list"
   ]
  },
  {
   "cell_type": "code",
   "execution_count": 13,
   "metadata": {},
   "outputs": [
    {
     "output_type": "stream",
     "name": "stdout",
     "text": [
      "age in list: True\nvalue equals to expected output: True\nage in list: False\nvalue equals to expected output: True\n"
     ]
    }
   ],
   "source": [
    "for input in inputs:\n",
    "        print(f'age in list: {is_in_list(input[0],input[1])}')\n",
    "        print(f'value equals to expected output: {is_in_list(input[0],input[1])==input[2]}')"
   ]
  },
  {
   "source": [
    "# Intermediate"
   ],
   "cell_type": "markdown",
   "metadata": {}
  },
  {
   "cell_type": "code",
   "execution_count": null,
   "metadata": {},
   "outputs": [],
   "source": [
    "1. You are given an array (which will have a length of at least 3, but could be very large) containing integers. The array is either entirely comprised of odd integers or entirely comprised of even integers except for a single integer N.\n",
    "\n",
    "Write a method that takes the array as an argument and returns this “outlier” N.\n",
    "\n",
    "Sample test cases:\n",
    "[2, 4, 0, 100, 4, 11, 2602, 36]\n",
    "Should return: 11 (the only odd number)\n",
    "\n",
    "[160, 3, 1719, 19, 11, 13, -21]\n",
    "Should return: 160 (the only even number)\n",
    "\n",
    "find_outlier([2, 4, 6, 8, 10, 3])\n",
    "Should return: 3"
   ]
  },
  {
   "cell_type": "code",
   "execution_count": 17,
   "metadata": {},
   "outputs": [],
   "source": [
    "inputs = [[2, 4, 0, 100, 4, 11, 2602, 36],\n",
    "\n",
    "[160, 3, 1719, 19, 11, 13, -21],\n",
    "\n",
    "[2, 4, 6, 8, 10, 3],]\n",
    "\n",
    "def find_outlier(array):\n",
    "    in_list = list(array)\n",
    "    is_even = True\n",
    "    el_1 = in_list[0]%2 ==0\n",
    "    el_2 = in_list[1]%2 ==0\n",
    "    el_3 = in_list[2] % 2 == 0\n",
    "    \n",
    "    if el_1:\n",
    "        if el_1 and el_2:\n",
    "            pass\n",
    "        elif el_1 and el_3:\n",
    "            pass\n",
    "        else:\n",
    "            is_even = False\n",
    "\n",
    "    elif not el_1:\n",
    "        if not el_1 and not el_2:\n",
    "            is_even = False\n",
    "        elif not el_1 and not el_3:\n",
    "            is_even = False\n",
    "        else:\n",
    "            pass\n",
    "       \n",
    "    if is_even:\n",
    "        for el in in_list:\n",
    "            if el % 2 != 0: return el\n",
    "    else:\n",
    "        for el in in_list:\n",
    "            if el % 2 == 0: return el"
   ]
  },
  {
   "cell_type": "code",
   "execution_count": 18,
   "metadata": {},
   "outputs": [
    {
     "output_type": "stream",
     "name": "stdout",
     "text": [
      "11\n160\n3\n"
     ]
    }
   ],
   "source": [
    "for l in inputs:\n",
    "    print(find_outlier(l))"
   ]
  },
  {
   "cell_type": "code",
   "execution_count": null,
   "metadata": {},
   "outputs": [],
   "source": [
    "2.  Your goal in this task is to implement a difference function, which subtracts one list from another and returns the result.\n",
    "\n",
    "It should remove all values from list a, which are present in list b.\n",
    "\n",
    "Lets call the function array_diff ( a , b )\n",
    "\n",
    "Sample test cases:\n",
    "array_diff([1,2],[1]) will return [2]\n",
    "array_diff([1,2,2], [2]) will return [1]"
   ]
  },
  {
   "cell_type": "code",
   "execution_count": 20,
   "metadata": {},
   "outputs": [
    {
     "output_type": "stream",
     "name": "stdout",
     "text": [
      "[2]\n[1]\n"
     ]
    }
   ],
   "source": [
    "def array_diff(list_1, list_2):\n",
    "    for item in list_2:\n",
    "        while item in list_1:\n",
    "            list_1.remove(item)\n",
    "    return list_1\n",
    "\n",
    "print(array_diff([1,2],[1]) )\n",
    "print(array_diff([1, 2, 2], [2]))"
   ]
  },
  {
   "cell_type": "code",
   "execution_count": null,
   "metadata": {},
   "outputs": [],
   "source": [
    "3. Given: an array containing hashes of names\n",
    "Return: a string formatted as a list of names separated by commas except for the last two names, which should be separated by an ampersand.\n",
    "\n",
    "Example:\n",
    "\n",
    "namelist([ {‘name’: ‘Bart’}, {‘name’: ‘Lisa’}, {‘name’: ‘Maggie’} ])\n",
    "# returns ‘Bart, Lisa & Maggie‘\n",
    "\n",
    "namelist([ {‘name’: ‘Bart’}, {‘name’: ‘Lisa’} ])\n",
    "# returns ‘Bart & Lisa‘\n",
    "\n",
    "namelist([ {‘name’: ‘Bart’} ])\n",
    "# returns ‘Bart‘\n",
    "\n",
    "namelist([])\n",
    "# returns ”"
   ]
  },
  {
   "cell_type": "code",
   "execution_count": 31,
   "metadata": {},
   "outputs": [
    {
     "output_type": "stream",
     "name": "stdout",
     "text": [
      "Bart, Lisa, & Maggie\nBart & Lisa\nBart\n\n"
     ]
    }
   ],
   "source": [
    "\n",
    "def namelist(in_list):\n",
    "    out_string = ''\n",
    "    if len(in_list) == 0:\n",
    "        pass\n",
    "    elif len(in_list) > 2:\n",
    "        for it in in_list[:-1]:\n",
    "            out_string += it['name'] + ', '\n",
    "        out_string += '& '+ in_list[-1]['name']\n",
    "    elif len(in_list) > 1:\n",
    "\n",
    "        out_string =  in_list[0]['name']+' & '+in_list[1]['name']\n",
    "    else:\n",
    "        out_string = in_list[0]['name']\n",
    "\n",
    "    return out_string\n",
    "    \n",
    "print(namelist([ {'name': 'Bart'}, {'name': 'Lisa'}, {'name': 'Maggie'} ]))\n",
    "# returns 'Bart, Lisa & Maggie'\n",
    "\n",
    "print(namelist([ {'name': 'Bart'}, {'name': 'Lisa'} ]))\n",
    "# returns 'Bart & Lisa'\n",
    "\n",
    "print(namelist([ {'name': 'Bart'} ]))\n",
    "# returns 'Bart'\n",
    "\n",
    "print(namelist([]))\n"
   ]
  },
  {
   "cell_type": "code",
   "execution_count": null,
   "metadata": {},
   "outputs": [],
   "source": [
    "4. In this task, create a function that takes a list of non-negative integers and strings and returns a new list with the strings filtered out.\n",
    "\n",
    "Example\n",
    "filter_list([1,2,’a’,’b’]) == [1,2]\n",
    "filter_list([1,’a’,’b’,0,15]) == [1,0,15]\n",
    "filter_list([1,2,’aasf’,’1′,’123′,123]) == [1,2,123]"
   ]
  },
  {
   "cell_type": "code",
   "execution_count": 33,
   "metadata": {},
   "outputs": [
    {
     "output_type": "stream",
     "name": "stdout",
     "text": [
      "True\nTrue\nTrue\n"
     ]
    }
   ],
   "source": [
    "def filter_list(in_list):\n",
    "    out_list = []\n",
    "    for it in in_list:\n",
    "        if type(it) == int:\n",
    "            out_list.append(it)\n",
    "\n",
    "    return out_list    \n",
    "\n",
    "print(filter_list([1,2,'a','b']) == [1,2])\n",
    "print(filter_list([1,'a','b',0,15]) == [1,0,15])\n",
    "print(filter_list([1,2,'aasf','1','123',123]) == [1,2,123])"
   ]
  },
  {
   "cell_type": "code",
   "execution_count": null,
   "metadata": {},
   "outputs": [],
   "source": [
    "\n",
    "5. Given an array, find the int that appears an odd number of times.\n",
    "There will always be only one integer that appears an odd number of times.\n",
    "\n",
    "Example\n",
    "find_it([20,1,-1,2,-2,3,3,5,5,1,2,4,20,4,-1,-2,5])\n",
    "\n",
    "# returns 5"
   ]
  },
  {
   "cell_type": "code",
   "execution_count": 43,
   "metadata": {},
   "outputs": [
    {
     "output_type": "execute_result",
     "data": {
      "text/plain": [
       "'5'"
      ]
     },
     "metadata": {},
     "execution_count": 43
    }
   ],
   "source": [
    "def hist(in_list):\n",
    "    hist = {}\n",
    "    for num in in_list:\n",
    "        if str(num) in hist.keys():\n",
    "            hist[str(num)] += 1\n",
    "        else:\n",
    "            hist[str(num)] = 1        \n",
    "    return hist\n",
    "\n",
    "def find_it(in_list):\n",
    "    int_hist = hist(in_list)\n",
    "    for num in list(int_hist.keys()):\n",
    "        if int_hist[num] % 2 != 0:\n",
    "            return num\n",
    "    return None\n",
    "\n",
    "find_it([20,1,-1,2,-2,3,3,5,5,1,2,4,20,4,-1,-2,5])"
   ]
  },
  {
   "cell_type": "code",
   "execution_count": null,
   "metadata": {},
   "outputs": [],
   "source": [
    "\n",
    "6. Check to see if a string has the same amount of ’x’s and ’o’s. The method must return a boolean and be case insensitive. The string can contain any char.\n",
    "\n",
    "Examples input/output:\n",
    "XO(“ooxx”) => true\n",
    "XO(“xooxx”) => false\n",
    "XO(“ooxXm”) => true\n",
    "XO(“zpzpzpp”) => true // when no ‘x’ and ‘o’ is present should return true\n",
    "XO(“zzoo”) => false"
   ]
  },
  {
   "cell_type": "code",
   "execution_count": 5,
   "metadata": {},
   "outputs": [
    {
     "output_type": "stream",
     "name": "stdout",
     "text": [
      "True\nFalse\nTrue\nTrue\nFalse\n"
     ]
    }
   ],
   "source": [
    "\n",
    "def XO(st):\n",
    "    try:\n",
    "        st_list = list(st.lower())\n",
    "        return st_list.count('x') == st_list.count('o')\n",
    "    except ValueError:\n",
    "        return True\n",
    "\n",
    "print(XO('ooxx'))\n",
    "print(XO('xooxx'))\n",
    "print(XO('ooxXm'))\n",
    "print(XO('zpzpzpp'))\n",
    "print(XO( ' zzoo ' ))"
   ]
  },
  {
   "cell_type": "code",
   "execution_count": null,
   "metadata": {},
   "outputs": [],
   "source": [
    "7. ATM machines allow 4 or 6 digit PIN codes and PIN codes cannot contain anything but exactly 4 digits or exactly 6 digits.\n",
    "\n",
    "If the function is passed a valid PIN string, return true, else return false.\n",
    "\n",
    "eg:\n",
    "\n",
    "validate_pin(“1234”) == True\n",
    "validate_pin(“12345″) == False\n",
    "validate_pin(“a234”) == False"
   ]
  },
  {
   "cell_type": "code",
   "execution_count": 8,
   "metadata": {},
   "outputs": [
    {
     "output_type": "stream",
     "name": "stdout",
     "text": [
      "True\nFalse\nFalse\n"
     ]
    }
   ],
   "source": [
    "def validate_pin(pin):\n",
    "\n",
    "    try:\n",
    "        int(pin) \n",
    "        return len(pin) == 4 or len(pin) == 6\n",
    "    except ValueError:\n",
    "        return False\n",
    "\n",
    "print(validate_pin('1234')) #== True)\n",
    "print(validate_pin('12345')) #== False)\n",
    "print(validate_pin('a234')) #== False)"
   ]
  },
  {
   "cell_type": "code",
   "execution_count": null,
   "metadata": {},
   "outputs": [],
   "source": [
    "8. Simple, given a string of words, return the length of the shortest word(s).\n",
    "\n",
    "String will never be empty and you do not need to account for different data types."
   ]
  },
  {
   "cell_type": "code",
   "execution_count": 11,
   "metadata": {},
   "outputs": [
    {
     "output_type": "stream",
     "name": "stdout",
     "text": [
      "['String', 'will', 'never', 'be', 'empty', 'and', 'you', 'do', 'not', 'need', 'to', 'account', 'for', 'different', 'data', 'types.']\n"
     ]
    },
    {
     "output_type": "execute_result",
     "data": {
      "text/plain": [
       "2"
      ]
     },
     "metadata": {},
     "execution_count": 11
    }
   ],
   "source": [
    "def len_short(st):\n",
    "    st_list = st.split(' ')\n",
    "    shortest = len(st_list[0])\n",
    "    print(st_list)\n",
    "    for word in st_list:\n",
    "        if len(word) < shortest:\n",
    "            shortest = len(word)\n",
    "    return shortest\n",
    "\n",
    "len_short(\"String will never be empty and you do not need to account for different data types.\")"
   ]
  },
  {
   "cell_type": "code",
   "execution_count": null,
   "metadata": {},
   "outputs": [],
   "source": [
    "9. Find the missing letter\n",
    "\n",
    "Write a method that takes an array of consecutive (increasing) letters as input and that returns the missing letter in the array.\n",
    "\n",
    "You will always get an valid array. And it will be always exactly one letter be missing. The length of the array will always be at least 2.\n",
    "The array will always contain letters in only one case.\n",
    "\n",
    "Example:\n",
    "[‘a’,‘b’,‘c’,‘d’,‘f’] -> ‘e’\n",
    "[‘O’,‘Q’,‘R’,‘S’] -> ‘P’\n",
    "\n",
    "(Use the English alphabet with 26 letters )\n"
   ]
  },
  {
   "cell_type": "code",
   "execution_count": 15,
   "metadata": {},
   "outputs": [],
   "source": [
    "import string\n",
    "def find_missing(inp):\n",
    "    low_inp = inp[0].islower()\n",
    "    if low_inp:\n",
    "        start = string.ascii_lowercase.index(inp[0])\n",
    "        sliced = string.ascii_lowercase[start:]\n",
    "        for index, letter in enumerate(inp):\n",
    "            if sliced[index] != letter:\n",
    "                return sliced[index]\n",
    "    else:\n",
    "        start = string.ascii_uppercase.index(inp[0])\n",
    "        sliced = string.ascii_uppercase[start:]\n",
    "        for index, letter in enumerate(inp):\n",
    "            if sliced[index] != letter:\n",
    "                return sliced[index]\n",
    "\n",
    "    "
   ]
  },
  {
   "cell_type": "code",
   "execution_count": 17,
   "metadata": {},
   "outputs": [
    {
     "output_type": "stream",
     "name": "stdout",
     "text": [
      "e\nP\n"
     ]
    }
   ],
   "source": [
    "print(find_missing(['a','b','c','d','f']))\n",
    "print(find_missing(['O','Q','R','S']))"
   ]
  },
  {
   "cell_type": "code",
   "execution_count": null,
   "metadata": {},
   "outputs": [],
   "source": [
    "10.  Make a program that filters a list of strings and returns a list with only your friends name in it. If a name has exactly 4 letters in it, you can be sure that it has to be a friend of yours! Otherwise, you can be sure he /she is not.\n",
    "\n",
    "Ex: Input = [“Ryan”, “Kieran”, “Jason”, “Yous”], Output = [“Ryan”, “Yous”]\n",
    "\n",
    "Note: keep the original order of the names in the output."
   ]
  },
  {
   "cell_type": "code",
   "execution_count": 20,
   "metadata": {},
   "outputs": [
    {
     "output_type": "execute_result",
     "data": {
      "text/plain": [
       "['Ryan', 'Yous']"
      ]
     },
     "metadata": {},
     "execution_count": 20
    }
   ],
   "source": [
    "def my_friend(names):\n",
    "    friends = []\n",
    "    for name in names:\n",
    "        if len(name) == 4:\n",
    "            friends.append(name)\n",
    "    return friends\n",
    "\n",
    "my_friend([\"Ryan\", \"Kieran\", \"Jason\", \"Yous\"])"
   ]
  },
  {
   "source": [
    "# Set 2"
   ],
   "cell_type": "markdown",
   "metadata": {}
  },
  {
   "cell_type": "code",
   "execution_count": null,
   "metadata": {},
   "outputs": [],
   "source": [
    "1. Count the number of occurrences of each character and return it as a list of tuples in order of appearance.\n",
    "\n",
    "Example:\n",
    "ordered_count(“abracadabra”) == [(‘a’, 5), (‘b’, 2), (‘r’, 2), (‘c’, 1), (‘d’, 1)"
   ]
  },
  {
   "cell_type": "code",
   "execution_count": 21,
   "metadata": {},
   "outputs": [],
   "source": [
    "def hist(inp) :\n",
    "    \"\"\"\n",
    "    Assumes:\n",
    "         inp is of type list\n",
    "    Returns:\n",
    "         dictionary mapping list items to the number of their occurances\n",
    "    \"\"\"\n",
    "    histogram = {}\n",
    "    for item in inp :\n",
    "        if item not in histogram.keys():\n",
    "            histogram[item] = inp.count(item)\n",
    "    return histogram\n",
    "\n",
    "def ordered_count(inp) :\n",
    "    return list(hist(inp).items())"
   ]
  },
  {
   "cell_type": "code",
   "execution_count": 22,
   "metadata": {},
   "outputs": [
    {
     "output_type": "execute_result",
     "data": {
      "text/plain": [
       "[('a', 5), ('b', 2), ('r', 2), ('c', 1), ('d', 1)]"
      ]
     },
     "metadata": {},
     "execution_count": 22
    }
   ],
   "source": [
    "ordered_count(\"abracadabra\")"
   ]
  },
  {
   "cell_type": "code",
   "execution_count": null,
   "metadata": {},
   "outputs": [],
   "source": [
    "2. A Narcissistic Number is a number which is the sum of its own digits, each raised to the power of the number of digits in a given base. In this problem, we will restrict ourselves to decimal (base 10).\n",
    "\n",
    "For example, take 153 (3 digits):\n",
    "1^3 + 5^3 + 3^3 = 1 + 125 + 27 = 153\n",
    "\n",
    "and 1634 (4 digits):\n",
    "1^4 + 6^4 + 3^4 + 4^4 = 1 + 1296 + 81 + 256 = 1634\n",
    "\n",
    "The Challenge:\n",
    "Your code must return true or false depending upon whether the given number is a narcissistic number in base 10. Error checking for text strings or other invalid inputs is not required, only valid integers will be passed into the function."
   ]
  },
  {
   "cell_type": "code",
   "execution_count": 24,
   "metadata": {},
   "outputs": [
    {
     "output_type": "execute_result",
     "data": {
      "text/plain": [
       "['1', '2', '3', '4']"
      ]
     },
     "metadata": {},
     "execution_count": 24
    }
   ],
   "source": [
    "list(str(1234))"
   ]
  },
  {
   "cell_type": "code",
   "execution_count": 25,
   "metadata": {},
   "outputs": [
    {
     "output_type": "stream",
     "name": "stdout",
     "text": [
      "True\nTrue\nFalse\n"
     ]
    }
   ],
   "source": [
    "def isnarc(num):\n",
    "    digits = list(str(num))\n",
    "    narc = 0\n",
    "    for digit in digits:\n",
    "        narc += int(digit) ** len(digits)\n",
    "    return num == narc\n",
    "\n",
    "print(isnarc(153))\n",
    "print(isnarc(1634))\n",
    "print(isnarc(11))"
   ]
  },
  {
   "cell_type": "code",
   "execution_count": null,
   "metadata": {},
   "outputs": [],
   "source": [
    "3.  A pangram is a sentence that contains every single letter of the alphabet at least once. For example, the sentence “The quick brown fox jumps over the lazy dog” is a pangram, because it uses the letters A-Z at least once (case is irrelevant).\n",
    "\n",
    "Given a string, detect whether or not it is a pangram. Return True if it is, False if not. Ignore numbers and punctuation."
   ]
  },
  {
   "cell_type": "code",
   "execution_count": 28,
   "metadata": {},
   "outputs": [
    {
     "output_type": "execute_result",
     "data": {
      "text/plain": [
       "True"
      ]
     },
     "metadata": {},
     "execution_count": 28
    }
   ],
   "source": [
    "def is_pangram(inp):\n",
    "    inp = inp.lower()\n",
    "    for letter in list(string.ascii_lowercase):\n",
    "        if letter not in inp:\n",
    "            return False\n",
    "    return True\n",
    "\n",
    "is_pangram(\"The quick brown fox jumps over the lazy dog\")"
   ]
  },
  {
   "cell_type": "code",
   "execution_count": null,
   "metadata": {},
   "outputs": [],
   "source": [
    "4.  In the city of Cartesia, all roads are laid out in a perfect grid. You arrived ten minutes earlier to an appointment, so you decided to take the opportunity to go for a short walk. The city provides its citizens with a Walk Generating App on their phones — every time you press the button it sends you an array of one-letter strings representing directions to walk (e.g. [‘n’, ‘s’, ‘w’, ‘e’]). You always walk only a single block in a direction and you know it takes you one minute to traverse one city block, so create a function that will return True if the walk the app tells you that you will take exactly ten minutes (you don’t want to be early or late!) and will, of course, return to your starting point. Return False otherwise.\n",
    "\n",
    "Note: you will always receive a valid array containing a random assortment of direction letters (‘n’, ‘s’, ‘e’, or ‘w’ only). It will never give you an empty array (that’s not a walk, that’s standing still!).\n",
    "\n",
    "[‘n’, ‘e’, ‘e’, ‘n’, ‘e’, ‘w’, ‘n’, ‘n’, ‘s’, ‘e’]                                                        False\n",
    "[‘e’, ‘n’, ‘w’, ‘e’, ‘e’, ‘s’, ‘n’, ‘s’, ‘e’, ‘n’, ‘n’, ‘s’, ‘n’, ‘e’, ‘w’, ‘n’, ‘n’, ‘n’, ‘s’]    False\n",
    "[‘s’, ‘e’, ‘s’, ‘n’, ‘s’, ‘s’, ‘s’, ‘w’, ‘e’, ‘e’, ‘e’, ‘w’, ‘s’]                                         False\n",
    "[‘e’, ‘w’, ‘e’, ‘n’, ‘s’]                                                                                     False\n",
    "[s, e, w, n, n, s, e, w, n, s]                                                                        True"
   ]
  },
  {
   "cell_type": "code",
   "execution_count": 40,
   "metadata": {},
   "outputs": [
    {
     "output_type": "stream",
     "name": "stdout",
     "text": [
      "False\nFalse\nFalse\nFalse\nTrue\n"
     ]
    }
   ],
   "source": [
    "\n",
    "def walk_app(directions):\n",
    "    n,s = (directions.count(\"n\"), directions.count(\"s\"))\n",
    "    e,w = (directions.count(\"e\"), directions.count(\"w\"))\n",
    "#len(directions) != 10 or\n",
    "    if len(directions) != 10 or n!= s or e!= w:\n",
    "        return False\n",
    "    return True\n",
    "\n",
    "print(walk_app([\"n\", \"e\", \"e\", \"n\", \"e\", \"w\", \"n\", \"n\", \"s\",\"e\"]))\n",
    "print(walk_app([\"e\", \"n\", \"w\", \"e\", \"e\", \"s\", \"n\", \"s\", \"e\", \"n\", \"n\", \"s\", \"n\", \"e\", \"w\", \"n\", \"n\", \"n\", \"s\"]))\n",
    "print(walk_app([\"s\", \"e\", \"s\", \"n\", \"s\", \"s\", \"s\", \"w\", \"e\", \"e\", \"e\", \"w\",\"s\"]))\n",
    "print(walk_app([\"e\", \"w\", \"e\", \"n\",\"s\"]))\n",
    "print(walk_app(['s', 'e', 'w', 'n', 'n', 's', 'e', 'w', 'n', 's']))\n",
    "\n"
   ]
  },
  {
   "source": [
    "# Set 3"
   ],
   "cell_type": "markdown",
   "metadata": {}
  },
  {
   "cell_type": "code",
   "execution_count": null,
   "metadata": {},
   "outputs": [],
   "source": [
    "1. You are given an array strarr of strings and an integer k. Your task is to return the first longest string consisting of k consecutive strings taken in the array.\n",
    "\n",
    "Example:\n",
    "longest_consec([“zone”, “abigail”, “theta”, “form”, “libe”, “zas”, “theta”, “abigail”], 2) “abigailtheta”\n",
    "\n",
    "n being the length of the string array, if n = 0 or k > n or k <= 0 return “”.\n",
    "\n",
    "Note\n",
    "consecutive strings : follow one after another without an interruption"
   ]
  },
  {
   "cell_type": "code",
   "execution_count": null,
   "metadata": {},
   "outputs": [],
   "source": []
  },
  {
   "cell_type": "code",
   "execution_count": 51,
   "metadata": {},
   "outputs": [
    {
     "output_type": "execute_result",
     "data": {
      "text/plain": [
       "'abigailtheta'"
      ]
     },
     "metadata": {},
     "execution_count": 51
    }
   ],
   "source": [
    "def longest_consec(in_arr, num):\n",
    "    longest = in_arr[0]\n",
    "    index_long = 0\n",
    "    for index, value in enumerate(in_arr):\n",
    "        if len(value) > len(longest):\n",
    "            longest = value\n",
    "            index_long = index\n",
    "    return ''.join(in_arr[index_long: index_long + num])\n",
    "\n",
    "longest_consec(['zone', 'abigail', 'theta', 'form', 'libe', 'zas', 'theta', 'abigail'], 2)"
   ]
  },
  {
   "cell_type": "code",
   "execution_count": 55,
   "metadata": {},
   "outputs": [
    {
     "output_type": "stream",
     "name": "stdout",
     "text": [
      "[1, 1]\n[20, 37, 21]\n"
     ]
    }
   ],
   "source": [
    "def delete_nth(in_list, num):\n",
    "    return_list = []\n",
    "    for value in in_list:\n",
    "        if value not in return_list:\n",
    "            for n in range(num):\n",
    "                return_list.append(value)\n",
    "    return return_list\n",
    "\n",
    "print(delete_nth([1,1,1,1],2)    )      # return [1,1]\n",
    "print(delete_nth([20,37,20,21],1)) # return [20,37,21]"
   ]
  },
  {
   "cell_type": "code",
   "execution_count": null,
   "metadata": {},
   "outputs": [],
   "source": [
    "3. In this problem, given a string, replace every letter with its position in the alphabet.\n",
    "If anything in the text isn’t a letter, ignore it and don’t return it.\n",
    "\n",
    "“a” = 1, “b” = 2, etc.\n",
    "\n",
    "Example\n",
    "alphabet_position(“The sunset sets at twelve o’ clock.”)\n",
    "Should return “20 8 5 19 21 14 19 5 20 19 5 20 19 1 20 20 23 5 12 22 5 15 3 12 15 3 11” (as a string)\n",
    "\n"
   ]
  },
  {
   "cell_type": "code",
   "execution_count": 59,
   "metadata": {},
   "outputs": [
    {
     "output_type": "execute_result",
     "data": {
      "text/plain": [
       "'20 8 5 19 21 14 19 5 20 19 5 20 19 1 20 20 23 5 12 22 5 15 3 12 15 3 11 '"
      ]
     },
     "metadata": {},
     "execution_count": 59
    }
   ],
   "source": [
    "def alphabet_position(in_str):\n",
    "    out_str = ''\n",
    "    list_str = list(in_str.lower())\n",
    "    list_letters = list(string.ascii_lowercase)\n",
    "    for value in list_str:\n",
    "        if value in list_letters:\n",
    "            if value == list_str[-1]:\n",
    "                out_str += str(list_letters.index(value)+1)\n",
    "            else:\n",
    "                out_str += str(list_letters.index(value)+1)+\" \"\n",
    "    return out_str\n",
    "\n",
    "alphabet_position(\"The sunset sets at twelve o’ clock.\")"
   ]
  },
  {
   "source": [
    "\n",
    "4.  Bob is preparing to pass IQ test. The most frequent task in this test is to find out which one of the given numbers differs from the others. Bob observed that one number usually differs from the others in evenness. Help Bob — to check his answers, he needs a program that among the given numbers finds one that is different in evenness, and return a position of this number.!\n",
    "\n",
    "Keep in mind that your task is to help Bob solve a real IQ test, which means indexes of the elements start from 1 (not 0)\n",
    "\n",
    "Also, you can not use for loop to solve this,\n",
    "\n",
    "Examples :\n",
    "iq_test(“2 4 7 8 10”) => 3 // Third number is odd, while the rest of the numbers are even\n",
    "\n",
    "iq_test(“1 2 1 1”) => 2 // Second number is even, while the rest of the numbers are odd"
   ],
   "cell_type": "markdown",
   "metadata": {}
  },
  {
   "cell_type": "code",
   "execution_count": 60,
   "metadata": {},
   "outputs": [
    {
     "output_type": "execute_result",
     "data": {
      "text/plain": [
       "3"
      ]
     },
     "metadata": {},
     "execution_count": 60
    }
   ],
   "source": [
    "def iq_test(s):\n",
    "    #note, solution is taken from the colab notebook\n",
    "  s= s.split()\n",
    "  s = list(map(int, s))\n",
    "  s = list(map(lambda x: x%2, s))\n",
    "  if s.count(0) == 1:\n",
    "    return s.index(0) + 1\n",
    "  else:\n",
    "    return s.index(1) + 1\n",
    "\n",
    "iq_test(\"2 4 7 8 10\")"
   ]
  },
  {
   "cell_type": "code",
   "execution_count": null,
   "metadata": {},
   "outputs": [],
   "source": [
    "5. Complete the function scramble(str1, str2) that returns true if a portion of str1 characters can be rearranged to match str2, otherwise returns false.\n",
    "\n",
    "Notes:\n",
    "Only lower case letters will be used (a-z). No punctuation or digits will be included.\n",
    "Performance needs to be considered\n",
    "Input strings s1 and s2 are null terminated.\n",
    "Examples\n",
    "scramble(‘rkqodlw’, ‘world’)                              ==> True\n",
    "scramble(‘cedewaraaossoqqyt’, ‘codewars’) ==> True\n",
    "scramble(‘katas’, ‘steak’)                                    ==> False"
   ]
  },
  {
   "cell_type": "code",
   "execution_count": 64,
   "metadata": {},
   "outputs": [
    {
     "output_type": "stream",
     "name": "stdout",
     "text": [
      "True\nTrue\nletter e not in str1\nFalse\n"
     ]
    }
   ],
   "source": [
    "\n",
    "def scramble(str1, str2):\n",
    "    for letter in list(str2):\n",
    "        if letter not in str1:\n",
    "            print (f'letter {letter} not in str1')\n",
    "            return False\n",
    "    return True\n",
    "\n",
    "print(scramble('rkqodlw', 'world'))\n",
    "print(scramble('cedewaraaossoqqyt', 'codewars'))\n",
    "print(scramble('katas', 'steak'  ))"
   ]
  },
  {
   "cell_type": "code",
   "execution_count": null,
   "metadata": {},
   "outputs": [],
   "source": [
    "6. The maximum sum subarray problem consists in finding the maximum sum of a contiguous subsequence in an array or list of integers:\n",
    "\n",
    "maxSequence([-2, 1, -3, 4, -1, 2, 1, -5, 4])\n",
    "# It should return 6  that is sum of these 4 numbers [4, -1, 2, 1]\n",
    "Easy case is when the list is made up of only positive numbers and the maximum sum is the sum of the whole array. If the list is made up of only negative numbers, return 0 instead.\n",
    "\n",
    "Empty list is considered to have zero greatest sum. Note that the empty list or array is also a valid sublist/subarray.\n",
    "\n",
    "hints: https://en.wikipedia.org/wiki/Maximum_subarray_problem"
   ]
  },
  {
   "cell_type": "code",
   "execution_count": 18,
   "metadata": {},
   "outputs": [
    {
     "output_type": "execute_result",
     "data": {
      "text/plain": [
       "[4, -1, 2, 1]"
      ]
     },
     "metadata": {},
     "execution_count": 18
    }
   ],
   "source": [
    "# 6. The maximum sum subarray problem consists in finding the maximum sum of a contiguous subsequence in an array or list of integers:\n",
    "\n",
    "# maxSequence([-2, 1, -3, 4, -1, 2, 1, -5, 4])\n",
    "# # It should return 6  that is sum of these 4 numbers [4, -1, 2, 1]\n",
    "# Easy case is when the list is made up of only positive numbers and the maximum sum is the sum of the whole array. If the list is made up of only negative numbers, return 0 instead.\n",
    "\n",
    "# Empty list is considered to have zero greatest sum. Note that the empty list or array is also a valid sublist/subarray.\n",
    "\n",
    "# hints: https: // en.wikipedia.org / wiki / Maximum_subarray_problem\n",
    "\n",
    "def maxSequence(in_arr):\n",
    "    #PSEUDO\n",
    "    # CHECK IF LONGER THAN 0\n",
    "    if len(in_arr) == 0:\n",
    "        return 0\n",
    "    # CHECK IF AT LEAST 1 VALUE IS \\GE 0\n",
    "    all_negative = True\n",
    "    for val in in_arr:\n",
    "        if val >= 0:\n",
    "            all_negative = False\n",
    "            break\n",
    "    if all_negative:\n",
    "        return 0\n",
    "    # DECLARE MAXSUM = (0,0,0)\n",
    "    maxsum = (0,0,0)\n",
    "    # LOOP THROUGH INDEXES1 AND VALUES OF ENUMERATED ARRAY\n",
    "    for index1, value1 in enumerate(in_arr):\n",
    "    # FOR EACH VALUE, LOOP THROUGH INDEXES2 OF SLICED ARRAY FROM INDEX1 AND SEE IF THE SUM OF THE ARRAY FROM INDEX1 TO INDEX2 IS GREATER THAN MAXSUM[0]\n",
    "        for index2, value2 in enumerate(in_arr[index1:]):\n",
    "            intersum = sum(in_arr[index1:index2+index1])\n",
    "            if intersum > maxsum[0]:\n",
    "    # IF IT IS, ASSIGN MAXSUM=(SUM, INDEX1, INDEX2)\n",
    "                maxsum = (intersum, index1, index2+index1)\n",
    "    # RETURN THE IN_ARR SLICED FROM THE RECORDED BEGIN INDEX TO THE RECORDED END INDEX\n",
    "    return in_arr[maxsum[1]: maxsum[2]]\n",
    "\n",
    "maxSequence([-2, 1, -3, 4, -1, 2, 1, -5, 4])"
   ]
  },
  {
   "cell_type": "code",
   "execution_count": 19,
   "metadata": {},
   "outputs": [
    {
     "output_type": "execute_result",
     "data": {
      "text/plain": [
       "[4, -1, 2, 1]"
      ]
     },
     "metadata": {},
     "execution_count": 19
    }
   ],
   "source": [
    "maxSequence([-2, 1, -3, 4, -1, 2, 1, -5, 4]) "
   ]
  },
  {
   "source": [
    "# Set 4"
   ],
   "cell_type": "markdown",
   "metadata": {}
  },
  {
   "cell_type": "code",
   "execution_count": null,
   "metadata": {},
   "outputs": [],
   "source": [
    "\n",
    "\n",
    "1. In a small town in country Dreamland, the initial population is 1000 at the beginning of a year. The population regularly increases by 4 percent per year and recently the town has set up new industries. So,100 new inhabitants come for job or studies every year.\n",
    "\n",
    "The townhead wants an estimate that in how many years, the the town will get certain population based on varying ‘percentage of population growth‘ and ‘number of incoming people‘.\n",
    "\n",
    "A sample question from townhead would be:\n",
    "How many years does the town need to see its target population greater or equal to 1200 inhabitants?\n",
    "\n",
    "At the end of the first year there will be: \n",
    "1000 + 1000 * 0.04 + 100 => 1140 inhabitants\n",
    "\n",
    "At the end of the 2nd year there will be: \n",
    "1140 + 1140 * 0.04 + 100 =>  1286 inhabitants (population can not be fraction)\n",
    "\n",
    "It will need 2 entire years.\n",
    "\n",
    "More generally given parameters:\n",
    "\n",
    "population(initial population), percent, newcomers, target (population to surpass)\n",
    "the function number_of_years should return n number of entire years needed to get a population greater or equal to target.\n",
    "newcomers is an integer, percent a positive or null number, population and target are positive integers (> 0)\n",
    "\n",
    "Examples:\n",
    "number_of_years(1500, 5, 100, 10000) -> 26\n",
    "number_of_years(1500000, 2.5, 10000, 2000000) -> 10\n"
   ]
  },
  {
   "cell_type": "code",
   "execution_count": 1,
   "metadata": {},
   "outputs": [
    {
     "output_type": "stream",
     "name": "stdout",
     "text": [
      "26\n10\n"
     ]
    }
   ],
   "source": [
    "def number_of_years(initial_pop, rate_g, amount_new, target_pop):\n",
    "    current_pop = initial_pop\n",
    "    rate_g=rate_g/100+1\n",
    "    num_years = 0\n",
    "    while current_pop < target_pop:\n",
    "        current_pop = round(current_pop * rate_g) + amount_new\n",
    "        num_years+=1\n",
    "    return num_years\n",
    "\n",
    "print(number_of_years(1500, 5, 100, 10000))\n",
    "print(number_of_years(1500000, 2.5, 10000, 2000000))"
   ]
  },
  {
   "cell_type": "code",
   "execution_count": 4,
   "metadata": {},
   "outputs": [
    {
     "output_type": "execute_result",
     "data": {
      "text/plain": [
       "[]"
      ]
     },
     "metadata": {},
     "execution_count": 4
    }
   ],
   "source": [
    "[1,2,3][:-1]"
   ]
  },
  {
   "cell_type": "code",
   "execution_count": 1,
   "metadata": {},
   "outputs": [],
   "source": [
    "import nltk\n",
    "nltk.download('words’)\n",
    "#english_vocab will contain all the valid words & alphabets. \n",
    "english_vocab = set(w.lower() for w in nltk.corpus.words.words())\n",
    "\n",
    "\n",
    "# RECEIVE A STRING OF WORDS AS PARAMTER IN_STR\n",
    "def max_match(in_str):\n",
    "# KEEP TRACK OF CURRENT INDEX, AND INITIATE IT TO 0\n",
    "    current_index = 0\n",
    "    list_words = []\n",
    "# !!! INFINITE LOOP GUARD\n",
    "# TRY\n",
    "    try:\n",
    "#     LOOP_GUARD = 0\n",
    "        loop_guard = 0\n",
    "#     WHILE CURRENT INDEX < LENGTH OF IN_STR\n",
    "        while current_index < len(in_str):\n",
    "#         ASSERT LOOP_GUARD < 100\n",
    "            assert loop_guard < 100\n",
    "#         LOOP NEGATIVELY ON THE STRING LENGTH FROM ITS END TO CURRENT INDEX\n",
    "            for loop_ind in range(len(in_str),current_index,-1):\n",
    "#             IF A STRING SEGMENT (FROM CURRENT INDEX TO LOOP INDEX) IS A VALID WORD:\n",
    "                current_segment = in_str[current_index:loop_ind]\n",
    "                if current_segment in english_vocab:\n",
    "#                 ADD IT TO LIST WORD\n",
    "                    list_words.append(current_segment)\n",
    "#                 ASSIGN LOOP INDEX TO CURRENT INDEX\n",
    "                    current_index = loop_ind\n",
    "#                 BREAK\n",
    "                    break\n",
    "#             ELIF LOOP INDEX EQULAS CURRENT INDEX+1:\n",
    "                elif loop_ind == current_index+1:\n",
    "#                 ADD CURRENT INDEX TO LIST WORD\n",
    "                    list_words.append(in_str[current_index])\n",
    "#                 ASSIGN LOOP INDEX TO CURRENT INDEX\n",
    "                    current_index = loop_ind\n",
    "#                   BREAK\n",
    "                    break\n",
    "#         INCREMENT LOOP_GUARD\n",
    "            loop_guard+=1\n",
    "# RETURN LIST OF WORDS\n",
    "        return list_words\n",
    "# EXCEPT ASSERTIONERROR\n",
    "    except AssertionError:\n",
    "#     NOTIFY FOR INFINITE LOOP\n",
    "        print('Infinite loop error')\n",
    "    \n",
    "# Example\n",
    "max_match('happynightzig')\n",
    "# Output:\n",
    "# ['happy', 'night', 'zig']\n",
    "\n",
    "max_match('happynightzi')\n",
    "# Output:\n",
    "# ['happy', 'night', 'z’, 'i’]"
   ]
  },
  {
   "cell_type": "code",
   "execution_count": null,
   "metadata": {},
   "outputs": [],
   "source": [
    "3.  An array is circularly sorted if the elements are sorted in ascending order, but displaced, or rotated, by any number of steps.\n",
    "\n",
    "Complete the function/method that determines if the given array of integers is circularly sorted.\n",
    "\n",
    "Examples\n",
    "These arrays are circularly sorted (true):\n",
    "\n",
    "[2, 3, 4, 5, 0, 1]          –>       [0, 1] + [2, 3, 4, 5]\n",
    "[4, 5, 6, 9, 1]              –>       [1] + [4, 5, 6, 9]\n",
    "[10, 11, 6, 7, 9]          –>       [6, 7, 9] + [10, 11]\n",
    "[1, 2, 3, 4, 5]              –>       [1, 2, 3, 4, 5]\n",
    "[5, 7, 43, 987, -9, 0]  –>       [-9, 0] + [5, 7, 43, 987]\n",
    "\n",
    "While these are not (false):\n",
    "[4, 1, 2, 5]\n",
    "[8, 7, 6, 5, 4, 3]\n",
    "[6, 7, 4, 8]\n",
    "[7, 6, 5, 4, 3, 2, 1]"
   ]
  },
  {
   "cell_type": "code",
   "execution_count": 1,
   "metadata": {},
   "outputs": [],
   "source": [
    "def is_circular(in_arr):\n",
    "    sorted_arr = sorted(in_arr)\n",
    "    for ind in range(len(in_arr), 0, -1):\n",
    "        if in_arr[ind:]+in_arr[:ind] == sorted_arr: return True\n",
    "\n",
    "    return False"
   ]
  },
  {
   "cell_type": "code",
   "execution_count": 4,
   "metadata": {},
   "outputs": [
    {
     "output_type": "stream",
     "name": "stdout",
     "text": [
      "True\nTrue\nTrue\nTrue\nTrue\nFalse\nFalse\nFalse\nFalse\n"
     ]
    }
   ],
   "source": [
    "print(is_circular([2, 3, 4, 5, 0, 1]))\n",
    "print(is_circular([4, 5, 6, 9, 1]))\n",
    "print(is_circular([10, 11, 6, 7, 9] ))\n",
    "print(is_circular([1, 2, 3, 4, 5] ))\n",
    "print(is_circular([5, 7, 43, 987, -9, 0]))\n",
    "\n",
    "# While these are not (false):\n",
    "print(is_circular([4, 1, 2, 5]))\n",
    "print(is_circular([8, 7, 6, 5, 4, 3]))\n",
    "print(is_circular([6, 7, 4, 8]))\n",
    "print(is_circular([7, 6, 5, 4, 3, 2, 1]))"
   ]
  },
  {
   "cell_type": "code",
   "execution_count": 2,
   "metadata": {},
   "outputs": [
    {
     "output_type": "error",
     "ename": "SyntaxError",
     "evalue": "invalid syntax (<ipython-input-2-1ced5619425a>, line 4)",
     "traceback": [
      "\u001b[0;36m  File \u001b[0;32m\"<ipython-input-2-1ced5619425a>\"\u001b[0;36m, line \u001b[0;32m4\u001b[0m\n\u001b[0;31m    4. The new movie “SpaceXtreme” has just been released! There are a lot of people at the cinema box office standing in a huge line. Each of them has a single 100, 50 or 25 dollar bill. An “SpaceXtreme” ticket costs 25 dollars.\u001b[0m\n\u001b[0m       ^\u001b[0m\n\u001b[0;31mSyntaxError\u001b[0m\u001b[0;31m:\u001b[0m invalid syntax\n"
     ]
    }
   ],
   "source": [
    "\n",
    "\n",
    "4. The new movie “SpaceXtreme” has just been released! There are a lot of people at the cinema box office standing in a huge line. Each of them has a single 100, 50 or 25 dollar bill. An “SpaceXtreme” ticket costs 25 dollars.\n",
    "\n",
    "Steve is currently working as a clerk. He wants to sell a ticket to every single person in this line.\n",
    "Can Steve sell a ticket to every person and give change if he initially has no money and sells the tickets strictly in the order people queue?\n",
    "\n",
    "Return YES, if Steve can sell a ticket to every person and give change with the bills he has at hand at that moment. Otherwise return NO.\n",
    "Examples\n",
    "\n",
    "tickets([25, 25, 50]) # => YES \n",
    "tickets([25, 100]) # => NO. Steve will not have enough money to give change to 100 dollars\n",
    "tickets([25, 25, 50, 50, 100]) # => NO. Steve will not have the right bills to give 75 dollars of change (you can’t make two bills of 25 from one of 50.\n",
    "cum\n",
    "rqp,onm"
   ]
  },
  {
   "cell_type": "code",
   "execution_count": 5,
   "metadata": {},
   "outputs": [
    {
     "output_type": "stream",
     "name": "stdout",
     "text": [
      "True\nFalse\nFalse\n"
     ]
    }
   ],
   "source": [
    "def tickets(line):\n",
    "    cashier = {\n",
    "        25:0,\n",
    "        50:0,\n",
    "        100:0,\n",
    "    }\n",
    "    for person in line:\n",
    "        if person == 25:\n",
    "            cashier[25]+=1\n",
    "        elif person == 50:\n",
    "            if cashier[25]>0:\n",
    "                cashier[50]+=1\n",
    "                cashier[25]-=1\n",
    "            else:\n",
    "                return False\n",
    "        elif person == 100:\n",
    "            if cashier[50] > 0 and cashier[25]>0:\n",
    "                cashier[100]+=1\n",
    "                cashier[50]-=1\n",
    "                cashier[25]-=1\n",
    "            elif cashier[25]>2:\n",
    "                cashier[100]+=1\n",
    "                cahier[25]-=3\n",
    "            else:\n",
    "                return False\n",
    "    return True\n",
    "print(tickets([25, 25, 50])) # => YES \n",
    "print(tickets([25, 100])) # => NO. Steve will not have enough money to give change to 100 dollars\n",
    "print(tickets([25, 25, 50, 50, 100])) # => NO. Steve will not have the right bills to give 75 dollars of change (you can’t make two bills of 25 from one of 50.\n"
   ]
  },
  {
   "cell_type": "code",
   "execution_count": null,
   "metadata": {},
   "outputs": [],
   "source": [
    "\n",
    "5. Given a String of length N reverse each word in it. Words are separated by comma.\n",
    "\n",
    "Input:\n",
    "The first line contains T denoting the number of testcases. Then follows description of testcases. Each case contains a string containing dots and characters.\n",
    "\n",
    "Output:\n",
    "For each test case, output a String in single line containing the reversed words of the given String.\n",
    "\n",
    "Constraints:\n",
    "1<=T<=10\n",
    "1<=Length of String<=2000\n",
    "\n",
    "Example\n",
    "Input:\n",
    "2\n",
    "i,like,this,program,very,much\n",
    "pqr.mno\n",
    "\n",
    "Output:\n",
    "i,ekil,siht,margorp,yrev,h"
   ]
  },
  {
   "cell_type": "code",
   "execution_count": 8,
   "metadata": {},
   "outputs": [],
   "source": [
    "def str_reverse(in_str):\n",
    "    in_list = in_str.split('[,.]')\n",
    "    out_list = []\n",
    "    for word in in_list:\n",
    "        reversed_word = list(word).reverse()\n",
    "        out_list.append(''.join(reversed_word))\n",
    "    return ''.join(out_list)"
   ]
  },
  {
   "cell_type": "code",
   "execution_count": 9,
   "metadata": {},
   "outputs": [
    {
     "output_type": "error",
     "ename": "TypeError",
     "evalue": "can only join an iterable",
     "traceback": [
      "\u001b[0;31m---------------------------------------------------------------------------\u001b[0m",
      "\u001b[0;31mTypeError\u001b[0m                                 Traceback (most recent call last)",
      "\u001b[0;32m<ipython-input-9-8d636c5dba0c>\u001b[0m in \u001b[0;36m<module>\u001b[0;34m\u001b[0m\n\u001b[0;32m----> 1\u001b[0;31m \u001b[0mstr_reverse\u001b[0m\u001b[0;34m(\u001b[0m\u001b[0;34m'i,like,this,program,very,much'\u001b[0m\u001b[0;34m)\u001b[0m\u001b[0;34m\u001b[0m\u001b[0;34m\u001b[0m\u001b[0m\n\u001b[0m",
      "\u001b[0;32m<ipython-input-8-612a499b368c>\u001b[0m in \u001b[0;36mstr_reverse\u001b[0;34m(in_str)\u001b[0m\n\u001b[1;32m      4\u001b[0m     \u001b[0;32mfor\u001b[0m \u001b[0mword\u001b[0m \u001b[0;32min\u001b[0m \u001b[0min_list\u001b[0m\u001b[0;34m:\u001b[0m\u001b[0;34m\u001b[0m\u001b[0;34m\u001b[0m\u001b[0m\n\u001b[1;32m      5\u001b[0m         \u001b[0mreversed_word\u001b[0m \u001b[0;34m=\u001b[0m \u001b[0mlist\u001b[0m\u001b[0;34m(\u001b[0m\u001b[0mword\u001b[0m\u001b[0;34m)\u001b[0m\u001b[0;34m.\u001b[0m\u001b[0mreverse\u001b[0m\u001b[0;34m(\u001b[0m\u001b[0;34m)\u001b[0m\u001b[0;34m\u001b[0m\u001b[0;34m\u001b[0m\u001b[0m\n\u001b[0;32m----> 6\u001b[0;31m         \u001b[0mout_list\u001b[0m\u001b[0;34m.\u001b[0m\u001b[0mappend\u001b[0m\u001b[0;34m(\u001b[0m\u001b[0;34m''\u001b[0m\u001b[0;34m.\u001b[0m\u001b[0mjoin\u001b[0m\u001b[0;34m(\u001b[0m\u001b[0mreversed_word\u001b[0m\u001b[0;34m)\u001b[0m\u001b[0;34m)\u001b[0m\u001b[0;34m\u001b[0m\u001b[0;34m\u001b[0m\u001b[0m\n\u001b[0m\u001b[1;32m      7\u001b[0m     \u001b[0;32mreturn\u001b[0m \u001b[0;34m''\u001b[0m\u001b[0;34m.\u001b[0m\u001b[0mjoin\u001b[0m\u001b[0;34m(\u001b[0m\u001b[0mout_list\u001b[0m\u001b[0;34m)\u001b[0m\u001b[0;34m\u001b[0m\u001b[0;34m\u001b[0m\u001b[0m\n",
      "\u001b[0;31mTypeError\u001b[0m: can only join an iterable"
     ]
    }
   ],
   "source": [
    "str_reverse('i,like,this,program,very,much')"
   ]
  },
  {
   "cell_type": "code",
   "execution_count": null,
   "metadata": {},
   "outputs": [],
   "source": [
    "6. Write a function, persistence, that takes in a positive parameter num and returns its multiplicative persistence, which is the number of times you must multiply the digits in num until you reach a single digit.\n",
    "\n",
    "For example:\n",
    "persistence(38) => 2  # Because 3*8 = 24, 2*4 = 8 and 8 has only one digit.\n",
    "persistence(999) => 4 # Because 9*9*9 = 729, 7*2*9 = 126, 1*2*6 = 12, and finally 1*2 = 2.\n",
    "persistence(4) => 0   # Because 4 is already a one-digit number."
   ]
  },
  {
   "cell_type": "code",
   "execution_count": null,
   "metadata": {},
   "outputs": [],
   "source": [
    " 7. Maria needs to get on a train that leaves from the station D kilometres away in T minutes. She can get a taxi that drives at S1 km/h for the price of R €/km or she can walk at S2 km/h for free.\n",
    "\n",
    "A correct solution will be a function that returns the minimum price she needs to pay the taxi driver or the string “Won’t make it!“.\n",
    "All the inputs will be positive integers, the output has to be a string containing a number with two decimal places – or “Won’t make it!” if that is the case.\n",
    "\n",
    "It won’t take her any time to get on the taxi or the train.\n",
    "In non-trivial cases, the need is to combine walking and riding the taxi so that she makes it, but pays as little as possible.\n",
    "\n",
    "The input parameters will be in that order:\n",
    "Distance, Time, Taxi speed, Price rate of taxi per km, Walking speed\n",
    "\n",
    "Example\n",
    "calculate_optimal_fare(10, 50, 30, 10, 6)\n",
    "Output: 62.50\n",
    "\n",
    "calculate_optimal_fare(100, 50, 30, 10, 6)\n",
    "Output: “Won’t make it!"
   ]
  },
  {
   "cell_type": "code",
   "execution_count": null,
   "metadata": {},
   "outputs": [],
   "source": []
  }
 ]
}