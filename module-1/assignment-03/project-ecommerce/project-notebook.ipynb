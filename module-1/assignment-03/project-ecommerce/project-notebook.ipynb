{
 "cells": [
  {
   "cell_type": "code",
   "execution_count": 1,
   "source": [
    "import numpy as np\n",
    "import pandas as pd\n",
    "import matplotlib.pyplot as plt\n",
    "from statsmodels.stats.multicomp import pairwise_tukeyhsd\n",
    "import seaborn as sns"
   ],
   "outputs": [],
   "metadata": {}
  },
  {
   "cell_type": "code",
   "execution_count": 2,
   "source": [
    "df_dslr=pd.read_csv('datasets/ecom-sales_data/ecom-sales/dslr.csv')\n",
    "df_keyboard=pd.read_csv('datasets/ecom-sales_data/ecom-sales/keyboard.csv')\n",
    "df_monitor=pd.read_csv('datasets/ecom-sales_data/ecom-sales/monitor.csv')\n",
    "df_mouse=pd.read_csv('datasets/ecom-sales_data/ecom-sales/mouse.csv')\n",
    "df_processor=pd.read_csv('datasets/ecom-sales_data/ecom-sales/processor.csv')\n",
    "df_smartphone=pd.read_csv('datasets/ecom-sales_data/ecom-sales/smartphone.csv')\n",
    "df_sales=pd.read_csv('datasets/ecom-sales_data/ecom-sales/sales.csv')"
   ],
   "outputs": [],
   "metadata": {}
  },
  {
   "cell_type": "code",
   "execution_count": 3,
   "source": [
    "# show shape\n",
    "display(df_dslr.shape)\n",
    "# check for missing values\n",
    "display(df_dslr.isna().sum())\n",
    "# show columns\n",
    "display(df_dslr.columns)\n",
    "# show first 2 values\n",
    "display(df_dslr.head(2))"
   ],
   "outputs": [
    {
     "output_type": "display_data",
     "data": {
      "text/plain": [
       "(2464, 5)"
      ]
     },
     "metadata": {}
    },
    {
     "output_type": "display_data",
     "data": {
      "text/plain": [
       "title           0\n",
       "url             0\n",
       "rating          0\n",
       "review_count    0\n",
       "price           0\n",
       "dtype: int64"
      ]
     },
     "metadata": {}
    },
    {
     "output_type": "display_data",
     "data": {
      "text/plain": [
       "Index(['title', 'url', 'rating', 'review_count', 'price'], dtype='object')"
      ]
     },
     "metadata": {}
    },
    {
     "output_type": "display_data",
     "data": {
      "text/plain": [
       "                                               title  \\\n",
       "0   AmazonBasics 60-Inch Lightweight Tripod with Bag   \n",
       "1  Canon EOS Rebel T7 DSLR Camera Bundle with Can...   \n",
       "\n",
       "                                                 url              rating  \\\n",
       "0  https://www.amazon.com/AmazonBasics-60-Inch-Li...  4.5 out of 5 stars   \n",
       "1  https://www.amazon.com/Canon-EOS-Rebel-0-709-2...  4.5 out of 5 stars   \n",
       "\n",
       "  review_count   price  \n",
       "0       27,293   25.99  \n",
       "1           28  454.99  "
      ],
      "text/html": [
       "<div>\n",
       "<style scoped>\n",
       "    .dataframe tbody tr th:only-of-type {\n",
       "        vertical-align: middle;\n",
       "    }\n",
       "\n",
       "    .dataframe tbody tr th {\n",
       "        vertical-align: top;\n",
       "    }\n",
       "\n",
       "    .dataframe thead th {\n",
       "        text-align: right;\n",
       "    }\n",
       "</style>\n",
       "<table border=\"1\" class=\"dataframe\">\n",
       "  <thead>\n",
       "    <tr style=\"text-align: right;\">\n",
       "      <th></th>\n",
       "      <th>title</th>\n",
       "      <th>url</th>\n",
       "      <th>rating</th>\n",
       "      <th>review_count</th>\n",
       "      <th>price</th>\n",
       "    </tr>\n",
       "  </thead>\n",
       "  <tbody>\n",
       "    <tr>\n",
       "      <th>0</th>\n",
       "      <td>AmazonBasics 60-Inch Lightweight Tripod with Bag</td>\n",
       "      <td>https://www.amazon.com/AmazonBasics-60-Inch-Li...</td>\n",
       "      <td>4.5 out of 5 stars</td>\n",
       "      <td>27,293</td>\n",
       "      <td>25.99</td>\n",
       "    </tr>\n",
       "    <tr>\n",
       "      <th>1</th>\n",
       "      <td>Canon EOS Rebel T7 DSLR Camera Bundle with Can...</td>\n",
       "      <td>https://www.amazon.com/Canon-EOS-Rebel-0-709-2...</td>\n",
       "      <td>4.5 out of 5 stars</td>\n",
       "      <td>28</td>\n",
       "      <td>454.99</td>\n",
       "    </tr>\n",
       "  </tbody>\n",
       "</table>\n",
       "</div>"
      ]
     },
     "metadata": {}
    }
   ],
   "metadata": {}
  },
  {
   "cell_type": "code",
   "execution_count": 4,
   "source": [
    "# show shape\n",
    "display(df_keyboard.shape)\n",
    "# check for missing values\n",
    "display(df_keyboard.isna().sum())\n",
    "# show columns\n",
    "display(df_keyboard.columns)\n",
    "# show first 2 values\n",
    "display(df_keyboard.head(2))"
   ],
   "outputs": [
    {
     "output_type": "display_data",
     "data": {
      "text/plain": [
       "(3355, 5)"
      ]
     },
     "metadata": {}
    },
    {
     "output_type": "display_data",
     "data": {
      "text/plain": [
       "title           0\n",
       "url             0\n",
       "rating          0\n",
       "review_count    0\n",
       "price           0\n",
       "dtype: int64"
      ]
     },
     "metadata": {}
    },
    {
     "output_type": "display_data",
     "data": {
      "text/plain": [
       "Index(['title', 'url', 'rating', 'review_count', 'price'], dtype='object')"
      ]
     },
     "metadata": {}
    },
    {
     "output_type": "display_data",
     "data": {
      "text/plain": [
       "                                               title  \\\n",
       "0  AmazonBasics USB Wired Computer Keyboard and W...   \n",
       "1       Dell Wired Keyboard - Black KB216 (580-ADMT)   \n",
       "\n",
       "                                                 url              rating  \\\n",
       "0  https://www.amazon.com/AmazonBasics-Wired-Comp...  4.4 out of 5 stars   \n",
       "1  https://www.amazon.com/Dell-Wired-Keyboard-Bla...  4.5 out of 5 stars   \n",
       "\n",
       "  review_count   price  \n",
       "0        4,656  $14.99  \n",
       "1        4,565  $18.60  "
      ],
      "text/html": [
       "<div>\n",
       "<style scoped>\n",
       "    .dataframe tbody tr th:only-of-type {\n",
       "        vertical-align: middle;\n",
       "    }\n",
       "\n",
       "    .dataframe tbody tr th {\n",
       "        vertical-align: top;\n",
       "    }\n",
       "\n",
       "    .dataframe thead th {\n",
       "        text-align: right;\n",
       "    }\n",
       "</style>\n",
       "<table border=\"1\" class=\"dataframe\">\n",
       "  <thead>\n",
       "    <tr style=\"text-align: right;\">\n",
       "      <th></th>\n",
       "      <th>title</th>\n",
       "      <th>url</th>\n",
       "      <th>rating</th>\n",
       "      <th>review_count</th>\n",
       "      <th>price</th>\n",
       "    </tr>\n",
       "  </thead>\n",
       "  <tbody>\n",
       "    <tr>\n",
       "      <th>0</th>\n",
       "      <td>AmazonBasics USB Wired Computer Keyboard and W...</td>\n",
       "      <td>https://www.amazon.com/AmazonBasics-Wired-Comp...</td>\n",
       "      <td>4.4 out of 5 stars</td>\n",
       "      <td>4,656</td>\n",
       "      <td>$14.99</td>\n",
       "    </tr>\n",
       "    <tr>\n",
       "      <th>1</th>\n",
       "      <td>Dell Wired Keyboard - Black KB216 (580-ADMT)</td>\n",
       "      <td>https://www.amazon.com/Dell-Wired-Keyboard-Bla...</td>\n",
       "      <td>4.5 out of 5 stars</td>\n",
       "      <td>4,565</td>\n",
       "      <td>$18.60</td>\n",
       "    </tr>\n",
       "  </tbody>\n",
       "</table>\n",
       "</div>"
      ]
     },
     "metadata": {}
    }
   ],
   "metadata": {}
  },
  {
   "cell_type": "code",
   "execution_count": 5,
   "source": [
    "# show shape\n",
    "display(df_monitor.shape)\n",
    "# check for missing values\n",
    "display(df_monitor.isna().sum())\n",
    "# show columns\n",
    "display(df_monitor.columns)\n",
    "# show first 2 values\n",
    "display(df_monitor.head(2))"
   ],
   "outputs": [
    {
     "output_type": "display_data",
     "data": {
      "text/plain": [
       "(398, 5)"
      ]
     },
     "metadata": {}
    },
    {
     "output_type": "display_data",
     "data": {
      "text/plain": [
       "title           0\n",
       "url             0\n",
       "rating          0\n",
       "review_count    0\n",
       "price           0\n",
       "dtype: int64"
      ]
     },
     "metadata": {}
    },
    {
     "output_type": "display_data",
     "data": {
      "text/plain": [
       "Index(['title', 'url', 'rating', 'review_count', 'price'], dtype='object')"
      ]
     },
     "metadata": {}
    },
    {
     "output_type": "display_data",
     "data": {
      "text/plain": [
       "                                               title  \\\n",
       "0  Portable Monitor - 15.6-Inch USB-C Portable Di...   \n",
       "1  BenQ IPS Entertainment Monitor with HDMI conne...   \n",
       "\n",
       "                                                 url              rating  \\\n",
       "0  https://www.amazon.com/gp/slredirect/picassoRe...  4.7 out of 5 stars   \n",
       "1  https://www.amazon.com/gp/slredirect/picassoRe...  2.5 out of 5 stars   \n",
       "\n",
       "  review_count    price  \n",
       "0          231  $185.99  \n",
       "1            5  $549.99  "
      ],
      "text/html": [
       "<div>\n",
       "<style scoped>\n",
       "    .dataframe tbody tr th:only-of-type {\n",
       "        vertical-align: middle;\n",
       "    }\n",
       "\n",
       "    .dataframe tbody tr th {\n",
       "        vertical-align: top;\n",
       "    }\n",
       "\n",
       "    .dataframe thead th {\n",
       "        text-align: right;\n",
       "    }\n",
       "</style>\n",
       "<table border=\"1\" class=\"dataframe\">\n",
       "  <thead>\n",
       "    <tr style=\"text-align: right;\">\n",
       "      <th></th>\n",
       "      <th>title</th>\n",
       "      <th>url</th>\n",
       "      <th>rating</th>\n",
       "      <th>review_count</th>\n",
       "      <th>price</th>\n",
       "    </tr>\n",
       "  </thead>\n",
       "  <tbody>\n",
       "    <tr>\n",
       "      <th>0</th>\n",
       "      <td>Portable Monitor - 15.6-Inch USB-C Portable Di...</td>\n",
       "      <td>https://www.amazon.com/gp/slredirect/picassoRe...</td>\n",
       "      <td>4.7 out of 5 stars</td>\n",
       "      <td>231</td>\n",
       "      <td>$185.99</td>\n",
       "    </tr>\n",
       "    <tr>\n",
       "      <th>1</th>\n",
       "      <td>BenQ IPS Entertainment Monitor with HDMI conne...</td>\n",
       "      <td>https://www.amazon.com/gp/slredirect/picassoRe...</td>\n",
       "      <td>2.5 out of 5 stars</td>\n",
       "      <td>5</td>\n",
       "      <td>$549.99</td>\n",
       "    </tr>\n",
       "  </tbody>\n",
       "</table>\n",
       "</div>"
      ]
     },
     "metadata": {}
    }
   ],
   "metadata": {}
  },
  {
   "cell_type": "code",
   "execution_count": 6,
   "source": [
    "# show shape\n",
    "display(df_mouse.shape)\n",
    "# check for missing values\n",
    "display(df_mouse.isna().sum())\n",
    "# show columns\n",
    "display(df_mouse.columns)\n",
    "# show first 2 values\n",
    "display(df_mouse.head(2))"
   ],
   "outputs": [
    {
     "output_type": "display_data",
     "data": {
      "text/plain": [
       "(2151, 5)"
      ]
     },
     "metadata": {}
    },
    {
     "output_type": "display_data",
     "data": {
      "text/plain": [
       "title           0\n",
       "url             0\n",
       "rating          0\n",
       "review_count    0\n",
       "price           0\n",
       "dtype: int64"
      ]
     },
     "metadata": {}
    },
    {
     "output_type": "display_data",
     "data": {
      "text/plain": [
       "Index(['title', 'url', 'rating', 'review_count', 'price'], dtype='object')"
      ]
     },
     "metadata": {}
    },
    {
     "output_type": "display_data",
     "data": {
      "text/plain": [
       "                                               title  \\\n",
       "0  Computer Wireless Mouse, WISFOX Wireless Ergon...   \n",
       "1  Wireless Mouse 2.4G Jelly Comb Computer Mouse ...   \n",
       "\n",
       "                                                 url              rating  \\\n",
       "0  https://www.amazon.com/gp/slredirect/picassoRe...  4.6 out of 5 stars   \n",
       "1  https://www.amazon.com/gp/slredirect/picassoRe...  4.4 out of 5 stars   \n",
       "\n",
       "  review_count   price  \n",
       "0          614  $12.99  \n",
       "1          482   $9.99  "
      ],
      "text/html": [
       "<div>\n",
       "<style scoped>\n",
       "    .dataframe tbody tr th:only-of-type {\n",
       "        vertical-align: middle;\n",
       "    }\n",
       "\n",
       "    .dataframe tbody tr th {\n",
       "        vertical-align: top;\n",
       "    }\n",
       "\n",
       "    .dataframe thead th {\n",
       "        text-align: right;\n",
       "    }\n",
       "</style>\n",
       "<table border=\"1\" class=\"dataframe\">\n",
       "  <thead>\n",
       "    <tr style=\"text-align: right;\">\n",
       "      <th></th>\n",
       "      <th>title</th>\n",
       "      <th>url</th>\n",
       "      <th>rating</th>\n",
       "      <th>review_count</th>\n",
       "      <th>price</th>\n",
       "    </tr>\n",
       "  </thead>\n",
       "  <tbody>\n",
       "    <tr>\n",
       "      <th>0</th>\n",
       "      <td>Computer Wireless Mouse, WISFOX Wireless Ergon...</td>\n",
       "      <td>https://www.amazon.com/gp/slredirect/picassoRe...</td>\n",
       "      <td>4.6 out of 5 stars</td>\n",
       "      <td>614</td>\n",
       "      <td>$12.99</td>\n",
       "    </tr>\n",
       "    <tr>\n",
       "      <th>1</th>\n",
       "      <td>Wireless Mouse 2.4G Jelly Comb Computer Mouse ...</td>\n",
       "      <td>https://www.amazon.com/gp/slredirect/picassoRe...</td>\n",
       "      <td>4.4 out of 5 stars</td>\n",
       "      <td>482</td>\n",
       "      <td>$9.99</td>\n",
       "    </tr>\n",
       "  </tbody>\n",
       "</table>\n",
       "</div>"
      ]
     },
     "metadata": {}
    }
   ],
   "metadata": {}
  },
  {
   "cell_type": "code",
   "execution_count": 7,
   "source": [
    "# show shape\n",
    "display(df_processor.shape)\n",
    "# check for missing values\n",
    "display(df_processor.isna().sum())\n",
    "# show columns\n",
    "display(df_processor.columns)\n",
    "# show first 2 values\n",
    "display(df_processor.head(2))"
   ],
   "outputs": [
    {
     "output_type": "display_data",
     "data": {
      "text/plain": [
       "(1190, 5)"
      ]
     },
     "metadata": {}
    },
    {
     "output_type": "display_data",
     "data": {
      "text/plain": [
       "title           0\n",
       "url             0\n",
       "rating          0\n",
       "review_count    0\n",
       "price           0\n",
       "dtype: int64"
      ]
     },
     "metadata": {}
    },
    {
     "output_type": "display_data",
     "data": {
      "text/plain": [
       "Index(['title', 'url', 'rating', 'review_count', 'price'], dtype='object')"
      ]
     },
     "metadata": {}
    },
    {
     "output_type": "display_data",
     "data": {
      "text/plain": [
       "                                               title  \\\n",
       "0  EVanlak DispalyPort Headless Ghost Display Emu...   \n",
       "1  AMD Ryzen 5 3600 6-Core, 12-Thread Unlocked De...   \n",
       "\n",
       "                                                 url              rating  \\\n",
       "0  https://www.amazon.com/gp/slredirect/picassoRe...  5.0 out of 5 stars   \n",
       "1  https://www.amazon.com/AMD-Ryzen-3600-12-Threa...  4.8 out of 5 stars   \n",
       "\n",
       "  review_count    price  \n",
       "0            7   $16.99  \n",
       "1        5,045  $171.89  "
      ],
      "text/html": [
       "<div>\n",
       "<style scoped>\n",
       "    .dataframe tbody tr th:only-of-type {\n",
       "        vertical-align: middle;\n",
       "    }\n",
       "\n",
       "    .dataframe tbody tr th {\n",
       "        vertical-align: top;\n",
       "    }\n",
       "\n",
       "    .dataframe thead th {\n",
       "        text-align: right;\n",
       "    }\n",
       "</style>\n",
       "<table border=\"1\" class=\"dataframe\">\n",
       "  <thead>\n",
       "    <tr style=\"text-align: right;\">\n",
       "      <th></th>\n",
       "      <th>title</th>\n",
       "      <th>url</th>\n",
       "      <th>rating</th>\n",
       "      <th>review_count</th>\n",
       "      <th>price</th>\n",
       "    </tr>\n",
       "  </thead>\n",
       "  <tbody>\n",
       "    <tr>\n",
       "      <th>0</th>\n",
       "      <td>EVanlak DispalyPort Headless Ghost Display Emu...</td>\n",
       "      <td>https://www.amazon.com/gp/slredirect/picassoRe...</td>\n",
       "      <td>5.0 out of 5 stars</td>\n",
       "      <td>7</td>\n",
       "      <td>$16.99</td>\n",
       "    </tr>\n",
       "    <tr>\n",
       "      <th>1</th>\n",
       "      <td>AMD Ryzen 5 3600 6-Core, 12-Thread Unlocked De...</td>\n",
       "      <td>https://www.amazon.com/AMD-Ryzen-3600-12-Threa...</td>\n",
       "      <td>4.8 out of 5 stars</td>\n",
       "      <td>5,045</td>\n",
       "      <td>$171.89</td>\n",
       "    </tr>\n",
       "  </tbody>\n",
       "</table>\n",
       "</div>"
      ]
     },
     "metadata": {}
    }
   ],
   "metadata": {}
  },
  {
   "cell_type": "code",
   "execution_count": 8,
   "source": [
    "# show shape\n",
    "display(df_smartphone.shape)\n",
    "# check for missing values\n",
    "display(df_smartphone.isna().sum())\n",
    "# show columns\n",
    "display(df_smartphone.columns)\n",
    "# show first 2 values\n",
    "display(df_smartphone.head(2))"
   ],
   "outputs": [
    {
     "output_type": "display_data",
     "data": {
      "text/plain": [
       "(3237, 5)"
      ]
     },
     "metadata": {}
    },
    {
     "output_type": "display_data",
     "data": {
      "text/plain": [
       "title           0\n",
       "url             0\n",
       "rating          0\n",
       "review_count    0\n",
       "price           0\n",
       "dtype: int64"
      ]
     },
     "metadata": {}
    },
    {
     "output_type": "display_data",
     "data": {
      "text/plain": [
       "Index(['title', 'url', 'rating', 'review_count', 'price'], dtype='object')"
      ]
     },
     "metadata": {}
    },
    {
     "output_type": "display_data",
     "data": {
      "text/plain": [
       "                                               title  \\\n",
       "0  POPTEL P10 Rugged Cell Phones Unlocked, IP68 W...   \n",
       "1  Moto G8 Play | Unlocked | International GSM on...   \n",
       "\n",
       "                                                 url              rating  \\\n",
       "0  https://www.amazon.com/gp/slredirect/picassoRe...  3.7 out of 5 stars   \n",
       "1  https://www.amazon.com/Motorola-Moto-Play-XT20...  3.9 out of 5 stars   \n",
       "\n",
       "  review_count    price  \n",
       "0            6  $189.99  \n",
       "1          164  $130.00  "
      ],
      "text/html": [
       "<div>\n",
       "<style scoped>\n",
       "    .dataframe tbody tr th:only-of-type {\n",
       "        vertical-align: middle;\n",
       "    }\n",
       "\n",
       "    .dataframe tbody tr th {\n",
       "        vertical-align: top;\n",
       "    }\n",
       "\n",
       "    .dataframe thead th {\n",
       "        text-align: right;\n",
       "    }\n",
       "</style>\n",
       "<table border=\"1\" class=\"dataframe\">\n",
       "  <thead>\n",
       "    <tr style=\"text-align: right;\">\n",
       "      <th></th>\n",
       "      <th>title</th>\n",
       "      <th>url</th>\n",
       "      <th>rating</th>\n",
       "      <th>review_count</th>\n",
       "      <th>price</th>\n",
       "    </tr>\n",
       "  </thead>\n",
       "  <tbody>\n",
       "    <tr>\n",
       "      <th>0</th>\n",
       "      <td>POPTEL P10 Rugged Cell Phones Unlocked, IP68 W...</td>\n",
       "      <td>https://www.amazon.com/gp/slredirect/picassoRe...</td>\n",
       "      <td>3.7 out of 5 stars</td>\n",
       "      <td>6</td>\n",
       "      <td>$189.99</td>\n",
       "    </tr>\n",
       "    <tr>\n",
       "      <th>1</th>\n",
       "      <td>Moto G8 Play | Unlocked | International GSM on...</td>\n",
       "      <td>https://www.amazon.com/Motorola-Moto-Play-XT20...</td>\n",
       "      <td>3.9 out of 5 stars</td>\n",
       "      <td>164</td>\n",
       "      <td>$130.00</td>\n",
       "    </tr>\n",
       "  </tbody>\n",
       "</table>\n",
       "</div>"
      ]
     },
     "metadata": {}
    }
   ],
   "metadata": {}
  },
  {
   "cell_type": "code",
   "execution_count": 9,
   "source": [
    "# show shape\n",
    "display(df_sales.shape)\n",
    "# check for missing values\n",
    "display(df_sales.isna().sum())\n",
    "# show columns\n",
    "display(df_sales.columns)\n",
    "# show first 2 values\n",
    "display(df_sales.head(2))\n",
    "df_sales.dropna(subset=['Description'], inplace=True,)\n",
    "df_sales.reset_index(inplace=True, drop=True)"
   ],
   "outputs": [
    {
     "output_type": "display_data",
     "data": {
      "text/plain": [
       "(541909, 8)"
      ]
     },
     "metadata": {}
    },
    {
     "output_type": "display_data",
     "data": {
      "text/plain": [
       "InvoiceNo           0\n",
       "StockCode           0\n",
       "Description      1454\n",
       "Quantity            0\n",
       "InvoiceDate         0\n",
       "UnitPrice           0\n",
       "CustomerID     135024\n",
       "Country             0\n",
       "dtype: int64"
      ]
     },
     "metadata": {}
    },
    {
     "output_type": "display_data",
     "data": {
      "text/plain": [
       "Index(['InvoiceNo', 'StockCode', 'Description', 'Quantity', 'InvoiceDate',\n",
       "       'UnitPrice', 'CustomerID', 'Country'],\n",
       "      dtype='object')"
      ]
     },
     "metadata": {}
    },
    {
     "output_type": "display_data",
     "data": {
      "text/plain": [
       "  InvoiceNo StockCode                                        Description  \\\n",
       "0  78536365    85123A  Apple iPhone X, 256GB, Silver - Fully Unlocked...   \n",
       "1  78536365     71053  3M Precise Mouse Pad with Gel Wrist Rest, Soot...   \n",
       "\n",
       "  Quantity          InvoiceDate UnitPrice CustomerID Country  \n",
       "0        6  2018-12-01 08:26:00      2.55    17850.0      DE  \n",
       "1        6  2018-12-01 08:26:00      3.39    17850.0      DE  "
      ],
      "text/html": [
       "<div>\n",
       "<style scoped>\n",
       "    .dataframe tbody tr th:only-of-type {\n",
       "        vertical-align: middle;\n",
       "    }\n",
       "\n",
       "    .dataframe tbody tr th {\n",
       "        vertical-align: top;\n",
       "    }\n",
       "\n",
       "    .dataframe thead th {\n",
       "        text-align: right;\n",
       "    }\n",
       "</style>\n",
       "<table border=\"1\" class=\"dataframe\">\n",
       "  <thead>\n",
       "    <tr style=\"text-align: right;\">\n",
       "      <th></th>\n",
       "      <th>InvoiceNo</th>\n",
       "      <th>StockCode</th>\n",
       "      <th>Description</th>\n",
       "      <th>Quantity</th>\n",
       "      <th>InvoiceDate</th>\n",
       "      <th>UnitPrice</th>\n",
       "      <th>CustomerID</th>\n",
       "      <th>Country</th>\n",
       "    </tr>\n",
       "  </thead>\n",
       "  <tbody>\n",
       "    <tr>\n",
       "      <th>0</th>\n",
       "      <td>78536365</td>\n",
       "      <td>85123A</td>\n",
       "      <td>Apple iPhone X, 256GB, Silver - Fully Unlocked...</td>\n",
       "      <td>6</td>\n",
       "      <td>2018-12-01 08:26:00</td>\n",
       "      <td>2.55</td>\n",
       "      <td>17850.0</td>\n",
       "      <td>DE</td>\n",
       "    </tr>\n",
       "    <tr>\n",
       "      <th>1</th>\n",
       "      <td>78536365</td>\n",
       "      <td>71053</td>\n",
       "      <td>3M Precise Mouse Pad with Gel Wrist Rest, Soot...</td>\n",
       "      <td>6</td>\n",
       "      <td>2018-12-01 08:26:00</td>\n",
       "      <td>3.39</td>\n",
       "      <td>17850.0</td>\n",
       "      <td>DE</td>\n",
       "    </tr>\n",
       "  </tbody>\n",
       "</table>\n",
       "</div>"
      ]
     },
     "metadata": {}
    }
   ],
   "metadata": {}
  },
  {
   "cell_type": "markdown",
   "source": [
    "## preprocessing: Changing rating of products to float, review_count to int and price to float"
   ],
   "metadata": {}
  },
  {
   "cell_type": "code",
   "execution_count": 10,
   "source": [
    "import re\n",
    "\n",
    "products=[(df_dslr,'dslr'),\n",
    "(df_keyboard,'keyboard'),\n",
    "(df_monitor,'monitor'),\n",
    "(df_mouse,'mouse'),\n",
    "(df_processor,'processor'),\n",
    "(df_smartphone,'smartphone')]\n",
    "\n",
    "for product in products:\n",
    "    product[0]['rating']=product[0]['rating'].apply(lambda x: round(float(x.split(' out')[0]),2))\n",
    "    product[0]['review_count']=product[0]['review_count'].apply(lambda x: int(''.join(x.split(','))))\n",
    "    product[0]['price']=product[0]['price'].apply(lambda x: round(float(re.sub('[^1-9.]','',x)),2))\n",
    "    product[0]['product_type']=product[1]\n",
    "    # product[0].to_csv(f'assignment-03/project-ecommerce/datasets/ecom-sales_data/ecom-sales{product[1]}_processed.csv')\n",
    "\n",
    "\n",
    "df_products=pd.concat([df[0] for df in products])\n",
    "df_products.reset_index(inplace=True)\n",
    "df_products.rename(columns={'index':'orgnl_index'})\n",
    "df_products.drop_duplicates(inplace=True,ignore_index=True)\n"
   ],
   "outputs": [],
   "metadata": {}
  },
  {
   "cell_type": "code",
   "execution_count": 25,
   "source": [
    "print(df_products.shape)"
   ],
   "outputs": [
    {
     "output_type": "stream",
     "name": "stdout",
     "text": [
      "(12795, 7)\n"
     ]
    }
   ],
   "metadata": {}
  },
  {
   "cell_type": "markdown",
   "source": [
    "## update all unit prices on sales database"
   ],
   "metadata": {}
  },
  {
   "cell_type": "code",
   "execution_count": null,
   "source": [
    "# import re\n",
    "\n",
    "# WRITING EXEPTIONS TO ERROR FILE\n",
    "\n",
    "import sys\n",
    "import types\n",
    "from datetime import datetime\n",
    "\n",
    "# USED FOR WRITING IN LOG FILE\n",
    "sep='#'*30\n",
    "\n",
    "# use hashtable to map from product description to {formatted_description, indices}\n",
    "dict_sold_products = {}\n",
    "\n",
    "def replace_description(s):\n",
    "  try:\n",
    "    s=re.sub('( \\+ )|( \\- )|(, )|( \\| )','*-*',s)\n",
    "    s=re.sub('\\s','*-*',s)\n",
    "    return s\n",
    "  except:\n",
    "    print(ind, s, type(s))\n",
    "    raise TypeError\n",
    "\n",
    "for ind, row in df_sales.iterrows():\n",
    "  description=df_sales.at[ind, 'Description']\n",
    "  if description in dict_sold_products.keys():\n",
    "    dict_sold_products[description]['indices'].append(ind)\n",
    "  else:\n",
    "    dict_sold_products[description]={}\n",
    "    dict_sold_products[description]['description']=description\n",
    "    dict_sold_products[description]['formatted_description']=replace_description(description)\n",
    "    dict_sold_products[description]['price']=row['UnitPrice']\n",
    "    dict_sold_products[description]['indices']=[ind]\n",
    "\n",
    "unmatched_sales=[]\n",
    "multiple_match_sales=[]\n",
    "# items_without_description=[]\n",
    "\n",
    "# see if Description contains a keyword ['dslr', 'keyboard','monitor','mouse','processor','smartphone','iphone','ipad','tablet'] and search in the appropriate dataset\n",
    "\n",
    "counter=1\n",
    "\n",
    "with open('log3.txt','w') as logfile, open(f'error_log_{datetime.now()}.txt', 'w') as errlog:\n",
    "    logfile.write(f'sep\\nBEGIN ITERATION\\n\\n')\n",
    "    print(len(list(dict_sold_products.values())))\n",
    "    df_match_target=df_products.copy()\n",
    "    for description,values in list(dict_sold_products.items()):\n",
    "      try:\n",
    "        if type(values['description'])==str:\n",
    "          #split the product description by '*-*'\n",
    "          list_item_description = values['formatted_description'].split('*-*')\n",
    "          item_name=' '.join(list_item_description)\n",
    "\n",
    "          ############################### #TESTING ###############################\n",
    "          logfile.write('\\t\\tDescribing Items\\n')\n",
    "          logfile.write(f'description: {list_item_description}\\n')\n",
    "      ############################### #end tetsing ###############################\n",
    "\n",
    "          pre_pattern = ''.join(['\\\\' + c if c in '[]().^+$*?{},\\\\|<>#!=/' else c for c in list_item_description[0]])\n",
    "          pattern = '(?=.*'+pre_pattern+')'\n",
    "          pattern_index = 0\n",
    "          # pre_pattern = ''.join(['\\\\' + c if c in '[]().^+$*?{},\\\\|<>#!=/' else c for c in list_item_description[pattern_index]])\n",
    "          match = df_match_target[df_match_target.stack().str.contains(pattern,case=False,regex=True).groupby(level=0).any()]\n",
    "          # while the number of matching rows is larger than 1 or there are more patterns to match to\n",
    "\n",
    "          #             ############################## #TESTING ###############################\n",
    "          logfile.write('\\t\\tCurrent pattern, iteration and matches\\n')\n",
    "          logfile.write(f'pattern: {pattern} pattern index: {pattern_index} matches: {match.shape[0]}\\n')\n",
    "          logfile.write(f'{match.shape[0]>1} {pattern_index<len(list_item_description)}\\n')\n",
    "  ############################## #end tetsing ###############################\n",
    "          while match.shape[0]>1 and pattern_index<len(list_item_description)-1:\n",
    "            # add a match group to the pattern\n",
    "            pattern_index+=1\n",
    "            pre_pattern = ''.join(['\\\\' + c if c in '[]().^+$*?{},\\\\|<>#!=/' else c for c in list_item_description[pattern_index]])\n",
    "            pattern += '(?=.*'+pre_pattern+')'\n",
    "\n",
    "  #           ############################## #TESTING ###############################\n",
    "            logfile.write(f'\\t\\tCurrent pattern, iteration and matches\\n')\n",
    "            logfile.write(f'pattern: {pattern}, pattern index: {pattern_index}, matches: {match.shape[0]}\\n')\n",
    "# ############################## #end tetsing ###############################\n",
    "\n",
    "            match = match[match.stack().str.contains(pattern,case=False,regex=True).groupby(level=0).any()]\n",
    "          if pattern_index == len(list_item_description)-1:\n",
    "            match.sort_values('review_count', ascending=False, inplace=True)\n",
    "            match.drop_duplicates(inplace=True, subset=['title','price'], keep='first')\n",
    "            #try groupby.keep_first()\n",
    "\n",
    "\n",
    "          if match.shape[0]==1:\n",
    "          # change the price of the matched item\n",
    "            ############################### #TESTING ###############################\n",
    "            logfile.write(f'{sep}\\n\\t\\t\\tMATCH FOUND\\n{sep}\\n')\n",
    "            # logfile.write(f'pattern: {pattern}, pattern index:{pattern_index}, matches: {match.shape[0]}\\n')\n",
    "  ############################### #end tetsing ###############################\n",
    "            match_index = match.index[0]\n",
    "            dict_sold_products[description]['price']=match.at[match_index,'price']\n",
    "            df_match_target.drop(match_index,axis=0,inplace=True)\n",
    "          elif match.shape[0]>1:\n",
    "            ############################### #TESTING ###############################\n",
    "            logfile.write(f'{sep}\\n\\t\\t\\tMULTIPLE MATCHES FOUND\\n{sep}\\n')\n",
    "            logfile.write(f'pattern: {pattern}, pattern index: {pattern_index}, matches: {match.shape[0]}\\n')\n",
    "  ############################### #end tetsing ###############################\n",
    "          # if length of used patterns equals length of description items and number of results is more than one - keep track of that product\n",
    "            multiple_match_sales.append({'description':description,'matche_indices':list(match.index)})\n",
    "            match_index = match.index[0]\n",
    "            # dict_sold_products[description]['price']=match.at[match_index,'price']\n",
    "            df_match_target.drop(list(match.index),axis=0,inplace=True)\n",
    "          # else track product index\n",
    "          elif match.shape[0]<1:\n",
    "            ############################### #TESTING ###############################\n",
    "            logfile.write(f'{sep}\\n\\t\\t\\tNO MATCHES FOUND\\n{sep}\\n')\n",
    "            # logfile.write('pattern:',pattern,'pattern index:',pattern_index,'matches:', match.shape[0]\\n')\n",
    "  ############################### #end tetsing ###############################\n",
    "            unmatched_sales.append(description)\n",
    "          # breaking from looping over the item caegories\n",
    "          del pattern\n",
    "          del match\n",
    "        #handling no matching categories\n",
    "        else:\n",
    "          items_without_description.append(description)\n",
    "        logfile.write(f'iteration: {counter}\\n')\n",
    "        counter+=1\n",
    "        logfile.write(f'unmatched items: {len(unmatched_sales)}\\nMultiple matches: {len(multiple_match_sales)}\\n\\n END ITERATION\\n{sep}\\n')\n",
    "      except Exception as e:\n",
    "        print('exception occured')\n",
    "        import traceback\n",
    "        errlog.writelines([f'{sep}\\nERROR\\n{sep}',traceback.format_exc()\n",
    "                          ])\n",
    "        raise e\n",
    "    \n",
    "\n",
    "\n"
   ],
   "outputs": [],
   "metadata": {}
  },
  {
   "cell_type": "code",
   "execution_count": 16,
   "source": [
    "import pickle\n",
    "pickle.dump(unmatched_sales,open('data/unmatched_sales2.p','wb'))\n",
    "pickle.dump(multiple_match_sales,open('data/multiple_match_sales2.p','wb'))\n",
    "# pickle.dump(items_without_description,open('data/items_without_description2.p','wb'))\n",
    "pickle.dump(dict_sold_products,open('data/dict_sold_products2.p','wb'))"
   ],
   "outputs": [],
   "metadata": {}
  },
  {
   "cell_type": "code",
   "execution_count": null,
   "source": [
    "#timeit time the execution of the algorithm\n",
    "#turn into a module and run seperately"
   ],
   "outputs": [],
   "metadata": {}
  }
 ],
 "metadata": {
  "orig_nbformat": 4,
  "language_info": {
   "name": "python",
   "version": "3.9.6",
   "mimetype": "text/x-python",
   "codemirror_mode": {
    "name": "ipython",
    "version": 3
   },
   "pygments_lexer": "ipython3",
   "nbconvert_exporter": "python",
   "file_extension": ".py"
  },
  "kernelspec": {
   "name": "python3",
   "display_name": "Python 3.9.6 64-bit ('venv-03': venv)"
  },
  "interpreter": {
   "hash": "00389c1987cd62673336a88a55c5bbd6f278c82af59a18829819e03977129471"
  }
 },
 "nbformat": 4,
 "nbformat_minor": 2
}