{
 "cells": [
  {
   "cell_type": "markdown",
   "metadata": {},
   "source": [
    "Bike-sharing in the age of information - Augmenting business strategy and performance with data\n",
    "Written by Alon Parag on behalf of CODE Analytics\n",
    "Client: Capital Bikeshare\n",
    "June 2021"
   ]
  },
  {
   "cell_type": "markdown",
   "metadata": {},
   "source": [
    "Background:\n",
    "Capital Bikeshare is metro DC's bikeshare system, with more than 4,300 bikes available at 500 stations across seven jurisdictions: Washington, DC; Arlington, VA; Alexandria, VA; Montgomery, county, MD; Prince George's county, MD; Fairfax County, VA; and the City of Falls Church, VA. Capital Bikeshare provides residents and visitors with a transportation option for commuting in the region.\n",
    "\n",
    "Capital Bikeshare consists of a fleet of specially designed bikes that are locked into a network of docking stations throughout the region. The bikes can be unlocked from any station and returned to any station in the system, making them ideal for one-way trips. People use bikeshare for various ends, among them to commute to work or school.\n",
    "\n",
    "The service is available for use 24/7. Riders have access to a bike at any station across the system.\n",
    "\n",
    "Capital Bikeshare is operated by Motivate, a full-service bike share operator.\n",
    "Motivate also manages other bike share systems in the US and abroad.\n",
    "\n",
    "Current challanges:\n",
    "As highlighted by the sales department. there are complaints about bike availability.\n",
    "bike shortage could make our service unreliable and damage our brand name, thus scaring away potential costumers, especially companies that could buy collective memberships for their employees.\n",
    "Assuming that there are hours of bike shortage, a question arises: Is it because the majority of bikes available are taken, or is it because there are areas and time of high demand?\n",
    "If the shortage is caused by lak of total available bikes, then the solution is pretty straightforward - We need to increase our bike fleet and create more docking stations.\n",
    "Alternatively, if the shortage is caused by peak-time usage and restricted to certain locations, then a differet solution is needed as more bikes and docking stations wouldn't address local availability.\n",
    "To answer this question I will use system data from the last year (Jan 2020 untill may 2021), considering for that matter that there are approximately 4500 bikes in our fleet.\n"
   ]
  },
  {
   "cell_type": "markdown",
   "metadata": {},
   "source": []
  },
  {
   "cell_type": "markdown",
   "metadata": {},
   "source": [
    "# KPI TEMPLATE\n",
    "\n",
    "1. **Outcome:**\n",
    "2. **Meaning:**\n",
    "3. **Measure:**\n",
    "4. **Actions:**\n",
    "5. **Owner:**\n",
    "6. **Goal:**\n",
    "7. **Review Interval:**"
   ]
  },
  {
   "cell_type": "markdown",
   "metadata": {},
   "source": [
    "Key Insights:\n",
    "* Bike shortage is caused by local demand in peak use hours and not by total high use.\n",
    "* A gig system for moving bikes to high demand stations may solve this problem\n",
    "* A demand prediction model could support gig creation algorithm"
   ]
  },
  {
   "cell_type": "code",
   "execution_count": null,
   "metadata": {},
   "outputs": [],
   "source": [
    "# use dummy data to work this algorithm!!!\n",
    "\n",
    "# given time, is_workday, station_name, %bikes, waiting_gigs_to_station, active_gigs_to_station in station decide whether to create gig"
   ]
  },
  {
   "cell_type": "markdown",
   "metadata": {},
   "source": []
  },
  {
   "cell_type": "markdown",
   "metadata": {},
   "source": [
    "Data for future research"
   ]
  },
  {
   "cell_type": "markdown",
   "metadata": {},
   "source": [
    "1. **Outcome:** Increase in local bike availability\n",
    "2. **Meaning:** Bike availability makes our sevice attractive and useful for the local community\n",
    "3. **Measure:** Bike availabilty complaints per month change\n",
    "4. **Actions:**\n",
    "   1. Create a bike transfer service based on a hybrid of gig jobs and transfer teams\n",
    "   2. Create an automated system to dispatch gigs for the service\n",
    "   3. Measure performance of bike transfer service\n",
    "5. **Owner:** Chief operations officer\n",
    "6. **Goal:** Reduction of 10% of complaints per month or threshold of below 500 complaints/month\n",
    "7. **Review Interval:** Monthly"
   ]
  },
  {
   "cell_type": "markdown",
   "metadata": {},
   "source": [
    "Recommendations:\n",
    "* Bike transfer system\n",
    "* complaint forms should include station/bike_id of the complaint for future anlysis"
   ]
  }
 ],
 "metadata": {
  "interpreter": {
   "hash": "767d51c1340bd893661ea55ea3124f6de3c7a262a8b4abca0554b478b1e2ff90"
  },
  "kernelspec": {
   "display_name": "Python 3.9.5 64-bit",
   "name": "python3"
  },
  "language_info": {
   "name": "python",
   "version": ""
  },
  "orig_nbformat": 2
 },
 "nbformat": 4,
 "nbformat_minor": 2
}