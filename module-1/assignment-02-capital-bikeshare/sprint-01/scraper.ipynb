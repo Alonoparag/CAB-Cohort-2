{
 "cells": [
  {
   "cell_type": "code",
   "execution_count": 80,
   "metadata": {},
   "outputs": [],
   "source": [
    "import pandas as pd\n",
    "import numpy as np\n",
    "from bs4 import BeautifulSoup\n",
    "from selenium import webdriver\n",
    "from selenium.webdriver.support.select import Select\n"
   ]
  },
  {
   "cell_type": "code",
   "execution_count": 93,
   "metadata": {},
   "outputs": [],
   "source": [
    "aqi_indexes = [1,2,3,4,5]\n",
    "years = ['2011','2012']\n",
    "months = [\n",
    "'January',\n",
    "'February',\n",
    "'March',\n",
    "'April',\n",
    "'May',\n",
    "'June',\n",
    "'July',\n",
    "'August',\n",
    "'September',\n",
    "'October',\n",
    "'November',\n",
    "'December',]\n"
   ]
  },
  {
   "cell_type": "code",
   "execution_count": 101,
   "metadata": {},
   "outputs": [],
   "source": [
    "def get_aqi(soup,year,month):\n",
    "     \"\"\"\n",
    "     Assumes:\n",
    "          soup is a BeautifulSoup instance\n",
    "          year string represnting year in format YYYY\n",
    "          month, string representing month name, capitalized\n",
    "     Returns:\n",
    "          None\n",
    "     \"\"\" \n",
    "     readings = []\n",
    "     for index in aqi_indexes:\n",
    "          for element in soup.findAll(attrs={'class':f'aqi{index}'}):\n",
    "               l_el = list(element)\n",
    "               readings.append([l_el[0],l_el[2]])\n",
    "     results.append({'Year':year,'Month':month,'Readings': readings})\n",
    "\n",
    "\n",
    "def update_data(year, month):\n",
    "    \"\"\"\n",
    "    Assumes:\n",
    "         year string represnting year in format YYYY\n",
    "         month, string representing month name, capitalized\n",
    "    Returns:\n",
    "         None\n",
    "    \"\"\"\n",
    "    select_year = Select(driver.find_element_by_id('year'))\n",
    "    select_year.select_by_visible_text(year)\n",
    "    select_month = Select(driver.find_element_by_id('month'))\n",
    "    select_month.select_by_visible_text(month)\n",
    "    driver.find_element_by_id('viewCal').click()\n",
    "    content = driver.page_source\n",
    "\n",
    "    get_aqi(BeautifulSoup(content),year,month)"
   ]
  },
  {
   "cell_type": "code",
   "execution_count": 103,
   "metadata": {},
   "outputs": [],
   "source": [
    "results=[]\n",
    "driver = webdriver.Chrome(executable_path='/usr/bin/chromedriver')\n",
    "url ='http://www.cleanairpartners.net/historical-air-quality'\n",
    "driver.get(url)\n",
    "frame = driver.find_element_by_id('historicalFrame')\n",
    "driver.switch_to.frame(frame)\n",
    "for year in years:\n",
    "    for month in months:\n",
    "        update_data(year,month)\n",
    "driver.quit()"
   ]
  },
  {
   "cell_type": "code",
   "execution_count": 116,
   "metadata": {},
   "outputs": [],
   "source": [
    "import pandas as pd\n",
    "import numpy as np\n",
    "from datetime import datetime\n",
    "columns = ['dteday','yr','mnth','weekday','aqi_label','aqi_reading']\n",
    "years = {'2011':0,'2012':1}\n",
    "months = {\n",
    "'January':1,\n",
    "'February':2,\n",
    "'March':3,\n",
    "'April':4,\n",
    "'May':5,\n",
    "'June':6,\n",
    "'July':7,\n",
    "'August':8,\n",
    "'September':9,\n",
    "'October':10,\n",
    "'November':11,\n",
    "'December':12}\n",
    "\n",
    "def aqi_labels(aqi):\n",
    "    if aqi<=50:\n",
    "        return 1\n",
    "    elif aqi<=100:\n",
    "        return 2\n",
    "    elif aqi<=150:\n",
    "        return 3\n",
    "    elif aqi<=200:\n",
    "        return 4\n",
    "    else:\n",
    "        return 5\n",
    "rows = []\n",
    "\n",
    "for result in results:\n",
    "    for entry in result['Readings']:\n",
    "        year = int(result['Year'])\n",
    "        month = months[result['Month']]\n",
    "        day = int(entry[0])\n",
    "        aqi = int(entry[1].split(':')[1])\n",
    "        entry_date = datetime(year,month, day)\n",
    "        rows.append([entry_date,\n",
    "        entry_date.year,\n",
    "        entry_date.month,\n",
    "        entry_date.weekday(),\n",
    "        aqi_labels(aqi),\n",
    "        aqi])\n",
    "df = pd.DataFrame(rows, columns = columns)"
   ]
  },
  {
   "cell_type": "code",
   "execution_count": 123,
   "metadata": {},
   "outputs": [],
   "source": [
    "df.sort_values('dteday', ascending=True, inplace=True, axis=0)\n",
    "df.reset_index(drop = True, inplace = True)"
   ]
  },
  {
   "cell_type": "code",
   "execution_count": 125,
   "metadata": {},
   "outputs": [],
   "source": [
    "df.to_csv('pollution.csv')"
   ]
  }
 ],
 "metadata": {
  "kernelspec": {
   "display_name": "Python 3.9.5 64-bit",
   "name": "python395jvsc74a57bd0dda556e85c8285e16f11e7216a6c1b95df26266b63f433480adfce0aac172184"
  },
  "language_info": {
   "codemirror_mode": {
    "name": "ipython",
    "version": 3
   },
   "file_extension": ".py",
   "mimetype": "text/x-python",
   "name": "python",
   "nbconvert_exporter": "python",
   "pygments_lexer": "ipython3",
   "version": "3.9.5"
  },
  "orig_nbformat": 2
 },
 "nbformat": 4,
 "nbformat_minor": 2
}