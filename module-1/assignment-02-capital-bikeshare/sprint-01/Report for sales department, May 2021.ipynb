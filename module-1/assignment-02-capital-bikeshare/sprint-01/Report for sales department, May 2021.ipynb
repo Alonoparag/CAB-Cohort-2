{
 "cells": [
  {
   "cell_type": "markdown",
   "metadata": {},
   "source": [
    "# Questions\n",
    "1. last week registered users complained about non-availabilty of bikes.\n",
    "    * client segment is proffesional users (focus on work days seperately and holidays/weekends seperately)\n",
    "    * problem: bikes are not available\n",
    "2. contribution of weather in bike demands\n",
    "3. Effects of traffic and pollution on sales (bike use)\n"
   ]
  },
  {
   "cell_type": "markdown",
   "metadata": {},
   "source": [
    "# Recommendations:\n",
    "## Regarding bike availability\n",
    "   * Request from DataOps to track the number of total available bikes\n",
    "   * Allocate a budget to create live tracking of bikes around the city\n",
    "   * Create a bike allocating service to move bikes to demand zones during peak demand:\n",
    "      * Either a service within Capitalbike\n",
    "      * A pay per gig system where users can get paid/receive benefits for moving bikes during peak demand.\n",
    "\n",
    "## Regarding effects of weather on bike use:\n",
    "   * Coordinate special offers/membership sale on the fall months might increase sales since members will use bikes more when weather changes.\n",
    "  \n",
    "## Regarding effects of pollution on bike use:\n",
    "   * Increasing the amount of time included in a single trip from 30min to 60min during pollution time, both for casual users (single trip) and registered members might increase bike use and decrease pollution\n",
    "\n",
    "## Regarding effects of traffic on bike use:\n",
    "   * At the moment there is no available data of traffic to analyse its effects on bike use. I recommend to allocate budget for a project on this matter"
   ]
  },
  {
   "cell_type": "markdown",
   "metadata": {},
   "source": [
    "# Availability of bikes between 24.04.2021 - 30.04.2021\n",
    "* In the above-mentioned week bike capacity for Capitalbike was approximately 4500 bikes.\n",
    "* Even in peak hours, bike use is barely 20% of total available bike. Therefore I think that the problem lays that there are areas of high demand in which available bikes become scarce in peak hours.\n",
    "* Here are graphs representing bike use per hour:\n"
   ]
  },
  {
   "cell_type": "markdown",
   "metadata": {},
   "source": [
    "![Bikeuse Plots](plots/lastweek_0.png)\n",
    "![Bikeuse Plots](plots/lastweek_1.png)<br>\n",
    "![Bikeuse Plots](plots/lastweek_2.png)\n",
    "![Bikeuse Plots](plots/lastweek_3.png)<br>\n",
    "![Bikeuse Plots](plots/lastweek_4.png)<br>\n"
   ]
  },
  {
   "cell_type": "markdown",
   "metadata": {},
   "source": [
    "# Effects of weather on bike demand:\n",
    "* I Checked for the effects of felt temperature, month, and described weather situation on bike use for casual users and registered users\n",
    "\n",
    "## Effect of felt temperatures on bike demand\n",
    "* For the sake of clarity, I grouped he measured temperatures to 5 groups, and plotted the effects of the daily average temperature on bike use for casual and registered users:\n",
    "* The peak use for casual users if in the temperature range of $10^o-30^o$C\n",
    "* The daily bike use for registered peaks from $10^o$C without a significant difference for higher temperatures.\n",
    "  \n",
    "<br>![Bikeuse Plots](plots/use-temp.png)\n",
    "\n",
    "## Bike demand by month\n",
    "* For casual users bike use peaks in the spring (March through May), gets moderately lower during the summer (June through Aug), increases during the fall (Sep, Oct) and sinks during the winter (Nov through Feb)\n",
    "* For registered users bike use raises from march(March through Oct) and sinks during winter (Nov through Feb)\n",
    "<br>![Bikeuse Plots](plots/use-month.png)\n",
    "\n",
    "## Bike demand by weather situation\n",
    "* Bike use for both casual users sinks during rainy days, though the decline in bike use for casual users is greater than the decline for registered users\n",
    "* No data was available for days with heavy weather.\n",
    "<br>![Bikeuse Plots](plots/use-weathersit.png)"
   ]
  },
  {
   "cell_type": "markdown",
   "metadata": {},
   "source": [
    "# Effects of air quality/pollution on bike demand\n",
    "* Pollution level as measured by AQI (Air quality index) do have impact on bike use.\n",
    "* In casual users, there's a slight increase in bike use from no air pollution through pollution which is unhealthy for sensitive groups, then a sharp decrease for the higher pollution groups.\n",
    "* In registered users theres a mild decline between Good to Unhealthy measured air quality, and a drop measured in the highest pollution level.\n",
    "<br>![Bikeuse Plots](plots/use-pollution.png)"
   ]
  },
  {
   "cell_type": "markdown",
   "metadata": {},
   "source": [
    "Alon Parag,\n",
    "Berlin, 2021"
   ]
  }
 ],
 "metadata": {
  "kernelspec": {
   "display_name": "Python 3",
   "language": "python",
   "name": "python3"
  },
  "language_info": {
   "codemirror_mode": {
    "name": "ipython",
    "version": 3
   },
   "file_extension": ".py",
   "mimetype": "text/x-python",
   "name": "python",
   "nbconvert_exporter": "python",
   "pygments_lexer": "ipython3",
   "version": "3.9.5"
  }
 },
 "nbformat": 4,
 "nbformat_minor": 2
}