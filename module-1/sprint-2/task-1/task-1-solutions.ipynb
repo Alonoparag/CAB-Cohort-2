{
 "metadata": {
  "language_info": {
   "codemirror_mode": {
    "name": "ipython",
    "version": 3
   },
   "file_extension": ".py",
   "mimetype": "text/x-python",
   "name": "python",
   "nbconvert_exporter": "python",
   "pygments_lexer": "ipython3",
   "version": "3.9.2"
  },
  "orig_nbformat": 2,
  "kernelspec": {
   "name": "python392jvsc74a57bd0767d51c1340bd893661ea55ea3124f6de3c7a262a8b4abca0554b478b1e2ff90",
   "display_name": "Python 3.9.2 64-bit"
  }
 },
 "nbformat": 4,
 "nbformat_minor": 2,
 "cells": [
  {
   "cell_type": "code",
   "execution_count": 3,
   "metadata": {},
   "outputs": [],
   "source": [
    "import numpy as np\n",
    "import pandas as pd\n",
    "import sys\n",
    "import os\n",
    "import re"
   ]
  },
  {
   "cell_type": "code",
   "execution_count": 4,
   "metadata": {},
   "outputs": [],
   "source": [
    "movies = pd.read_csv('movies-dataset.csv')"
   ]
  },
  {
   "source": [
    "    1. Can you print the first 10 records.\n"
   ],
   "cell_type": "markdown",
   "metadata": {}
  },
  {
   "cell_type": "code",
   "execution_count": 9,
   "metadata": {},
   "outputs": [
    {
     "output_type": "execute_result",
     "data": {
      "text/plain": [
       "                                   Film      Genre            Lead Studio  \\\n",
       "0            Zack and Miri Make a Porno    Romance  The Weinstein Company   \n",
       "1                       Youth in Revolt     Comedy  The Weinstein Company   \n",
       "2    You Will Meet a Tall Dark Stranger     Comedy            Independent   \n",
       "3                          When in Rome     Comedy                 Disney   \n",
       "4                 What Happens in Vegas     Comedy                    Fox   \n",
       "5                   Water For Elephants      Drama       20th Century Fox   \n",
       "6                                WALL-E  Animation                 Disney   \n",
       "7                              Waitress    Romance            Independent   \n",
       "8                   Waiting For Forever    Romance            Independent   \n",
       "9                       Valentine's Day     Comedy           Warner Bros.   \n",
       "10  Tyler Perry's Why Did I get Married    Romance            Independent   \n",
       "\n",
       "    Audience score %  Profitability  Rotten Tomatoes % Worldwide Gross  Year  \n",
       "0                 70       1.747542                 64         $41.94   2008  \n",
       "1                 52       1.090000                 68         $19.62   2010  \n",
       "2                 35       1.211818                 43         $26.66   2010  \n",
       "3                 44       0.000000                 15         $43.04   2010  \n",
       "4                 72       6.267647                 28        $219.37   2008  \n",
       "5                 72       3.081421                 60        $117.09   2011  \n",
       "6                 89       2.896019                 96        $521.28   2008  \n",
       "7                 67      11.089742                 89         $22.18   2007  \n",
       "8                 53       0.005000                  6          $0.03   2011  \n",
       "9                 54       4.184038                 17        $217.57   2010  \n",
       "10                47       3.724192                 46         $55.86   2007  "
      ],
      "text/html": "<div>\n<style scoped>\n    .dataframe tbody tr th:only-of-type {\n        vertical-align: middle;\n    }\n\n    .dataframe tbody tr th {\n        vertical-align: top;\n    }\n\n    .dataframe thead th {\n        text-align: right;\n    }\n</style>\n<table border=\"1\" class=\"dataframe\">\n  <thead>\n    <tr style=\"text-align: right;\">\n      <th></th>\n      <th>Film</th>\n      <th>Genre</th>\n      <th>Lead Studio</th>\n      <th>Audience score %</th>\n      <th>Profitability</th>\n      <th>Rotten Tomatoes %</th>\n      <th>Worldwide Gross</th>\n      <th>Year</th>\n    </tr>\n  </thead>\n  <tbody>\n    <tr>\n      <th>0</th>\n      <td>Zack and Miri Make a Porno</td>\n      <td>Romance</td>\n      <td>The Weinstein Company</td>\n      <td>70</td>\n      <td>1.747542</td>\n      <td>64</td>\n      <td>$41.94</td>\n      <td>2008</td>\n    </tr>\n    <tr>\n      <th>1</th>\n      <td>Youth in Revolt</td>\n      <td>Comedy</td>\n      <td>The Weinstein Company</td>\n      <td>52</td>\n      <td>1.090000</td>\n      <td>68</td>\n      <td>$19.62</td>\n      <td>2010</td>\n    </tr>\n    <tr>\n      <th>2</th>\n      <td>You Will Meet a Tall Dark Stranger</td>\n      <td>Comedy</td>\n      <td>Independent</td>\n      <td>35</td>\n      <td>1.211818</td>\n      <td>43</td>\n      <td>$26.66</td>\n      <td>2010</td>\n    </tr>\n    <tr>\n      <th>3</th>\n      <td>When in Rome</td>\n      <td>Comedy</td>\n      <td>Disney</td>\n      <td>44</td>\n      <td>0.000000</td>\n      <td>15</td>\n      <td>$43.04</td>\n      <td>2010</td>\n    </tr>\n    <tr>\n      <th>4</th>\n      <td>What Happens in Vegas</td>\n      <td>Comedy</td>\n      <td>Fox</td>\n      <td>72</td>\n      <td>6.267647</td>\n      <td>28</td>\n      <td>$219.37</td>\n      <td>2008</td>\n    </tr>\n    <tr>\n      <th>5</th>\n      <td>Water For Elephants</td>\n      <td>Drama</td>\n      <td>20th Century Fox</td>\n      <td>72</td>\n      <td>3.081421</td>\n      <td>60</td>\n      <td>$117.09</td>\n      <td>2011</td>\n    </tr>\n    <tr>\n      <th>6</th>\n      <td>WALL-E</td>\n      <td>Animation</td>\n      <td>Disney</td>\n      <td>89</td>\n      <td>2.896019</td>\n      <td>96</td>\n      <td>$521.28</td>\n      <td>2008</td>\n    </tr>\n    <tr>\n      <th>7</th>\n      <td>Waitress</td>\n      <td>Romance</td>\n      <td>Independent</td>\n      <td>67</td>\n      <td>11.089742</td>\n      <td>89</td>\n      <td>$22.18</td>\n      <td>2007</td>\n    </tr>\n    <tr>\n      <th>8</th>\n      <td>Waiting For Forever</td>\n      <td>Romance</td>\n      <td>Independent</td>\n      <td>53</td>\n      <td>0.005000</td>\n      <td>6</td>\n      <td>$0.03</td>\n      <td>2011</td>\n    </tr>\n    <tr>\n      <th>9</th>\n      <td>Valentine's Day</td>\n      <td>Comedy</td>\n      <td>Warner Bros.</td>\n      <td>54</td>\n      <td>4.184038</td>\n      <td>17</td>\n      <td>$217.57</td>\n      <td>2010</td>\n    </tr>\n    <tr>\n      <th>10</th>\n      <td>Tyler Perry's Why Did I get Married</td>\n      <td>Romance</td>\n      <td>Independent</td>\n      <td>47</td>\n      <td>3.724192</td>\n      <td>46</td>\n      <td>$55.86</td>\n      <td>2007</td>\n    </tr>\n  </tbody>\n</table>\n</div>"
     },
     "metadata": {},
     "execution_count": 9
    }
   ],
   "source": [
    "movies.iloc[0:11]"
   ]
  },
  {
   "source": [
    "\n",
    "    2. What are the data types of the columns.\n"
   ],
   "cell_type": "markdown",
   "metadata": {}
  },
  {
   "cell_type": "code",
   "execution_count": 15,
   "metadata": {},
   "outputs": [
    {
     "output_type": "execute_result",
     "data": {
      "text/plain": [
       "Film                  object\n",
       "Genre                 object\n",
       "Lead Studio           object\n",
       "Audience score %       int64\n",
       "Profitability        float64\n",
       "Rotten Tomatoes %      int64\n",
       "Worldwide Gross       object\n",
       "Year                   int64\n",
       "dtype: object"
      ]
     },
     "metadata": {},
     "execution_count": 15
    }
   ],
   "source": [
    "movies.dtypes #or movies.info()"
   ]
  },
  {
   "source": [
    "\n",
    "    3. Count of Animation movies.\n",
    "    (Hint: use the count() function)\n"
   ],
   "cell_type": "markdown",
   "metadata": {}
  },
  {
   "cell_type": "code",
   "execution_count": 108,
   "metadata": {},
   "outputs": [
    {
     "output_type": "execute_result",
     "data": {
      "text/plain": [
       "4"
      ]
     },
     "metadata": {},
     "execution_count": 108
    }
   ],
   "source": [
    "movies['Genre'].value_counts()[3]"
   ]
  },
  {
   "source": [
    "\n",
    "    4. Show the Comedy movies in the year 2007.\n"
   ],
   "cell_type": "markdown",
   "metadata": {}
  },
  {
   "cell_type": "code",
   "execution_count": 82,
   "metadata": {},
   "outputs": [
    {
     "output_type": "execute_result",
     "data": {
      "text/plain": [
       "                  Film   Genre   Lead Studio  Audience score %  Profitability  \\\n",
       "18  The Heartbreak Kid  Comedy     Paramount                41       2.129444   \n",
       "36     No Reservations  Comedy  Warner Bros.                64       3.307180   \n",
       "51      License to Wed  Comedy  Warner Bros.                55       1.980206   \n",
       "54          Knocked Up  Comedy     Universal                83       6.636402   \n",
       "62     Good Luck Chuck  Comedy     Lionsgate                61       2.367685   \n",
       "69           Enchanted  Comedy        Disney                80       4.005737   \n",
       "\n",
       "    Rotten Tomatoes % Worldwide Gross  Year  \n",
       "18                 30        $127.77   2007  \n",
       "36                 39         $92.60   2007  \n",
       "51                  8         $69.31   2007  \n",
       "54                 91           $219   2007  \n",
       "62                  3         $59.19   2007  \n",
       "69                 93        $340.49   2007  "
      ],
      "text/html": "<div>\n<style scoped>\n    .dataframe tbody tr th:only-of-type {\n        vertical-align: middle;\n    }\n\n    .dataframe tbody tr th {\n        vertical-align: top;\n    }\n\n    .dataframe thead th {\n        text-align: right;\n    }\n</style>\n<table border=\"1\" class=\"dataframe\">\n  <thead>\n    <tr style=\"text-align: right;\">\n      <th></th>\n      <th>Film</th>\n      <th>Genre</th>\n      <th>Lead Studio</th>\n      <th>Audience score %</th>\n      <th>Profitability</th>\n      <th>Rotten Tomatoes %</th>\n      <th>Worldwide Gross</th>\n      <th>Year</th>\n    </tr>\n  </thead>\n  <tbody>\n    <tr>\n      <th>18</th>\n      <td>The Heartbreak Kid</td>\n      <td>Comedy</td>\n      <td>Paramount</td>\n      <td>41</td>\n      <td>2.129444</td>\n      <td>30</td>\n      <td>$127.77</td>\n      <td>2007</td>\n    </tr>\n    <tr>\n      <th>36</th>\n      <td>No Reservations</td>\n      <td>Comedy</td>\n      <td>Warner Bros.</td>\n      <td>64</td>\n      <td>3.307180</td>\n      <td>39</td>\n      <td>$92.60</td>\n      <td>2007</td>\n    </tr>\n    <tr>\n      <th>51</th>\n      <td>License to Wed</td>\n      <td>Comedy</td>\n      <td>Warner Bros.</td>\n      <td>55</td>\n      <td>1.980206</td>\n      <td>8</td>\n      <td>$69.31</td>\n      <td>2007</td>\n    </tr>\n    <tr>\n      <th>54</th>\n      <td>Knocked Up</td>\n      <td>Comedy</td>\n      <td>Universal</td>\n      <td>83</td>\n      <td>6.636402</td>\n      <td>91</td>\n      <td>$219</td>\n      <td>2007</td>\n    </tr>\n    <tr>\n      <th>62</th>\n      <td>Good Luck Chuck</td>\n      <td>Comedy</td>\n      <td>Lionsgate</td>\n      <td>61</td>\n      <td>2.367685</td>\n      <td>3</td>\n      <td>$59.19</td>\n      <td>2007</td>\n    </tr>\n    <tr>\n      <th>69</th>\n      <td>Enchanted</td>\n      <td>Comedy</td>\n      <td>Disney</td>\n      <td>80</td>\n      <td>4.005737</td>\n      <td>93</td>\n      <td>$340.49</td>\n      <td>2007</td>\n    </tr>\n  </tbody>\n</table>\n</div>"
     },
     "metadata": {},
     "execution_count": 82
    }
   ],
   "source": [
    "movies[(movies['Genre'] == 'Comedy') & (movies['Year'] == 2007)]"
   ]
  },
  {
   "source": [
    "\n",
    "    5. Count of Animation movies with more than 70% Audience Score.\n"
   ],
   "cell_type": "markdown",
   "metadata": {}
  },
  {
   "cell_type": "code",
   "execution_count": 115,
   "metadata": {},
   "outputs": [
    {
     "output_type": "execute_result",
     "data": {
      "text/plain": [
       "2"
      ]
     },
     "metadata": {},
     "execution_count": 115
    }
   ],
   "source": [
    "movies[(movies['Genre'] == 'Animation') & (movies['Audience score %'] > 70)].count()[0]"
   ]
  },
  {
   "cell_type": "code",
   "execution_count": 110,
   "metadata": {},
   "outputs": [
    {
     "output_type": "execute_result",
     "data": {
      "text/plain": [
       "      Genre  Audience score %\n",
       "0   Romance                70\n",
       "1    Comedy                52\n",
       "2    Comedy                35\n",
       "3    Comedy                44\n",
       "4    Comedy                72\n",
       "..      ...               ...\n",
       "72  romance                84\n",
       "73    Drama                64\n",
       "74    Drama                89\n",
       "75   Comedy                71\n",
       "76   comedy                81\n",
       "\n",
       "[77 rows x 2 columns]"
      ],
      "text/html": "<div>\n<style scoped>\n    .dataframe tbody tr th:only-of-type {\n        vertical-align: middle;\n    }\n\n    .dataframe tbody tr th {\n        vertical-align: top;\n    }\n\n    .dataframe thead th {\n        text-align: right;\n    }\n</style>\n<table border=\"1\" class=\"dataframe\">\n  <thead>\n    <tr style=\"text-align: right;\">\n      <th></th>\n      <th>Genre</th>\n      <th>Audience score %</th>\n    </tr>\n  </thead>\n  <tbody>\n    <tr>\n      <th>0</th>\n      <td>Romance</td>\n      <td>70</td>\n    </tr>\n    <tr>\n      <th>1</th>\n      <td>Comedy</td>\n      <td>52</td>\n    </tr>\n    <tr>\n      <th>2</th>\n      <td>Comedy</td>\n      <td>35</td>\n    </tr>\n    <tr>\n      <th>3</th>\n      <td>Comedy</td>\n      <td>44</td>\n    </tr>\n    <tr>\n      <th>4</th>\n      <td>Comedy</td>\n      <td>72</td>\n    </tr>\n    <tr>\n      <th>...</th>\n      <td>...</td>\n      <td>...</td>\n    </tr>\n    <tr>\n      <th>72</th>\n      <td>romance</td>\n      <td>84</td>\n    </tr>\n    <tr>\n      <th>73</th>\n      <td>Drama</td>\n      <td>64</td>\n    </tr>\n    <tr>\n      <th>74</th>\n      <td>Drama</td>\n      <td>89</td>\n    </tr>\n    <tr>\n      <th>75</th>\n      <td>Comedy</td>\n      <td>71</td>\n    </tr>\n    <tr>\n      <th>76</th>\n      <td>comedy</td>\n      <td>81</td>\n    </tr>\n  </tbody>\n</table>\n<p>77 rows × 2 columns</p>\n</div>"
     },
     "metadata": {},
     "execution_count": 110
    }
   ],
   "source": [
    "movies[['Genre', 'Audience score %']]"
   ]
  },
  {
   "source": [
    "\n",
    "    6. Show the list of top 5 movies based on profitability.\n"
   ],
   "cell_type": "markdown",
   "metadata": {}
  },
  {
   "cell_type": "code",
   "execution_count": 157,
   "metadata": {},
   "outputs": [
    {
     "output_type": "execute_result",
     "data": {
      "text/plain": [
       "                                  Film    Genre  Lead Studio  \\\n",
       "68                           Fireproof    Drama  Independent   \n",
       "60  High School Musical 3: Senior Year   Comedy       Disney   \n",
       "14         The Twilight Saga: New Moon    Drama       Summit   \n",
       "7                             Waitress  Romance  Independent   \n",
       "12                            Twilight  Romance       Summit   \n",
       "\n",
       "    Audience score %  Profitability  Rotten Tomatoes % Worldwide Gross  Year  \n",
       "68                51      66.934000                 40         $33.47   2008  \n",
       "60                76      22.913136                 65        $252.04   2008  \n",
       "14                78      14.196400                 27        $709.82   2009  \n",
       "7                 67      11.089742                 89         $22.18   2007  \n",
       "12                82      10.180027                 49        $376.66   2008  "
      ],
      "text/html": "<div>\n<style scoped>\n    .dataframe tbody tr th:only-of-type {\n        vertical-align: middle;\n    }\n\n    .dataframe tbody tr th {\n        vertical-align: top;\n    }\n\n    .dataframe thead th {\n        text-align: right;\n    }\n</style>\n<table border=\"1\" class=\"dataframe\">\n  <thead>\n    <tr style=\"text-align: right;\">\n      <th></th>\n      <th>Film</th>\n      <th>Genre</th>\n      <th>Lead Studio</th>\n      <th>Audience score %</th>\n      <th>Profitability</th>\n      <th>Rotten Tomatoes %</th>\n      <th>Worldwide Gross</th>\n      <th>Year</th>\n    </tr>\n  </thead>\n  <tbody>\n    <tr>\n      <th>68</th>\n      <td>Fireproof</td>\n      <td>Drama</td>\n      <td>Independent</td>\n      <td>51</td>\n      <td>66.934000</td>\n      <td>40</td>\n      <td>$33.47</td>\n      <td>2008</td>\n    </tr>\n    <tr>\n      <th>60</th>\n      <td>High School Musical 3: Senior Year</td>\n      <td>Comedy</td>\n      <td>Disney</td>\n      <td>76</td>\n      <td>22.913136</td>\n      <td>65</td>\n      <td>$252.04</td>\n      <td>2008</td>\n    </tr>\n    <tr>\n      <th>14</th>\n      <td>The Twilight Saga: New Moon</td>\n      <td>Drama</td>\n      <td>Summit</td>\n      <td>78</td>\n      <td>14.196400</td>\n      <td>27</td>\n      <td>$709.82</td>\n      <td>2009</td>\n    </tr>\n    <tr>\n      <th>7</th>\n      <td>Waitress</td>\n      <td>Romance</td>\n      <td>Independent</td>\n      <td>67</td>\n      <td>11.089742</td>\n      <td>89</td>\n      <td>$22.18</td>\n      <td>2007</td>\n    </tr>\n    <tr>\n      <th>12</th>\n      <td>Twilight</td>\n      <td>Romance</td>\n      <td>Summit</td>\n      <td>82</td>\n      <td>10.180027</td>\n      <td>49</td>\n      <td>$376.66</td>\n      <td>2008</td>\n    </tr>\n  </tbody>\n</table>\n</div>"
     },
     "metadata": {},
     "execution_count": 157
    }
   ],
   "source": [
    "movies.sort_values(by = 'Profitability', ascending = False).head(5)"
   ]
  },
  {
   "source": [
    "\n",
    "    7. Show the top 5 Comedy movies approved by the audience. (hint : Audience Score)"
   ],
   "cell_type": "markdown",
   "metadata": {}
  },
  {
   "cell_type": "code",
   "execution_count": 161,
   "metadata": {},
   "outputs": [
    {
     "output_type": "execute_result",
     "data": {
      "text/plain": [
       "                Film   Genre   Lead Studio  Audience score %  Profitability  \\\n",
       "54        Knocked Up  Comedy     Universal                83       6.636402   \n",
       "27  Sex and the City  Comedy  Warner Bros.                81       7.221796   \n",
       "71         Beginners  Comedy   Independent                80       4.471875   \n",
       "69         Enchanted  Comedy        Disney                80       4.005737   \n",
       "44     Marley and Me  Comedy           Fox                77       3.746782   \n",
       "\n",
       "    Rotten Tomatoes % Worldwide Gross  Year  \n",
       "54                 91           $219   2007  \n",
       "27                 49        $415.25   2008  \n",
       "71                 84         $14.31   2011  \n",
       "69                 93        $340.49   2007  \n",
       "44                 63        $206.07   2008  "
      ],
      "text/html": "<div>\n<style scoped>\n    .dataframe tbody tr th:only-of-type {\n        vertical-align: middle;\n    }\n\n    .dataframe tbody tr th {\n        vertical-align: top;\n    }\n\n    .dataframe thead th {\n        text-align: right;\n    }\n</style>\n<table border=\"1\" class=\"dataframe\">\n  <thead>\n    <tr style=\"text-align: right;\">\n      <th></th>\n      <th>Film</th>\n      <th>Genre</th>\n      <th>Lead Studio</th>\n      <th>Audience score %</th>\n      <th>Profitability</th>\n      <th>Rotten Tomatoes %</th>\n      <th>Worldwide Gross</th>\n      <th>Year</th>\n    </tr>\n  </thead>\n  <tbody>\n    <tr>\n      <th>54</th>\n      <td>Knocked Up</td>\n      <td>Comedy</td>\n      <td>Universal</td>\n      <td>83</td>\n      <td>6.636402</td>\n      <td>91</td>\n      <td>$219</td>\n      <td>2007</td>\n    </tr>\n    <tr>\n      <th>27</th>\n      <td>Sex and the City</td>\n      <td>Comedy</td>\n      <td>Warner Bros.</td>\n      <td>81</td>\n      <td>7.221796</td>\n      <td>49</td>\n      <td>$415.25</td>\n      <td>2008</td>\n    </tr>\n    <tr>\n      <th>71</th>\n      <td>Beginners</td>\n      <td>Comedy</td>\n      <td>Independent</td>\n      <td>80</td>\n      <td>4.471875</td>\n      <td>84</td>\n      <td>$14.31</td>\n      <td>2011</td>\n    </tr>\n    <tr>\n      <th>69</th>\n      <td>Enchanted</td>\n      <td>Comedy</td>\n      <td>Disney</td>\n      <td>80</td>\n      <td>4.005737</td>\n      <td>93</td>\n      <td>$340.49</td>\n      <td>2007</td>\n    </tr>\n    <tr>\n      <th>44</th>\n      <td>Marley and Me</td>\n      <td>Comedy</td>\n      <td>Fox</td>\n      <td>77</td>\n      <td>3.746782</td>\n      <td>63</td>\n      <td>$206.07</td>\n      <td>2008</td>\n    </tr>\n  </tbody>\n</table>\n</div>"
     },
     "metadata": {},
     "execution_count": 161
    }
   ],
   "source": [
    "movies[movies['Genre'] == 'Comedy'].sort_values(by = 'Audience score %', ascending = False).head(5)"
   ]
  },
  {
   "source": [
    "Sort_values could be also passed a llist of column name, ascending kwarg could also receive a list, refering to each column being sorted"
   ],
   "cell_type": "markdown",
   "metadata": {}
  },
  {
   "source": [
    "Always check the name of columns by using DataFrame.columns and then assigning the new columns to DataFrame.columns"
   ],
   "cell_type": "markdown",
   "metadata": {}
  },
  {
   "source": [
    "When the header of the table is missing, \n",
    "so when using pd.read_csv('filename', header = None) use kwarg header = None. You could always use DataFrame.columns to add/change the header<br>\n",
    "when saving to a new data frame, use rest_index(replace = True, drop = True) if need to reset indexes"
   ],
   "cell_type": "markdown",
   "metadata": {}
  },
  {
   "source": [
    "Group by"
   ],
   "cell_type": "markdown",
   "metadata": {}
  },
  {
   "cell_type": "code",
   "execution_count": 156,
   "metadata": {},
   "outputs": [
    {
     "output_type": "execute_result",
     "data": {
      "text/plain": [
       "                                   Film      Genre            Lead Studio  \\\n",
       "0            Zack and Miri Make a Porno    Romance  The Weinstein Company   \n",
       "4                 What Happens in Vegas     Comedy                    Fox   \n",
       "6                                WALL-E  Animation                 Disney   \n",
       "12                             Twilight    Romance                 Summit   \n",
       "19                          The Duchess      Drama              Paramount   \n",
       "20  The Curious Case of Benjamin Button    Fantasy           Warner Bros.   \n",
       "27                     Sex and the City     Comedy           Warner Bros.   \n",
       "29               Rachel Getting Married      Drama            Independent   \n",
       "30                             Penelope     Comedy                 Summit   \n",
       "32                   Over Her Dead Body     Comedy               New Line   \n",
       "37   Nick and Norah's Infinite Playlist     Comedy                   Sony   \n",
       "42       Miss Pettigrew Lives for a Day     Comedy            Independent   \n",
       "44                        Marley and Me     Comedy                    Fox   \n",
       "45                           Mamma Mia!     Comedy              Universal   \n",
       "46                           Mamma Mia!     Comedy              Universal   \n",
       "47                        Made of Honor      Comdy                   Sony   \n",
       "60   High School Musical 3: Senior Year     Comedy                 Disney   \n",
       "67                     Four Christmases     Comedy           Warner Bros.   \n",
       "68                            Fireproof      Drama            Independent   \n",
       "75                           27 Dresses     Comedy                    Fox   \n",
       "\n",
       "    Audience score %  Profitability  Rotten Tomatoes % Worldwide Gross  Year  \n",
       "0                 70       1.747542                 64         $41.94   2008  \n",
       "4                 72       6.267647                 28        $219.37   2008  \n",
       "6                 89       2.896019                 96        $521.28   2008  \n",
       "12                82      10.180027                 49        $376.66   2008  \n",
       "19                68       3.207850                 60         $43.31   2008  \n",
       "20                81       1.783944                 73        $285.43   2008  \n",
       "27                81       7.221796                 49        $415.25   2008  \n",
       "29                61       1.384167                 85         $16.61   2008  \n",
       "30                74       1.382800                 52         $20.74   2008  \n",
       "32                47       2.071000                 15         $20.71   2008  \n",
       "37                67       3.352729                 73         $33.53   2008  \n",
       "42                70       0.252895                 78         $15.17   2008  \n",
       "44                77       3.746782                 63        $206.07   2008  \n",
       "45                76       9.234454                 53        $609.47   2008  \n",
       "46                76       9.234454                 53        $609.47   2008  \n",
       "47                61       2.649068                 13        $105.96   2008  \n",
       "60                76      22.913136                 65        $252.04   2008  \n",
       "67                52       2.022925                 26        $161.83   2008  \n",
       "68                51      66.934000                 40         $33.47   2008  \n",
       "75                71       5.343622                 40        $160.31   2008  "
      ],
      "text/html": "<div>\n<style scoped>\n    .dataframe tbody tr th:only-of-type {\n        vertical-align: middle;\n    }\n\n    .dataframe tbody tr th {\n        vertical-align: top;\n    }\n\n    .dataframe thead th {\n        text-align: right;\n    }\n</style>\n<table border=\"1\" class=\"dataframe\">\n  <thead>\n    <tr style=\"text-align: right;\">\n      <th></th>\n      <th>Film</th>\n      <th>Genre</th>\n      <th>Lead Studio</th>\n      <th>Audience score %</th>\n      <th>Profitability</th>\n      <th>Rotten Tomatoes %</th>\n      <th>Worldwide Gross</th>\n      <th>Year</th>\n    </tr>\n  </thead>\n  <tbody>\n    <tr>\n      <th>0</th>\n      <td>Zack and Miri Make a Porno</td>\n      <td>Romance</td>\n      <td>The Weinstein Company</td>\n      <td>70</td>\n      <td>1.747542</td>\n      <td>64</td>\n      <td>$41.94</td>\n      <td>2008</td>\n    </tr>\n    <tr>\n      <th>4</th>\n      <td>What Happens in Vegas</td>\n      <td>Comedy</td>\n      <td>Fox</td>\n      <td>72</td>\n      <td>6.267647</td>\n      <td>28</td>\n      <td>$219.37</td>\n      <td>2008</td>\n    </tr>\n    <tr>\n      <th>6</th>\n      <td>WALL-E</td>\n      <td>Animation</td>\n      <td>Disney</td>\n      <td>89</td>\n      <td>2.896019</td>\n      <td>96</td>\n      <td>$521.28</td>\n      <td>2008</td>\n    </tr>\n    <tr>\n      <th>12</th>\n      <td>Twilight</td>\n      <td>Romance</td>\n      <td>Summit</td>\n      <td>82</td>\n      <td>10.180027</td>\n      <td>49</td>\n      <td>$376.66</td>\n      <td>2008</td>\n    </tr>\n    <tr>\n      <th>19</th>\n      <td>The Duchess</td>\n      <td>Drama</td>\n      <td>Paramount</td>\n      <td>68</td>\n      <td>3.207850</td>\n      <td>60</td>\n      <td>$43.31</td>\n      <td>2008</td>\n    </tr>\n    <tr>\n      <th>20</th>\n      <td>The Curious Case of Benjamin Button</td>\n      <td>Fantasy</td>\n      <td>Warner Bros.</td>\n      <td>81</td>\n      <td>1.783944</td>\n      <td>73</td>\n      <td>$285.43</td>\n      <td>2008</td>\n    </tr>\n    <tr>\n      <th>27</th>\n      <td>Sex and the City</td>\n      <td>Comedy</td>\n      <td>Warner Bros.</td>\n      <td>81</td>\n      <td>7.221796</td>\n      <td>49</td>\n      <td>$415.25</td>\n      <td>2008</td>\n    </tr>\n    <tr>\n      <th>29</th>\n      <td>Rachel Getting Married</td>\n      <td>Drama</td>\n      <td>Independent</td>\n      <td>61</td>\n      <td>1.384167</td>\n      <td>85</td>\n      <td>$16.61</td>\n      <td>2008</td>\n    </tr>\n    <tr>\n      <th>30</th>\n      <td>Penelope</td>\n      <td>Comedy</td>\n      <td>Summit</td>\n      <td>74</td>\n      <td>1.382800</td>\n      <td>52</td>\n      <td>$20.74</td>\n      <td>2008</td>\n    </tr>\n    <tr>\n      <th>32</th>\n      <td>Over Her Dead Body</td>\n      <td>Comedy</td>\n      <td>New Line</td>\n      <td>47</td>\n      <td>2.071000</td>\n      <td>15</td>\n      <td>$20.71</td>\n      <td>2008</td>\n    </tr>\n    <tr>\n      <th>37</th>\n      <td>Nick and Norah's Infinite Playlist</td>\n      <td>Comedy</td>\n      <td>Sony</td>\n      <td>67</td>\n      <td>3.352729</td>\n      <td>73</td>\n      <td>$33.53</td>\n      <td>2008</td>\n    </tr>\n    <tr>\n      <th>42</th>\n      <td>Miss Pettigrew Lives for a Day</td>\n      <td>Comedy</td>\n      <td>Independent</td>\n      <td>70</td>\n      <td>0.252895</td>\n      <td>78</td>\n      <td>$15.17</td>\n      <td>2008</td>\n    </tr>\n    <tr>\n      <th>44</th>\n      <td>Marley and Me</td>\n      <td>Comedy</td>\n      <td>Fox</td>\n      <td>77</td>\n      <td>3.746782</td>\n      <td>63</td>\n      <td>$206.07</td>\n      <td>2008</td>\n    </tr>\n    <tr>\n      <th>45</th>\n      <td>Mamma Mia!</td>\n      <td>Comedy</td>\n      <td>Universal</td>\n      <td>76</td>\n      <td>9.234454</td>\n      <td>53</td>\n      <td>$609.47</td>\n      <td>2008</td>\n    </tr>\n    <tr>\n      <th>46</th>\n      <td>Mamma Mia!</td>\n      <td>Comedy</td>\n      <td>Universal</td>\n      <td>76</td>\n      <td>9.234454</td>\n      <td>53</td>\n      <td>$609.47</td>\n      <td>2008</td>\n    </tr>\n    <tr>\n      <th>47</th>\n      <td>Made of Honor</td>\n      <td>Comdy</td>\n      <td>Sony</td>\n      <td>61</td>\n      <td>2.649068</td>\n      <td>13</td>\n      <td>$105.96</td>\n      <td>2008</td>\n    </tr>\n    <tr>\n      <th>60</th>\n      <td>High School Musical 3: Senior Year</td>\n      <td>Comedy</td>\n      <td>Disney</td>\n      <td>76</td>\n      <td>22.913136</td>\n      <td>65</td>\n      <td>$252.04</td>\n      <td>2008</td>\n    </tr>\n    <tr>\n      <th>67</th>\n      <td>Four Christmases</td>\n      <td>Comedy</td>\n      <td>Warner Bros.</td>\n      <td>52</td>\n      <td>2.022925</td>\n      <td>26</td>\n      <td>$161.83</td>\n      <td>2008</td>\n    </tr>\n    <tr>\n      <th>68</th>\n      <td>Fireproof</td>\n      <td>Drama</td>\n      <td>Independent</td>\n      <td>51</td>\n      <td>66.934000</td>\n      <td>40</td>\n      <td>$33.47</td>\n      <td>2008</td>\n    </tr>\n    <tr>\n      <th>75</th>\n      <td>27 Dresses</td>\n      <td>Comedy</td>\n      <td>Fox</td>\n      <td>71</td>\n      <td>5.343622</td>\n      <td>40</td>\n      <td>$160.31</td>\n      <td>2008</td>\n    </tr>\n  </tbody>\n</table>\n</div>"
     },
     "metadata": {},
     "execution_count": 156
    }
   ],
   "source": [
    "mv_group = movies.groupby('Year')\n",
    "data_2008 = mv_group.get_group(2008)\n",
    "data_2008"
   ]
  }
 ]
}