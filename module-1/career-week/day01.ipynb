{
 "cells": [
  {
   "cell_type": "markdown",
   "metadata": {},
   "source": [
    "## Design Thinking\n",
    "1. Understand\n",
    "2. Observe\n",
    "3. Ideate\n",
    "4. Test - Adjust - Repeat"
   ]
  },
  {
   "cell_type": "markdown",
   "metadata": {},
   "source": [
    "## Job Market\n",
    "* 36-40 h/w\n",
    "* MINT+H /new-work\n",
    "* industry 4.0\n",
    "* salary 45-50k\n",
    "* https://gehaltsvergleich.com\n",
    "* use the software taxfix\n",
    "* MOVE TO ESTONIA!!!"
   ]
  },
  {
   "cell_type": "markdown",
   "metadata": {},
   "source": [
    "## Self Branding\n",
    "### SWOT analysis\n",
    "* Strengths\n",
    "* Weaknesses\n",
    "* Opportunities\n",
    "* Threats\n",
    "\n",
    "<br>\n",
    "\n",
    "* If you think about your profileand sharpen it towards city, organization form, position, etc., you will make your application process much esier and increase your chances by far.\n",
    "<br>\n",
    "\n",
    "### Employability\n",
    "* Emphasize the agility in which you decided to go into data science and your ability to focus mental and time resources in order to get employed in th field\n"
   ]
  },
  {
   "cell_type": "markdown",
   "metadata": {},
   "source": [
    "## Application\n",
    "* Apply even if you only make 20% of requirements\n",
    "* Tailor application for requirements\n",
    "* Pay attention for the first requirement\n",
    "* Create a pool of jobs to apply, and apply to the top X every day, with a taylored application"
   ]
  },
  {
   "cell_type": "markdown",
   "metadata": {},
   "source": [
    "## CV\n",
    "* know the CV by heart\n",
    "* it's ok to have gaps\n",
    "* Creative, Precise, Technical\n",
    "* Taylor it\n",
    "* Show benefit for the company"
   ]
  },
  {
   "cell_type": "markdown",
   "metadata": {},
   "source": [
    "## Cover Letter"
   ]
  },
  {
   "cell_type": "markdown",
   "metadata": {},
   "source": [
    "## Linkedin"
   ]
  }
 ],
 "metadata": {
  "kernelspec": {
   "display_name": "Python 3.9.5 64-bit",
   "name": "python395jvsc74a57bd08c46524687aa02bdf9f118966ef6ff62421a8efb0a9dfd79ef4b20306c22ee55"
  },
  "language_info": {
   "name": "python",
   "version": ""
  },
  "orig_nbformat": 2
 },
 "nbformat": 4,
 "nbformat_minor": 2
}