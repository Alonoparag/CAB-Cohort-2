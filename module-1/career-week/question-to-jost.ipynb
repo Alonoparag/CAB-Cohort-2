{
 "cells": [
  {
   "cell_type": "markdown",
   "metadata": {},
   "source": [
    "1. my criminal background in Israel\n",
    "2. presenting the gap between my military service and my current phase"
   ]
  }
 ],
 "metadata": {
  "kernelspec": {
   "display_name": "Python 3.9.5 64-bit",
   "name": "python395jvsc74a57bd08c46524687aa02bdf9f118966ef6ff62421a8efb0a9dfd79ef4b20306c22ee55"
  },
  "language_info": {
   "name": "python",
   "version": ""
  },
  "orig_nbformat": 2
 },
 "nbformat": 4,
 "nbformat_minor": 2
}