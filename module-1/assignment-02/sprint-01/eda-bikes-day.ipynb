{
 "cells": [
  {
   "cell_type": "code",
   "execution_count": 1,
   "metadata": {},
   "outputs": [],
   "source": [
    "import numpy as np\n",
    "import pandas as pd\n",
    "import matplotlib.pyplot as plt\n",
    "import seaborn as sns\n",
    "from statsmodels.stats.multicomp import pairwise_tukeyhsd\n",
    "pd.set_option('display.max_columns', 20)"
   ]
  },
  {
   "cell_type": "code",
   "execution_count": 2,
   "metadata": {},
   "outputs": [],
   "source": [
    "df_day = pd.read_csv('dataset/day.csv')\n",
    "df_hour = pd.read_csv('dataset/hour.csv')"
   ]
  },
  {
   "cell_type": "code",
   "execution_count": 3,
   "metadata": {},
   "outputs": [
    {
     "data": {
      "text/html": "<div>\n<style scoped>\n    .dataframe tbody tr th:only-of-type {\n        vertical-align: middle;\n    }\n\n    .dataframe tbody tr th {\n        vertical-align: top;\n    }\n\n    .dataframe thead th {\n        text-align: right;\n    }\n</style>\n<table border=\"1\" class=\"dataframe\">\n  <thead>\n    <tr style=\"text-align: right;\">\n      <th></th>\n      <th>instant</th>\n      <th>dteday</th>\n      <th>season</th>\n      <th>yr</th>\n      <th>mnth</th>\n      <th>holiday</th>\n      <th>weekday</th>\n      <th>workingday</th>\n      <th>weathersit</th>\n      <th>temp</th>\n      <th>atemp</th>\n      <th>hum</th>\n      <th>windspeed</th>\n      <th>casual</th>\n      <th>registered</th>\n      <th>cnt</th>\n    </tr>\n  </thead>\n  <tbody>\n    <tr>\n      <th>0</th>\n      <td>1</td>\n      <td>2011-01-01</td>\n      <td>1</td>\n      <td>0</td>\n      <td>1</td>\n      <td>0</td>\n      <td>6</td>\n      <td>0</td>\n      <td>2</td>\n      <td>0.344167</td>\n      <td>0.363625</td>\n      <td>0.805833</td>\n      <td>0.160446</td>\n      <td>331</td>\n      <td>654</td>\n      <td>985</td>\n    </tr>\n    <tr>\n      <th>1</th>\n      <td>2</td>\n      <td>2011-01-02</td>\n      <td>1</td>\n      <td>0</td>\n      <td>1</td>\n      <td>0</td>\n      <td>0</td>\n      <td>0</td>\n      <td>2</td>\n      <td>0.363478</td>\n      <td>0.353739</td>\n      <td>0.696087</td>\n      <td>0.248539</td>\n      <td>131</td>\n      <td>670</td>\n      <td>801</td>\n    </tr>\n    <tr>\n      <th>2</th>\n      <td>3</td>\n      <td>2011-01-03</td>\n      <td>1</td>\n      <td>0</td>\n      <td>1</td>\n      <td>0</td>\n      <td>1</td>\n      <td>1</td>\n      <td>1</td>\n      <td>0.196364</td>\n      <td>0.189405</td>\n      <td>0.437273</td>\n      <td>0.248309</td>\n      <td>120</td>\n      <td>1229</td>\n      <td>1349</td>\n    </tr>\n    <tr>\n      <th>3</th>\n      <td>4</td>\n      <td>2011-01-04</td>\n      <td>1</td>\n      <td>0</td>\n      <td>1</td>\n      <td>0</td>\n      <td>2</td>\n      <td>1</td>\n      <td>1</td>\n      <td>0.200000</td>\n      <td>0.212122</td>\n      <td>0.590435</td>\n      <td>0.160296</td>\n      <td>108</td>\n      <td>1454</td>\n      <td>1562</td>\n    </tr>\n    <tr>\n      <th>4</th>\n      <td>5</td>\n      <td>2011-01-05</td>\n      <td>1</td>\n      <td>0</td>\n      <td>1</td>\n      <td>0</td>\n      <td>3</td>\n      <td>1</td>\n      <td>1</td>\n      <td>0.226957</td>\n      <td>0.229270</td>\n      <td>0.436957</td>\n      <td>0.186900</td>\n      <td>82</td>\n      <td>1518</td>\n      <td>1600</td>\n    </tr>\n  </tbody>\n</table>\n</div>",
      "text/plain": "   instant      dteday  season  yr  mnth  holiday  weekday  workingday  \\\n0        1  2011-01-01       1   0     1        0        6           0   \n1        2  2011-01-02       1   0     1        0        0           0   \n2        3  2011-01-03       1   0     1        0        1           1   \n3        4  2011-01-04       1   0     1        0        2           1   \n4        5  2011-01-05       1   0     1        0        3           1   \n\n   weathersit      temp     atemp       hum  windspeed  casual  registered  \\\n0           2  0.344167  0.363625  0.805833   0.160446     331         654   \n1           2  0.363478  0.353739  0.696087   0.248539     131         670   \n2           1  0.196364  0.189405  0.437273   0.248309     120        1229   \n3           1  0.200000  0.212122  0.590435   0.160296     108        1454   \n4           1  0.226957  0.229270  0.436957   0.186900      82        1518   \n\n    cnt  \n0   985  \n1   801  \n2  1349  \n3  1562  \n4  1600  "
     },
     "metadata": {},
     "output_type": "display_data"
    },
    {
     "data": {
      "text/plain": "(731, 16)"
     },
     "metadata": {},
     "output_type": "display_data"
    },
    {
     "data": {
      "text/plain": "Index(['instant', 'dteday', 'season', 'yr', 'mnth', 'holiday', 'weekday',\n       'workingday', 'weathersit', 'temp', 'atemp', 'hum', 'windspeed',\n       'casual', 'registered', 'cnt'],\n      dtype='object')"
     },
     "metadata": {},
     "output_type": "display_data"
    },
    {
     "data": {
      "text/plain": "instant       0\ndteday        0\nseason        0\nyr            0\nmnth          0\nholiday       0\nweekday       0\nworkingday    0\nweathersit    0\ntemp          0\natemp         0\nhum           0\nwindspeed     0\ncasual        0\nregistered    0\ncnt           0\ndtype: int64"
     },
     "metadata": {},
     "output_type": "display_data"
    }
   ],
   "source": [
    "display(df_day.head(5))\n",
    "display(df_day.shape)\n",
    "display(df_day.columns)\n",
    "display(df_day.isnull().sum())"
   ]
  },
  {
   "cell_type": "code",
   "execution_count": 4,
   "metadata": {},
   "outputs": [],
   "source": [
    "df_day.season = df_day.season.apply( lambda x: 'Spring' if x == 1\n",
    "                                        else 'Summer' if x == 2 \n",
    "                                        else 'Fall'if x==3\n",
    "                                        else 'Winter')\n",
    "\n",
    "df_day.weathersit = df_day.weathersit.apply( lambda x: 'Clear' if x == 1\n",
    "                                            else 'Cloudy' if x == 2 \n",
    "                                            else 'Light Rain'if x==3\n",
    "                                            else 'Heavy rain')\n",
    "\n",
    "df_day.holiday = df_day.holiday.apply( lambda x: 'Yes' if x == 1\n",
    "                                        else 'No')\n",
    "\n",
    "df_day.workingday = df_day.workingday.apply( lambda x: 'Yes' if x == 1\n",
    "                                        else 'No')\n",
    "df_day.drop('instant', inplace = True, axis = 1)"
   ]
  },
  {
   "cell_type": "code",
   "execution_count": 5,
   "metadata": {},
   "outputs": [
    {
     "data": {
      "text/html": "<div>\n<style scoped>\n    .dataframe tbody tr th:only-of-type {\n        vertical-align: middle;\n    }\n\n    .dataframe tbody tr th {\n        vertical-align: top;\n    }\n\n    .dataframe thead th {\n        text-align: right;\n    }\n</style>\n<table border=\"1\" class=\"dataframe\">\n  <thead>\n    <tr style=\"text-align: right;\">\n      <th></th>\n      <th>dteday</th>\n      <th>season</th>\n      <th>yr</th>\n      <th>mnth</th>\n      <th>holiday</th>\n      <th>weekday</th>\n      <th>workingday</th>\n      <th>weathersit</th>\n      <th>temp</th>\n      <th>atemp</th>\n      <th>hum</th>\n      <th>windspeed</th>\n      <th>casual</th>\n      <th>registered</th>\n      <th>cnt</th>\n    </tr>\n  </thead>\n  <tbody>\n    <tr>\n      <th>0</th>\n      <td>2011-01-01</td>\n      <td>Spring</td>\n      <td>0</td>\n      <td>1</td>\n      <td>No</td>\n      <td>6</td>\n      <td>No</td>\n      <td>Cloudy</td>\n      <td>0.344167</td>\n      <td>0.363625</td>\n      <td>0.805833</td>\n      <td>0.160446</td>\n      <td>331</td>\n      <td>654</td>\n      <td>985</td>\n    </tr>\n    <tr>\n      <th>1</th>\n      <td>2011-01-02</td>\n      <td>Spring</td>\n      <td>0</td>\n      <td>1</td>\n      <td>No</td>\n      <td>0</td>\n      <td>No</td>\n      <td>Cloudy</td>\n      <td>0.363478</td>\n      <td>0.353739</td>\n      <td>0.696087</td>\n      <td>0.248539</td>\n      <td>131</td>\n      <td>670</td>\n      <td>801</td>\n    </tr>\n    <tr>\n      <th>2</th>\n      <td>2011-01-03</td>\n      <td>Spring</td>\n      <td>0</td>\n      <td>1</td>\n      <td>No</td>\n      <td>1</td>\n      <td>Yes</td>\n      <td>Clear</td>\n      <td>0.196364</td>\n      <td>0.189405</td>\n      <td>0.437273</td>\n      <td>0.248309</td>\n      <td>120</td>\n      <td>1229</td>\n      <td>1349</td>\n    </tr>\n    <tr>\n      <th>3</th>\n      <td>2011-01-04</td>\n      <td>Spring</td>\n      <td>0</td>\n      <td>1</td>\n      <td>No</td>\n      <td>2</td>\n      <td>Yes</td>\n      <td>Clear</td>\n      <td>0.200000</td>\n      <td>0.212122</td>\n      <td>0.590435</td>\n      <td>0.160296</td>\n      <td>108</td>\n      <td>1454</td>\n      <td>1562</td>\n    </tr>\n    <tr>\n      <th>4</th>\n      <td>2011-01-05</td>\n      <td>Spring</td>\n      <td>0</td>\n      <td>1</td>\n      <td>No</td>\n      <td>3</td>\n      <td>Yes</td>\n      <td>Clear</td>\n      <td>0.226957</td>\n      <td>0.229270</td>\n      <td>0.436957</td>\n      <td>0.186900</td>\n      <td>82</td>\n      <td>1518</td>\n      <td>1600</td>\n    </tr>\n  </tbody>\n</table>\n</div>",
      "text/plain": "       dteday  season  yr  mnth holiday  weekday workingday weathersit  \\\n0  2011-01-01  Spring   0     1      No        6         No     Cloudy   \n1  2011-01-02  Spring   0     1      No        0         No     Cloudy   \n2  2011-01-03  Spring   0     1      No        1        Yes      Clear   \n3  2011-01-04  Spring   0     1      No        2        Yes      Clear   \n4  2011-01-05  Spring   0     1      No        3        Yes      Clear   \n\n       temp     atemp       hum  windspeed  casual  registered   cnt  \n0  0.344167  0.363625  0.805833   0.160446     331         654   985  \n1  0.363478  0.353739  0.696087   0.248539     131         670   801  \n2  0.196364  0.189405  0.437273   0.248309     120        1229  1349  \n3  0.200000  0.212122  0.590435   0.160296     108        1454  1562  \n4  0.226957  0.229270  0.436957   0.186900      82        1518  1600  "
     },
     "execution_count": 5,
     "metadata": {},
     "output_type": "execute_result"
    }
   ],
   "source": [
    "df_day.head(5)"
   ]
  },
  {
   "cell_type": "code",
   "execution_count": 6,
   "metadata": {},
   "outputs": [],
   "source": [
    "df_day.dteday=df_day.dteday.apply(lambda date: pd.to_datetime(date))\n"
   ]
  },
  {
   "cell_type": "code",
   "execution_count": 10,
   "metadata": {},
   "outputs": [],
   "source": [
    "df_lw=df_day[(df_day.dteday > pd.to_datetime('2012-12-24') )& (df_day.dteday <= pd.to_datetime('2012-12-31'))]"
   ]
  },
  {
   "cell_type": "code",
   "execution_count": 11,
   "metadata": {},
   "outputs": [
    {
     "data": {
      "text/html": "<div>\n<style scoped>\n    .dataframe tbody tr th:only-of-type {\n        vertical-align: middle;\n    }\n\n    .dataframe tbody tr th {\n        vertical-align: top;\n    }\n\n    .dataframe thead th {\n        text-align: right;\n    }\n</style>\n<table border=\"1\" class=\"dataframe\">\n  <thead>\n    <tr style=\"text-align: right;\">\n      <th></th>\n      <th>dteday</th>\n      <th>season</th>\n      <th>yr</th>\n      <th>mnth</th>\n      <th>holiday</th>\n      <th>weekday</th>\n      <th>workingday</th>\n      <th>weathersit</th>\n      <th>temp</th>\n      <th>atemp</th>\n      <th>hum</th>\n      <th>windspeed</th>\n      <th>casual</th>\n      <th>registered</th>\n      <th>cnt</th>\n    </tr>\n  </thead>\n  <tbody>\n    <tr>\n      <th>724</th>\n      <td>2012-12-25</td>\n      <td>Spring</td>\n      <td>1</td>\n      <td>12</td>\n      <td>Yes</td>\n      <td>2</td>\n      <td>No</td>\n      <td>Cloudy</td>\n      <td>0.291304</td>\n      <td>0.294465</td>\n      <td>0.734783</td>\n      <td>0.168726</td>\n      <td>440</td>\n      <td>573</td>\n      <td>1013</td>\n    </tr>\n    <tr>\n      <th>725</th>\n      <td>2012-12-26</td>\n      <td>Spring</td>\n      <td>1</td>\n      <td>12</td>\n      <td>No</td>\n      <td>3</td>\n      <td>Yes</td>\n      <td>Light Rain</td>\n      <td>0.243333</td>\n      <td>0.220333</td>\n      <td>0.823333</td>\n      <td>0.316546</td>\n      <td>9</td>\n      <td>432</td>\n      <td>441</td>\n    </tr>\n    <tr>\n      <th>726</th>\n      <td>2012-12-27</td>\n      <td>Spring</td>\n      <td>1</td>\n      <td>12</td>\n      <td>No</td>\n      <td>4</td>\n      <td>Yes</td>\n      <td>Cloudy</td>\n      <td>0.254167</td>\n      <td>0.226642</td>\n      <td>0.652917</td>\n      <td>0.350133</td>\n      <td>247</td>\n      <td>1867</td>\n      <td>2114</td>\n    </tr>\n    <tr>\n      <th>727</th>\n      <td>2012-12-28</td>\n      <td>Spring</td>\n      <td>1</td>\n      <td>12</td>\n      <td>No</td>\n      <td>5</td>\n      <td>Yes</td>\n      <td>Cloudy</td>\n      <td>0.253333</td>\n      <td>0.255046</td>\n      <td>0.590000</td>\n      <td>0.155471</td>\n      <td>644</td>\n      <td>2451</td>\n      <td>3095</td>\n    </tr>\n    <tr>\n      <th>728</th>\n      <td>2012-12-29</td>\n      <td>Spring</td>\n      <td>1</td>\n      <td>12</td>\n      <td>No</td>\n      <td>6</td>\n      <td>No</td>\n      <td>Cloudy</td>\n      <td>0.253333</td>\n      <td>0.242400</td>\n      <td>0.752917</td>\n      <td>0.124383</td>\n      <td>159</td>\n      <td>1182</td>\n      <td>1341</td>\n    </tr>\n    <tr>\n      <th>729</th>\n      <td>2012-12-30</td>\n      <td>Spring</td>\n      <td>1</td>\n      <td>12</td>\n      <td>No</td>\n      <td>0</td>\n      <td>No</td>\n      <td>Clear</td>\n      <td>0.255833</td>\n      <td>0.231700</td>\n      <td>0.483333</td>\n      <td>0.350754</td>\n      <td>364</td>\n      <td>1432</td>\n      <td>1796</td>\n    </tr>\n    <tr>\n      <th>730</th>\n      <td>2012-12-31</td>\n      <td>Spring</td>\n      <td>1</td>\n      <td>12</td>\n      <td>No</td>\n      <td>1</td>\n      <td>Yes</td>\n      <td>Cloudy</td>\n      <td>0.215833</td>\n      <td>0.223487</td>\n      <td>0.577500</td>\n      <td>0.154846</td>\n      <td>439</td>\n      <td>2290</td>\n      <td>2729</td>\n    </tr>\n  </tbody>\n</table>\n</div>",
      "text/plain": "        dteday  season  yr  mnth holiday  weekday workingday  weathersit  \\\n724 2012-12-25  Spring   1    12     Yes        2         No      Cloudy   \n725 2012-12-26  Spring   1    12      No        3        Yes  Light Rain   \n726 2012-12-27  Spring   1    12      No        4        Yes      Cloudy   \n727 2012-12-28  Spring   1    12      No        5        Yes      Cloudy   \n728 2012-12-29  Spring   1    12      No        6         No      Cloudy   \n729 2012-12-30  Spring   1    12      No        0         No       Clear   \n730 2012-12-31  Spring   1    12      No        1        Yes      Cloudy   \n\n         temp     atemp       hum  windspeed  casual  registered   cnt  \n724  0.291304  0.294465  0.734783   0.168726     440         573  1013  \n725  0.243333  0.220333  0.823333   0.316546       9         432   441  \n726  0.254167  0.226642  0.652917   0.350133     247        1867  2114  \n727  0.253333  0.255046  0.590000   0.155471     644        2451  3095  \n728  0.253333  0.242400  0.752917   0.124383     159        1182  1341  \n729  0.255833  0.231700  0.483333   0.350754     364        1432  1796  \n730  0.215833  0.223487  0.577500   0.154846     439        2290  2729  "
     },
     "execution_count": 11,
     "metadata": {},
     "output_type": "execute_result"
    }
   ],
   "source": [
    "df_lw"
   ]
  },
  {
   "cell_type": "code",
   "execution_count": 18,
   "metadata": {},
   "outputs": [
    {
     "data": {
      "text/plain": "(array([15699., 15700., 15701., 15702., 15703., 15704., 15705.]),\n [Text(0, 0, ''),\n  Text(0, 0, ''),\n  Text(0, 0, ''),\n  Text(0, 0, ''),\n  Text(0, 0, ''),\n  Text(0, 0, ''),\n  Text(0, 0, '')])"
     },
     "execution_count": 18,
     "metadata": {},
     "output_type": "execute_result"
    },
    {
     "data": {
      "image/png": "[encoded data removed]",
      "text/plain": "<Figure size 432x288 with 1 Axes>"
     },
     "metadata": {
      "needs_background": "light"
     },
     "output_type": "display_data"
    }
   ],
   "source": [
    "x = df_lw.dteday\n",
    "y1=df_lw.casual\n",
    "y2=df_lw.registered\n",
    "plt.plot(x,y1,'|-r',x,y2,'|-b')\n",
    "plt.xticks(rotation=45)"
   ]
  }
 ],
 "metadata": {
  "kernelspec": {
   "display_name": "Python 3.9.4 64-bit",
   "name": "python394jvsc74a57bd0dda556e85c8285e16f11e7216a6c1b95df26266b63f433480adfce0aac172184"
  },
  "language_info": {
   "codemirror_mode": {
    "name": "ipython",
    "version": 3
   },
   "file_extension": ".py",
   "mimetype": "text/x-python",
   "name": "python",
   "nbconvert_exporter": "python",
   "pygments_lexer": "ipython3",
   "version": "3.9.5"
  },
  "orig_nbformat": 2
 },
 "nbformat": 4,
 "nbformat_minor": 2
}