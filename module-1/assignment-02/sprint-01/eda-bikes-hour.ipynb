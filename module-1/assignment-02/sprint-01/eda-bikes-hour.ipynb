{
 "cells": [
  {
   "cell_type": "code",
   "execution_count": 19,
   "metadata": {},
   "outputs": [],
   "source": [
    "import numpy as np\n",
    "import pandas as pd\n",
    "import matplotlib.pyplot as plt\n",
    "import seaborn as sns\n",
    "from statsmodels.stats.multicomp import pairwise_tukeyhsd\n",
    "pd.set_option('display.max_columns', 20)"
   ]
  },
  {
   "cell_type": "code",
   "execution_count": 20,
   "metadata": {},
   "outputs": [],
   "source": [
    "df_hour = pd.read_csv('dataset/hour.csv')"
   ]
  },
  {
   "cell_type": "code",
   "execution_count": 21,
   "metadata": {},
   "outputs": [],
   "source": [
    "df_hour.season = df_hour.season.apply( lambda x: 'Spring' if x == 1\n",
    "                                        else 'Summer' if x == 2 \n",
    "                                        else 'Fall'if x==3\n",
    "                                        else 'Winter')\n",
    "\n",
    "df_hour.weathersit = df_hour.weathersit.apply( lambda x: 'Clear' if x == 1\n",
    "                                            else 'Cloudy' if x == 2 \n",
    "                                            else 'Light Rain'if x==3\n",
    "                                            else 'Heavy rain')\n",
    "\n",
    "df_hour.holiday = df_hour.holiday.apply( lambda x: 'Yes' if x == 1\n",
    "                                        else 'No')\n",
    "\n",
    "df_hour.workingday = df_hour.workingday.apply( lambda x: 'Yes' if x == 1\n",
    "                                        else 'No')\n",
    "df_hour.drop('instant', inplace = True, axis = 1)"
   ]
  },
  {
   "cell_type": "code",
   "execution_count": 22,
   "metadata": {},
   "outputs": [
    {
     "data": {
      "text/html": "<div>\n<style scoped>\n    .dataframe tbody tr th:only-of-type {\n        vertical-align: middle;\n    }\n\n    .dataframe tbody tr th {\n        vertical-align: top;\n    }\n\n    .dataframe thead th {\n        text-align: right;\n    }\n</style>\n<table border=\"1\" class=\"dataframe\">\n  <thead>\n    <tr style=\"text-align: right;\">\n      <th></th>\n      <th>dteday</th>\n      <th>season</th>\n      <th>yr</th>\n      <th>mnth</th>\n      <th>hr</th>\n      <th>holiday</th>\n      <th>weekday</th>\n      <th>workingday</th>\n      <th>weathersit</th>\n      <th>temp</th>\n      <th>atemp</th>\n      <th>hum</th>\n      <th>windspeed</th>\n      <th>casual</th>\n      <th>registered</th>\n      <th>cnt</th>\n    </tr>\n  </thead>\n  <tbody>\n    <tr>\n      <th>0</th>\n      <td>2011-01-01</td>\n      <td>Spring</td>\n      <td>0</td>\n      <td>1</td>\n      <td>0</td>\n      <td>No</td>\n      <td>6</td>\n      <td>No</td>\n      <td>Clear</td>\n      <td>0.24</td>\n      <td>0.2879</td>\n      <td>0.81</td>\n      <td>0.0</td>\n      <td>3</td>\n      <td>13</td>\n      <td>16</td>\n    </tr>\n    <tr>\n      <th>1</th>\n      <td>2011-01-01</td>\n      <td>Spring</td>\n      <td>0</td>\n      <td>1</td>\n      <td>1</td>\n      <td>No</td>\n      <td>6</td>\n      <td>No</td>\n      <td>Clear</td>\n      <td>0.22</td>\n      <td>0.2727</td>\n      <td>0.80</td>\n      <td>0.0</td>\n      <td>8</td>\n      <td>32</td>\n      <td>40</td>\n    </tr>\n    <tr>\n      <th>2</th>\n      <td>2011-01-01</td>\n      <td>Spring</td>\n      <td>0</td>\n      <td>1</td>\n      <td>2</td>\n      <td>No</td>\n      <td>6</td>\n      <td>No</td>\n      <td>Clear</td>\n      <td>0.22</td>\n      <td>0.2727</td>\n      <td>0.80</td>\n      <td>0.0</td>\n      <td>5</td>\n      <td>27</td>\n      <td>32</td>\n    </tr>\n    <tr>\n      <th>3</th>\n      <td>2011-01-01</td>\n      <td>Spring</td>\n      <td>0</td>\n      <td>1</td>\n      <td>3</td>\n      <td>No</td>\n      <td>6</td>\n      <td>No</td>\n      <td>Clear</td>\n      <td>0.24</td>\n      <td>0.2879</td>\n      <td>0.75</td>\n      <td>0.0</td>\n      <td>3</td>\n      <td>10</td>\n      <td>13</td>\n    </tr>\n    <tr>\n      <th>4</th>\n      <td>2011-01-01</td>\n      <td>Spring</td>\n      <td>0</td>\n      <td>1</td>\n      <td>4</td>\n      <td>No</td>\n      <td>6</td>\n      <td>No</td>\n      <td>Clear</td>\n      <td>0.24</td>\n      <td>0.2879</td>\n      <td>0.75</td>\n      <td>0.0</td>\n      <td>0</td>\n      <td>1</td>\n      <td>1</td>\n    </tr>\n  </tbody>\n</table>\n</div>",
      "text/plain": "       dteday  season  yr  mnth  hr holiday  weekday workingday weathersit  \\\n0  2011-01-01  Spring   0     1   0      No        6         No      Clear   \n1  2011-01-01  Spring   0     1   1      No        6         No      Clear   \n2  2011-01-01  Spring   0     1   2      No        6         No      Clear   \n3  2011-01-01  Spring   0     1   3      No        6         No      Clear   \n4  2011-01-01  Spring   0     1   4      No        6         No      Clear   \n\n   temp   atemp   hum  windspeed  casual  registered  cnt  \n0  0.24  0.2879  0.81        0.0       3          13   16  \n1  0.22  0.2727  0.80        0.0       8          32   40  \n2  0.22  0.2727  0.80        0.0       5          27   32  \n3  0.24  0.2879  0.75        0.0       3          10   13  \n4  0.24  0.2879  0.75        0.0       0           1    1  "
     },
     "metadata": {},
     "output_type": "display_data"
    },
    {
     "data": {
      "text/plain": "(17379, 16)"
     },
     "metadata": {},
     "output_type": "display_data"
    },
    {
     "data": {
      "text/plain": "Index(['dteday', 'season', 'yr', 'mnth', 'hr', 'holiday', 'weekday',\n       'workingday', 'weathersit', 'temp', 'atemp', 'hum', 'windspeed',\n       'casual', 'registered', 'cnt'],\n      dtype='object')"
     },
     "metadata": {},
     "output_type": "display_data"
    },
    {
     "data": {
      "text/plain": "dteday        0\nseason        0\nyr            0\nmnth          0\nhr            0\nholiday       0\nweekday       0\nworkingday    0\nweathersit    0\ntemp          0\natemp         0\nhum           0\nwindspeed     0\ncasual        0\nregistered    0\ncnt           0\ndtype: int64"
     },
     "metadata": {},
     "output_type": "display_data"
    }
   ],
   "source": [
    "display(df_hour.head(5))\n",
    "display(df_hour.shape)\n",
    "display(df_hour.columns)\n",
    "display(df_hour.isnull().sum())\n"
   ]
  },
  {
   "cell_type": "markdown",
   "metadata": {},
   "source": [
    "* bar plot of season,mnth,hr,holiday,weekday,wirkingday,weathersit to casual, registered, cnt\n",
    "*regression plot of temp, atemp, hum, windspeed to casual, registered, cnt"
   ]
  },
  {
   "cell_type": "code",
   "execution_count": 23,
   "metadata": {},
   "outputs": [],
   "source": [
    "categories = ['season','mnth','hr','holiday','weekday','wirkingday','weathersit']\n",
    "counters = ['casual','registered','cnt']\n",
    "continual = ['temp','atemp','hum','windspeed']"
   ]
  },
  {
   "cell_type": "code",
   "execution_count": 37,
   "metadata": {},
   "outputs": [],
   "source": [
    "for idx, row in df_hour.iterrows():\n",
    "    df_hour.at[idx, 'dteday'] = pd.to_datetime(df_hour.iloc[idx].dteday+f'T{df_hour.iloc[idx].hr}:00')"
   ]
  },
  {
   "cell_type": "code",
   "execution_count": 24,
   "metadata": {},
   "outputs": [],
   "source": [
    "df_lw=df_hour[(df_hour.dteday > pd.to_datetime('2012-12-24') )& (df_hour.dteday <= pd.to_datetime('2012-12-31'))]"
   ]
  },
  {
   "cell_type": "code",
   "execution_count": 41,
   "metadata": {},
   "outputs": [
    {
     "data": {
      "text/html": "<div>\n<style scoped>\n    .dataframe tbody tr th:only-of-type {\n        vertical-align: middle;\n    }\n\n    .dataframe tbody tr th {\n        vertical-align: top;\n    }\n\n    .dataframe thead th {\n        text-align: right;\n    }\n</style>\n<table border=\"1\" class=\"dataframe\">\n  <thead>\n    <tr style=\"text-align: right;\">\n      <th></th>\n      <th>dteday</th>\n      <th>season</th>\n      <th>yr</th>\n      <th>mnth</th>\n      <th>hr</th>\n      <th>holiday</th>\n      <th>weekday</th>\n      <th>workingday</th>\n      <th>weathersit</th>\n      <th>temp</th>\n      <th>atemp</th>\n      <th>hum</th>\n      <th>windspeed</th>\n      <th>casual</th>\n      <th>registered</th>\n      <th>cnt</th>\n    </tr>\n  </thead>\n  <tbody>\n    <tr>\n      <th>17212</th>\n      <td>2012-12-25</td>\n      <td>Spring</td>\n      <td>1</td>\n      <td>12</td>\n      <td>0</td>\n      <td>Yes</td>\n      <td>2</td>\n      <td>No</td>\n      <td>Light Rain</td>\n      <td>0.24</td>\n      <td>0.2576</td>\n      <td>0.93</td>\n      <td>0.0896</td>\n      <td>3</td>\n      <td>10</td>\n      <td>13</td>\n    </tr>\n    <tr>\n      <th>17213</th>\n      <td>2012-12-25</td>\n      <td>Spring</td>\n      <td>1</td>\n      <td>12</td>\n      <td>1</td>\n      <td>Yes</td>\n      <td>2</td>\n      <td>No</td>\n      <td>Cloudy</td>\n      <td>0.26</td>\n      <td>0.2576</td>\n      <td>0.87</td>\n      <td>0.1642</td>\n      <td>0</td>\n      <td>13</td>\n      <td>13</td>\n    </tr>\n    <tr>\n      <th>17214</th>\n      <td>2012-12-25</td>\n      <td>Spring</td>\n      <td>1</td>\n      <td>12</td>\n      <td>2</td>\n      <td>Yes</td>\n      <td>2</td>\n      <td>No</td>\n      <td>Cloudy</td>\n      <td>0.26</td>\n      <td>0.2576</td>\n      <td>0.87</td>\n      <td>0.1642</td>\n      <td>0</td>\n      <td>7</td>\n      <td>7</td>\n    </tr>\n    <tr>\n      <th>17215</th>\n      <td>2012-12-25</td>\n      <td>Spring</td>\n      <td>1</td>\n      <td>12</td>\n      <td>4</td>\n      <td>Yes</td>\n      <td>2</td>\n      <td>No</td>\n      <td>Cloudy</td>\n      <td>0.24</td>\n      <td>0.2576</td>\n      <td>0.87</td>\n      <td>0.0896</td>\n      <td>0</td>\n      <td>1</td>\n      <td>1</td>\n    </tr>\n    <tr>\n      <th>17216</th>\n      <td>2012-12-25</td>\n      <td>Spring</td>\n      <td>1</td>\n      <td>12</td>\n      <td>5</td>\n      <td>Yes</td>\n      <td>2</td>\n      <td>No</td>\n      <td>Cloudy</td>\n      <td>0.22</td>\n      <td>0.2273</td>\n      <td>0.93</td>\n      <td>0.1343</td>\n      <td>2</td>\n      <td>1</td>\n      <td>3</td>\n    </tr>\n    <tr>\n      <th>...</th>\n      <td>...</td>\n      <td>...</td>\n      <td>...</td>\n      <td>...</td>\n      <td>...</td>\n      <td>...</td>\n      <td>...</td>\n      <td>...</td>\n      <td>...</td>\n      <td>...</td>\n      <td>...</td>\n      <td>...</td>\n      <td>...</td>\n      <td>...</td>\n      <td>...</td>\n      <td>...</td>\n    </tr>\n    <tr>\n      <th>17374</th>\n      <td>2012-12-31</td>\n      <td>Spring</td>\n      <td>1</td>\n      <td>12</td>\n      <td>19</td>\n      <td>No</td>\n      <td>1</td>\n      <td>Yes</td>\n      <td>Cloudy</td>\n      <td>0.26</td>\n      <td>0.2576</td>\n      <td>0.60</td>\n      <td>0.1642</td>\n      <td>11</td>\n      <td>108</td>\n      <td>119</td>\n    </tr>\n    <tr>\n      <th>17375</th>\n      <td>2012-12-31</td>\n      <td>Spring</td>\n      <td>1</td>\n      <td>12</td>\n      <td>20</td>\n      <td>No</td>\n      <td>1</td>\n      <td>Yes</td>\n      <td>Cloudy</td>\n      <td>0.26</td>\n      <td>0.2576</td>\n      <td>0.60</td>\n      <td>0.1642</td>\n      <td>8</td>\n      <td>81</td>\n      <td>89</td>\n    </tr>\n    <tr>\n      <th>17376</th>\n      <td>2012-12-31</td>\n      <td>Spring</td>\n      <td>1</td>\n      <td>12</td>\n      <td>21</td>\n      <td>No</td>\n      <td>1</td>\n      <td>Yes</td>\n      <td>Clear</td>\n      <td>0.26</td>\n      <td>0.2576</td>\n      <td>0.60</td>\n      <td>0.1642</td>\n      <td>7</td>\n      <td>83</td>\n      <td>90</td>\n    </tr>\n    <tr>\n      <th>17377</th>\n      <td>2012-12-31</td>\n      <td>Spring</td>\n      <td>1</td>\n      <td>12</td>\n      <td>22</td>\n      <td>No</td>\n      <td>1</td>\n      <td>Yes</td>\n      <td>Clear</td>\n      <td>0.26</td>\n      <td>0.2727</td>\n      <td>0.56</td>\n      <td>0.1343</td>\n      <td>13</td>\n      <td>48</td>\n      <td>61</td>\n    </tr>\n    <tr>\n      <th>17378</th>\n      <td>2012-12-31</td>\n      <td>Spring</td>\n      <td>1</td>\n      <td>12</td>\n      <td>23</td>\n      <td>No</td>\n      <td>1</td>\n      <td>Yes</td>\n      <td>Clear</td>\n      <td>0.26</td>\n      <td>0.2727</td>\n      <td>0.65</td>\n      <td>0.1343</td>\n      <td>12</td>\n      <td>37</td>\n      <td>49</td>\n    </tr>\n  </tbody>\n</table>\n<p>167 rows × 16 columns</p>\n</div>",
      "text/plain": "          dteday  season  yr  mnth  hr holiday  weekday workingday  \\\n17212 2012-12-25  Spring   1    12   0     Yes        2         No   \n17213 2012-12-25  Spring   1    12   1     Yes        2         No   \n17214 2012-12-25  Spring   1    12   2     Yes        2         No   \n17215 2012-12-25  Spring   1    12   4     Yes        2         No   \n17216 2012-12-25  Spring   1    12   5     Yes        2         No   \n...          ...     ...  ..   ...  ..     ...      ...        ...   \n17374 2012-12-31  Spring   1    12  19      No        1        Yes   \n17375 2012-12-31  Spring   1    12  20      No        1        Yes   \n17376 2012-12-31  Spring   1    12  21      No        1        Yes   \n17377 2012-12-31  Spring   1    12  22      No        1        Yes   \n17378 2012-12-31  Spring   1    12  23      No        1        Yes   \n\n       weathersit  temp   atemp   hum  windspeed  casual  registered  cnt  \n17212  Light Rain  0.24  0.2576  0.93     0.0896       3          10   13  \n17213      Cloudy  0.26  0.2576  0.87     0.1642       0          13   13  \n17214      Cloudy  0.26  0.2576  0.87     0.1642       0           7    7  \n17215      Cloudy  0.24  0.2576  0.87     0.0896       0           1    1  \n17216      Cloudy  0.22  0.2273  0.93     0.1343       2           1    3  \n...           ...   ...     ...   ...        ...     ...         ...  ...  \n17374      Cloudy  0.26  0.2576  0.60     0.1642      11         108  119  \n17375      Cloudy  0.26  0.2576  0.60     0.1642       8          81   89  \n17376       Clear  0.26  0.2576  0.60     0.1642       7          83   90  \n17377       Clear  0.26  0.2727  0.56     0.1343      13          48   61  \n17378       Clear  0.26  0.2727  0.65     0.1343      12          37   49  \n\n[167 rows x 16 columns]"
     },
     "execution_count": 41,
     "metadata": {},
     "output_type": "execute_result"
    }
   ],
   "source": [
    "df_lw"
   ]
  },
  {
   "cell_type": "code",
   "execution_count": 42,
   "metadata": {},
   "outputs": [
    {
     "data": {
      "text/plain": "(array([15699., 15700., 15701., 15702., 15703., 15704., 15705.]),\n [Text(0, 0, ''),\n  Text(0, 0, ''),\n  Text(0, 0, ''),\n  Text(0, 0, ''),\n  Text(0, 0, ''),\n  Text(0, 0, ''),\n  Text(0, 0, '')])"
     },
     "execution_count": 42,
     "metadata": {},
     "output_type": "execute_result"
    },
    {
     "data": {
      "image/png": "[encoded data removed]",
      "text/plain": "<Figure size 432x288 with 1 Axes>"
     },
     "metadata": {
      "needs_background": "light"
     },
     "output_type": "display_data"
    }
   ],
   "source": [
    "x = df_lw.dteday\n",
    "y1=df_lw.casual\n",
    "y2=df_lw.registered\n",
    "plt.plot(x,y1,'|-r',x,y2,'|-b')\n",
    "plt.xticks(rotation=45)"
   ]
  }
 ],
 "metadata": {
  "kernelspec": {
   "display_name": "Python 3.9.4 64-bit",
   "name": "python394jvsc74a57bd0dda556e85c8285e16f11e7216a6c1b95df26266b63f433480adfce0aac172184"
  },
  "language_info": {
   "codemirror_mode": {
    "name": "ipython",
    "version": 3
   },
   "file_extension": ".py",
   "mimetype": "text/x-python",
   "name": "python",
   "nbconvert_exporter": "python",
   "pygments_lexer": "ipython3",
   "version": "3.9.5"
  },
  "orig_nbformat": 2
 },
 "nbformat": 4,
 "nbformat_minor": 2
}